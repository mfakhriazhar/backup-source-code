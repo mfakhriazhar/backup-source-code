{
 "cells": [
  {
   "cell_type": "markdown",
   "metadata": {
    "id": "Mnb8raM2f_Ns"
   },
   "source": [
    "# Import Packages"
   ]
  },
  {
   "cell_type": "code",
   "execution_count": 1,
   "metadata": {
    "id": "aqjC2mlYf-LH"
   },
   "outputs": [],
   "source": [
    "import pandas as pd\n",
    "import numpy as np\n",
    "import re\n",
    "\n",
    "import matplotlib.pyplot as plt\n",
    "import seaborn as sns\n",
    "sns.set()"
   ]
  },
  {
   "cell_type": "markdown",
   "metadata": {
    "id": "AME4ssvthL-N"
   },
   "source": [
    "# Import Data"
   ]
  },
  {
   "cell_type": "code",
   "execution_count": 3,
   "metadata": {
    "id": "wt3SXggvhLF8"
   },
   "outputs": [],
   "source": [
    "df = pd.read_csv('Uncleaned_jobs.csv')"
   ]
  },
  {
   "cell_type": "markdown",
   "metadata": {
    "id": "b8Xy1sHqjrnV"
   },
   "source": [
    "# Investigate Information Dataset\n",
    "- head()\n",
    "- tail()\n",
    "- sample()\n",
    "- info()"
   ]
  },
  {
   "cell_type": "code",
   "execution_count": 5,
   "metadata": {
    "colab": {
     "base_uri": "https://localhost:8080/",
     "height": 487
    },
    "id": "NwqIQO9MhQ4q",
    "outputId": "d6fe77a3-b1a9-47b2-92b2-2cd3017b93d6"
   },
   "outputs": [
    {
     "data": {
      "text/html": [
       "<div>\n",
       "<style scoped>\n",
       "    .dataframe tbody tr th:only-of-type {\n",
       "        vertical-align: middle;\n",
       "    }\n",
       "\n",
       "    .dataframe tbody tr th {\n",
       "        vertical-align: top;\n",
       "    }\n",
       "\n",
       "    .dataframe thead th {\n",
       "        text-align: right;\n",
       "    }\n",
       "</style>\n",
       "<table border=\"1\" class=\"dataframe\">\n",
       "  <thead>\n",
       "    <tr style=\"text-align: right;\">\n",
       "      <th></th>\n",
       "      <th>index</th>\n",
       "      <th>Job Title</th>\n",
       "      <th>Salary Estimate</th>\n",
       "      <th>Job Description</th>\n",
       "      <th>Rating</th>\n",
       "      <th>Company Name</th>\n",
       "      <th>Location</th>\n",
       "      <th>Headquarters</th>\n",
       "      <th>Size</th>\n",
       "      <th>Founded</th>\n",
       "      <th>Type of ownership</th>\n",
       "      <th>Industry</th>\n",
       "      <th>Sector</th>\n",
       "      <th>Revenue</th>\n",
       "      <th>Competitors</th>\n",
       "    </tr>\n",
       "  </thead>\n",
       "  <tbody>\n",
       "    <tr>\n",
       "      <th>0</th>\n",
       "      <td>0</td>\n",
       "      <td>Sr Data Scientist</td>\n",
       "      <td>$137K-$171K (Glassdoor est.)</td>\n",
       "      <td>Description\\n\\nThe Senior Data Scientist is re...</td>\n",
       "      <td>3.1</td>\n",
       "      <td>Healthfirst\\n3.1</td>\n",
       "      <td>New York, NY</td>\n",
       "      <td>New York, NY</td>\n",
       "      <td>1001 to 5000 employees</td>\n",
       "      <td>1993</td>\n",
       "      <td>Nonprofit Organization</td>\n",
       "      <td>Insurance Carriers</td>\n",
       "      <td>Insurance</td>\n",
       "      <td>Unknown / Non-Applicable</td>\n",
       "      <td>EmblemHealth, UnitedHealth Group, Aetna</td>\n",
       "    </tr>\n",
       "    <tr>\n",
       "      <th>1</th>\n",
       "      <td>1</td>\n",
       "      <td>Data Scientist</td>\n",
       "      <td>$137K-$171K (Glassdoor est.)</td>\n",
       "      <td>Secure our Nation, Ignite your Future\\n\\nJoin ...</td>\n",
       "      <td>4.2</td>\n",
       "      <td>ManTech\\n4.2</td>\n",
       "      <td>Chantilly, VA</td>\n",
       "      <td>Herndon, VA</td>\n",
       "      <td>5001 to 10000 employees</td>\n",
       "      <td>1968</td>\n",
       "      <td>Company - Public</td>\n",
       "      <td>Research &amp; Development</td>\n",
       "      <td>Business Services</td>\n",
       "      <td>$1 to $2 billion (USD)</td>\n",
       "      <td>-1</td>\n",
       "    </tr>\n",
       "    <tr>\n",
       "      <th>2</th>\n",
       "      <td>2</td>\n",
       "      <td>Data Scientist</td>\n",
       "      <td>$137K-$171K (Glassdoor est.)</td>\n",
       "      <td>Overview\\n\\n\\nAnalysis Group is one of the lar...</td>\n",
       "      <td>3.8</td>\n",
       "      <td>Analysis Group\\n3.8</td>\n",
       "      <td>Boston, MA</td>\n",
       "      <td>Boston, MA</td>\n",
       "      <td>1001 to 5000 employees</td>\n",
       "      <td>1981</td>\n",
       "      <td>Private Practice / Firm</td>\n",
       "      <td>Consulting</td>\n",
       "      <td>Business Services</td>\n",
       "      <td>$100 to $500 million (USD)</td>\n",
       "      <td>-1</td>\n",
       "    </tr>\n",
       "    <tr>\n",
       "      <th>3</th>\n",
       "      <td>3</td>\n",
       "      <td>Data Scientist</td>\n",
       "      <td>$137K-$171K (Glassdoor est.)</td>\n",
       "      <td>JOB DESCRIPTION:\\n\\nDo you have a passion for ...</td>\n",
       "      <td>3.5</td>\n",
       "      <td>INFICON\\n3.5</td>\n",
       "      <td>Newton, MA</td>\n",
       "      <td>Bad Ragaz, Switzerland</td>\n",
       "      <td>501 to 1000 employees</td>\n",
       "      <td>2000</td>\n",
       "      <td>Company - Public</td>\n",
       "      <td>Electrical &amp; Electronic Manufacturing</td>\n",
       "      <td>Manufacturing</td>\n",
       "      <td>$100 to $500 million (USD)</td>\n",
       "      <td>MKS Instruments, Pfeiffer Vacuum, Agilent Tech...</td>\n",
       "    </tr>\n",
       "    <tr>\n",
       "      <th>4</th>\n",
       "      <td>4</td>\n",
       "      <td>Data Scientist</td>\n",
       "      <td>$137K-$171K (Glassdoor est.)</td>\n",
       "      <td>Data Scientist\\nAffinity Solutions / Marketing...</td>\n",
       "      <td>2.9</td>\n",
       "      <td>Affinity Solutions\\n2.9</td>\n",
       "      <td>New York, NY</td>\n",
       "      <td>New York, NY</td>\n",
       "      <td>51 to 200 employees</td>\n",
       "      <td>1998</td>\n",
       "      <td>Company - Private</td>\n",
       "      <td>Advertising &amp; Marketing</td>\n",
       "      <td>Business Services</td>\n",
       "      <td>Unknown / Non-Applicable</td>\n",
       "      <td>Commerce Signals, Cardlytics, Yodlee</td>\n",
       "    </tr>\n",
       "  </tbody>\n",
       "</table>\n",
       "</div>"
      ],
      "text/plain": [
       "   index          Job Title               Salary Estimate  \\\n",
       "0      0  Sr Data Scientist  $137K-$171K (Glassdoor est.)   \n",
       "1      1     Data Scientist  $137K-$171K (Glassdoor est.)   \n",
       "2      2     Data Scientist  $137K-$171K (Glassdoor est.)   \n",
       "3      3     Data Scientist  $137K-$171K (Glassdoor est.)   \n",
       "4      4     Data Scientist  $137K-$171K (Glassdoor est.)   \n",
       "\n",
       "                                     Job Description  Rating  \\\n",
       "0  Description\\n\\nThe Senior Data Scientist is re...     3.1   \n",
       "1  Secure our Nation, Ignite your Future\\n\\nJoin ...     4.2   \n",
       "2  Overview\\n\\n\\nAnalysis Group is one of the lar...     3.8   \n",
       "3  JOB DESCRIPTION:\\n\\nDo you have a passion for ...     3.5   \n",
       "4  Data Scientist\\nAffinity Solutions / Marketing...     2.9   \n",
       "\n",
       "              Company Name       Location            Headquarters  \\\n",
       "0         Healthfirst\\n3.1   New York, NY            New York, NY   \n",
       "1             ManTech\\n4.2  Chantilly, VA             Herndon, VA   \n",
       "2      Analysis Group\\n3.8     Boston, MA              Boston, MA   \n",
       "3             INFICON\\n3.5     Newton, MA  Bad Ragaz, Switzerland   \n",
       "4  Affinity Solutions\\n2.9   New York, NY            New York, NY   \n",
       "\n",
       "                      Size  Founded        Type of ownership  \\\n",
       "0   1001 to 5000 employees     1993   Nonprofit Organization   \n",
       "1  5001 to 10000 employees     1968         Company - Public   \n",
       "2   1001 to 5000 employees     1981  Private Practice / Firm   \n",
       "3    501 to 1000 employees     2000         Company - Public   \n",
       "4      51 to 200 employees     1998        Company - Private   \n",
       "\n",
       "                                Industry             Sector  \\\n",
       "0                     Insurance Carriers          Insurance   \n",
       "1                 Research & Development  Business Services   \n",
       "2                             Consulting  Business Services   \n",
       "3  Electrical & Electronic Manufacturing      Manufacturing   \n",
       "4                Advertising & Marketing  Business Services   \n",
       "\n",
       "                      Revenue  \\\n",
       "0    Unknown / Non-Applicable   \n",
       "1      $1 to $2 billion (USD)   \n",
       "2  $100 to $500 million (USD)   \n",
       "3  $100 to $500 million (USD)   \n",
       "4    Unknown / Non-Applicable   \n",
       "\n",
       "                                         Competitors  \n",
       "0            EmblemHealth, UnitedHealth Group, Aetna  \n",
       "1                                                 -1  \n",
       "2                                                 -1  \n",
       "3  MKS Instruments, Pfeiffer Vacuum, Agilent Tech...  \n",
       "4               Commerce Signals, Cardlytics, Yodlee  "
      ]
     },
     "execution_count": 5,
     "metadata": {},
     "output_type": "execute_result"
    }
   ],
   "source": [
    "# Display the first 5 rows\n",
    "df.head()"
   ]
  },
  {
   "cell_type": "code",
   "execution_count": 7,
   "metadata": {
    "colab": {
     "base_uri": "https://localhost:8080/",
     "height": 435
    },
    "id": "ADF4Pp93hiak",
    "outputId": "733ab843-5575-4ba7-9202-dc9aed44814a"
   },
   "outputs": [
    {
     "data": {
      "text/html": [
       "<div>\n",
       "<style scoped>\n",
       "    .dataframe tbody tr th:only-of-type {\n",
       "        vertical-align: middle;\n",
       "    }\n",
       "\n",
       "    .dataframe tbody tr th {\n",
       "        vertical-align: top;\n",
       "    }\n",
       "\n",
       "    .dataframe thead th {\n",
       "        text-align: right;\n",
       "    }\n",
       "</style>\n",
       "<table border=\"1\" class=\"dataframe\">\n",
       "  <thead>\n",
       "    <tr style=\"text-align: right;\">\n",
       "      <th></th>\n",
       "      <th>index</th>\n",
       "      <th>Job Title</th>\n",
       "      <th>Salary Estimate</th>\n",
       "      <th>Job Description</th>\n",
       "      <th>Rating</th>\n",
       "      <th>Company Name</th>\n",
       "      <th>Location</th>\n",
       "      <th>Headquarters</th>\n",
       "      <th>Size</th>\n",
       "      <th>Founded</th>\n",
       "      <th>Type of ownership</th>\n",
       "      <th>Industry</th>\n",
       "      <th>Sector</th>\n",
       "      <th>Revenue</th>\n",
       "      <th>Competitors</th>\n",
       "    </tr>\n",
       "  </thead>\n",
       "  <tbody>\n",
       "    <tr>\n",
       "      <th>667</th>\n",
       "      <td>667</td>\n",
       "      <td>Data Scientist</td>\n",
       "      <td>$105K-$167K (Glassdoor est.)</td>\n",
       "      <td>Summary\\n\\nWe’re looking for a data scientist ...</td>\n",
       "      <td>3.6</td>\n",
       "      <td>TRANZACT\\n3.6</td>\n",
       "      <td>Fort Lee, NJ</td>\n",
       "      <td>Fort Lee, NJ</td>\n",
       "      <td>1001 to 5000 employees</td>\n",
       "      <td>1989</td>\n",
       "      <td>Company - Private</td>\n",
       "      <td>Advertising &amp; Marketing</td>\n",
       "      <td>Business Services</td>\n",
       "      <td>Unknown / Non-Applicable</td>\n",
       "      <td>-1</td>\n",
       "    </tr>\n",
       "    <tr>\n",
       "      <th>668</th>\n",
       "      <td>668</td>\n",
       "      <td>Data Scientist</td>\n",
       "      <td>$105K-$167K (Glassdoor est.)</td>\n",
       "      <td>Job Description\\nBecome a thought leader withi...</td>\n",
       "      <td>-1.0</td>\n",
       "      <td>JKGT</td>\n",
       "      <td>San Francisco, CA</td>\n",
       "      <td>-1</td>\n",
       "      <td>-1</td>\n",
       "      <td>-1</td>\n",
       "      <td>-1</td>\n",
       "      <td>-1</td>\n",
       "      <td>-1</td>\n",
       "      <td>-1</td>\n",
       "      <td>-1</td>\n",
       "    </tr>\n",
       "    <tr>\n",
       "      <th>669</th>\n",
       "      <td>669</td>\n",
       "      <td>Data Scientist</td>\n",
       "      <td>$105K-$167K (Glassdoor est.)</td>\n",
       "      <td>Join a thriving company that is changing the w...</td>\n",
       "      <td>-1.0</td>\n",
       "      <td>AccessHope</td>\n",
       "      <td>Irwindale, CA</td>\n",
       "      <td>-1</td>\n",
       "      <td>-1</td>\n",
       "      <td>-1</td>\n",
       "      <td>-1</td>\n",
       "      <td>-1</td>\n",
       "      <td>-1</td>\n",
       "      <td>-1</td>\n",
       "      <td>-1</td>\n",
       "    </tr>\n",
       "    <tr>\n",
       "      <th>670</th>\n",
       "      <td>670</td>\n",
       "      <td>Data Scientist</td>\n",
       "      <td>$105K-$167K (Glassdoor est.)</td>\n",
       "      <td>100 Remote Opportunity As an AINLP Data Scient...</td>\n",
       "      <td>5.0</td>\n",
       "      <td>ChaTeck Incorporated\\n5.0</td>\n",
       "      <td>San Francisco, CA</td>\n",
       "      <td>Santa Clara, CA</td>\n",
       "      <td>1 to 50 employees</td>\n",
       "      <td>-1</td>\n",
       "      <td>Company - Private</td>\n",
       "      <td>Advertising &amp; Marketing</td>\n",
       "      <td>Business Services</td>\n",
       "      <td>$1 to $5 million (USD)</td>\n",
       "      <td>-1</td>\n",
       "    </tr>\n",
       "    <tr>\n",
       "      <th>671</th>\n",
       "      <td>671</td>\n",
       "      <td>Data Scientist</td>\n",
       "      <td>$105K-$167K (Glassdoor est.)</td>\n",
       "      <td>Description\\n\\nThe Data Scientist will be part...</td>\n",
       "      <td>2.7</td>\n",
       "      <td>1-800-Flowers\\n2.7</td>\n",
       "      <td>New York, NY</td>\n",
       "      <td>Carle Place, NY</td>\n",
       "      <td>1001 to 5000 employees</td>\n",
       "      <td>1976</td>\n",
       "      <td>Company - Public</td>\n",
       "      <td>Wholesale</td>\n",
       "      <td>Business Services</td>\n",
       "      <td>$1 to $2 billion (USD)</td>\n",
       "      <td>-1</td>\n",
       "    </tr>\n",
       "  </tbody>\n",
       "</table>\n",
       "</div>"
      ],
      "text/plain": [
       "     index       Job Title               Salary Estimate  \\\n",
       "667    667  Data Scientist  $105K-$167K (Glassdoor est.)   \n",
       "668    668  Data Scientist  $105K-$167K (Glassdoor est.)   \n",
       "669    669  Data Scientist  $105K-$167K (Glassdoor est.)   \n",
       "670    670  Data Scientist  $105K-$167K (Glassdoor est.)   \n",
       "671    671  Data Scientist  $105K-$167K (Glassdoor est.)   \n",
       "\n",
       "                                       Job Description  Rating  \\\n",
       "667  Summary\\n\\nWe’re looking for a data scientist ...     3.6   \n",
       "668  Job Description\\nBecome a thought leader withi...    -1.0   \n",
       "669  Join a thriving company that is changing the w...    -1.0   \n",
       "670  100 Remote Opportunity As an AINLP Data Scient...     5.0   \n",
       "671  Description\\n\\nThe Data Scientist will be part...     2.7   \n",
       "\n",
       "                  Company Name           Location     Headquarters  \\\n",
       "667              TRANZACT\\n3.6       Fort Lee, NJ     Fort Lee, NJ   \n",
       "668                       JKGT  San Francisco, CA               -1   \n",
       "669                 AccessHope      Irwindale, CA               -1   \n",
       "670  ChaTeck Incorporated\\n5.0  San Francisco, CA  Santa Clara, CA   \n",
       "671         1-800-Flowers\\n2.7       New York, NY  Carle Place, NY   \n",
       "\n",
       "                       Size  Founded  Type of ownership  \\\n",
       "667  1001 to 5000 employees     1989  Company - Private   \n",
       "668                      -1       -1                 -1   \n",
       "669                      -1       -1                 -1   \n",
       "670       1 to 50 employees       -1  Company - Private   \n",
       "671  1001 to 5000 employees     1976   Company - Public   \n",
       "\n",
       "                    Industry             Sector                   Revenue  \\\n",
       "667  Advertising & Marketing  Business Services  Unknown / Non-Applicable   \n",
       "668                       -1                 -1                        -1   \n",
       "669                       -1                 -1                        -1   \n",
       "670  Advertising & Marketing  Business Services    $1 to $5 million (USD)   \n",
       "671                Wholesale  Business Services    $1 to $2 billion (USD)   \n",
       "\n",
       "    Competitors  \n",
       "667          -1  \n",
       "668          -1  \n",
       "669          -1  \n",
       "670          -1  \n",
       "671          -1  "
      ]
     },
     "execution_count": 7,
     "metadata": {},
     "output_type": "execute_result"
    }
   ],
   "source": [
    "# Display the last 5 rows\n",
    "df.tail()"
   ]
  },
  {
   "cell_type": "code",
   "execution_count": 9,
   "metadata": {
    "colab": {
     "base_uri": "https://localhost:8080/",
     "height": 504
    },
    "id": "GmV3RHHfhjdI",
    "outputId": "3feecd37-7e13-4dd1-8179-0849ae5471b4"
   },
   "outputs": [
    {
     "data": {
      "text/html": [
       "<div>\n",
       "<style scoped>\n",
       "    .dataframe tbody tr th:only-of-type {\n",
       "        vertical-align: middle;\n",
       "    }\n",
       "\n",
       "    .dataframe tbody tr th {\n",
       "        vertical-align: top;\n",
       "    }\n",
       "\n",
       "    .dataframe thead th {\n",
       "        text-align: right;\n",
       "    }\n",
       "</style>\n",
       "<table border=\"1\" class=\"dataframe\">\n",
       "  <thead>\n",
       "    <tr style=\"text-align: right;\">\n",
       "      <th></th>\n",
       "      <th>index</th>\n",
       "      <th>Job Title</th>\n",
       "      <th>Salary Estimate</th>\n",
       "      <th>Job Description</th>\n",
       "      <th>Rating</th>\n",
       "      <th>Company Name</th>\n",
       "      <th>Location</th>\n",
       "      <th>Headquarters</th>\n",
       "      <th>Size</th>\n",
       "      <th>Founded</th>\n",
       "      <th>Type of ownership</th>\n",
       "      <th>Industry</th>\n",
       "      <th>Sector</th>\n",
       "      <th>Revenue</th>\n",
       "      <th>Competitors</th>\n",
       "    </tr>\n",
       "  </thead>\n",
       "  <tbody>\n",
       "    <tr>\n",
       "      <th>650</th>\n",
       "      <td>650</td>\n",
       "      <td>Scientist / Group Lead, Cancer Biology</td>\n",
       "      <td>$92K-$155K (Glassdoor est.)</td>\n",
       "      <td>Scientist / Group Lead, Cancer Biology\\nLocati...</td>\n",
       "      <td>-1.0</td>\n",
       "      <td>Monte Rosa Therapeutics</td>\n",
       "      <td>Cambridge, MA</td>\n",
       "      <td>-1</td>\n",
       "      <td>-1</td>\n",
       "      <td>-1</td>\n",
       "      <td>-1</td>\n",
       "      <td>-1</td>\n",
       "      <td>-1</td>\n",
       "      <td>-1</td>\n",
       "      <td>-1</td>\n",
       "    </tr>\n",
       "    <tr>\n",
       "      <th>217</th>\n",
       "      <td>217</td>\n",
       "      <td>Analytics Manager - Data Mart</td>\n",
       "      <td>$79K-$106K (Glassdoor est.)</td>\n",
       "      <td>We have an opportunity to join the Alliance as...</td>\n",
       "      <td>3.5</td>\n",
       "      <td>Central California Alliance for Health\\n3.5</td>\n",
       "      <td>Scotts Valley, CA</td>\n",
       "      <td>Scotts Valley, CA</td>\n",
       "      <td>501 to 1000 employees</td>\n",
       "      <td>1996</td>\n",
       "      <td>Nonprofit Organization</td>\n",
       "      <td>Health Care Services &amp; Hospitals</td>\n",
       "      <td>Health Care</td>\n",
       "      <td>$500 million to $1 billion (USD)</td>\n",
       "      <td>-1</td>\n",
       "    </tr>\n",
       "    <tr>\n",
       "      <th>283</th>\n",
       "      <td>283</td>\n",
       "      <td>Senior Analyst/Data Scientist</td>\n",
       "      <td>$141K-$225K (Glassdoor est.)</td>\n",
       "      <td>At Edmunds were driven to make car buying easi...</td>\n",
       "      <td>3.4</td>\n",
       "      <td>Edmunds.com\\n3.4</td>\n",
       "      <td>Santa Monica, CA</td>\n",
       "      <td>Santa Monica, CA</td>\n",
       "      <td>501 to 1000 employees</td>\n",
       "      <td>1966</td>\n",
       "      <td>Company - Private</td>\n",
       "      <td>Internet</td>\n",
       "      <td>Information Technology</td>\n",
       "      <td>$100 to $500 million (USD)</td>\n",
       "      <td>TrueCar, Cars.com, Kelley Blue Book</td>\n",
       "    </tr>\n",
       "    <tr>\n",
       "      <th>578</th>\n",
       "      <td>578</td>\n",
       "      <td>Cloud Data Engineer (Azure)</td>\n",
       "      <td>$138K-$158K (Glassdoor est.)</td>\n",
       "      <td>YOUR LIFE'S MISSION: POSSIBLE\\n\\nYou have goal...</td>\n",
       "      <td>3.9</td>\n",
       "      <td>Navy Federal Credit Union\\n3.9</td>\n",
       "      <td>Merrifield, VA</td>\n",
       "      <td>Vienna, VA</td>\n",
       "      <td>10000+ employees</td>\n",
       "      <td>1933</td>\n",
       "      <td>Other Organization</td>\n",
       "      <td>Banks &amp; Credit Unions</td>\n",
       "      <td>Finance</td>\n",
       "      <td>Unknown / Non-Applicable</td>\n",
       "      <td>-1</td>\n",
       "    </tr>\n",
       "    <tr>\n",
       "      <th>421</th>\n",
       "      <td>421</td>\n",
       "      <td>Analytics - Business Assurance Data Analyst</td>\n",
       "      <td>$124K-$198K (Glassdoor est.)</td>\n",
       "      <td>Analytics - Business Assurance Data Analyst (C...</td>\n",
       "      <td>4.6</td>\n",
       "      <td>GreatAmerica Financial Services\\n4.6</td>\n",
       "      <td>Cedar Rapids, IA</td>\n",
       "      <td>Cedar Rapids, IA</td>\n",
       "      <td>501 to 1000 employees</td>\n",
       "      <td>1992</td>\n",
       "      <td>Company - Private</td>\n",
       "      <td>Lending</td>\n",
       "      <td>Finance</td>\n",
       "      <td>$100 to $500 million (USD)</td>\n",
       "      <td>-1</td>\n",
       "    </tr>\n",
       "    <tr>\n",
       "      <th>335</th>\n",
       "      <td>335</td>\n",
       "      <td>Data Scientist</td>\n",
       "      <td>$79K-$147K (Glassdoor est.)</td>\n",
       "      <td>One of the largest health insurers in the nati...</td>\n",
       "      <td>3.4</td>\n",
       "      <td>Solving IT International Inc\\n3.4</td>\n",
       "      <td>Chicago, IL</td>\n",
       "      <td>Chicago, IL</td>\n",
       "      <td>501 to 1000 employees</td>\n",
       "      <td>-1</td>\n",
       "      <td>Company - Private</td>\n",
       "      <td>-1</td>\n",
       "      <td>-1</td>\n",
       "      <td>Unknown / Non-Applicable</td>\n",
       "      <td>-1</td>\n",
       "    </tr>\n",
       "    <tr>\n",
       "      <th>658</th>\n",
       "      <td>658</td>\n",
       "      <td>Data Scientist</td>\n",
       "      <td>$105K-$167K (Glassdoor est.)</td>\n",
       "      <td>The work is in support of targeting and watchl...</td>\n",
       "      <td>3.8</td>\n",
       "      <td>Aveshka, Inc.\\n3.8</td>\n",
       "      <td>Washington, DC</td>\n",
       "      <td>Arlington, VA</td>\n",
       "      <td>51 to 200 employees</td>\n",
       "      <td>2010</td>\n",
       "      <td>Company - Public</td>\n",
       "      <td>IT Services</td>\n",
       "      <td>Information Technology</td>\n",
       "      <td>$10 to $25 million (USD)</td>\n",
       "      <td>-1</td>\n",
       "    </tr>\n",
       "  </tbody>\n",
       "</table>\n",
       "</div>"
      ],
      "text/plain": [
       "     index                                    Job Title  \\\n",
       "650    650       Scientist / Group Lead, Cancer Biology   \n",
       "217    217                Analytics Manager - Data Mart   \n",
       "283    283                Senior Analyst/Data Scientist   \n",
       "578    578                  Cloud Data Engineer (Azure)   \n",
       "421    421  Analytics - Business Assurance Data Analyst   \n",
       "335    335                               Data Scientist   \n",
       "658    658                               Data Scientist   \n",
       "\n",
       "                  Salary Estimate  \\\n",
       "650   $92K-$155K (Glassdoor est.)   \n",
       "217   $79K-$106K (Glassdoor est.)   \n",
       "283  $141K-$225K (Glassdoor est.)   \n",
       "578  $138K-$158K (Glassdoor est.)   \n",
       "421  $124K-$198K (Glassdoor est.)   \n",
       "335   $79K-$147K (Glassdoor est.)   \n",
       "658  $105K-$167K (Glassdoor est.)   \n",
       "\n",
       "                                       Job Description  Rating  \\\n",
       "650  Scientist / Group Lead, Cancer Biology\\nLocati...    -1.0   \n",
       "217  We have an opportunity to join the Alliance as...     3.5   \n",
       "283  At Edmunds were driven to make car buying easi...     3.4   \n",
       "578  YOUR LIFE'S MISSION: POSSIBLE\\n\\nYou have goal...     3.9   \n",
       "421  Analytics - Business Assurance Data Analyst (C...     4.6   \n",
       "335  One of the largest health insurers in the nati...     3.4   \n",
       "658  The work is in support of targeting and watchl...     3.8   \n",
       "\n",
       "                                    Company Name           Location  \\\n",
       "650                      Monte Rosa Therapeutics      Cambridge, MA   \n",
       "217  Central California Alliance for Health\\n3.5  Scotts Valley, CA   \n",
       "283                             Edmunds.com\\n3.4   Santa Monica, CA   \n",
       "578               Navy Federal Credit Union\\n3.9     Merrifield, VA   \n",
       "421         GreatAmerica Financial Services\\n4.6   Cedar Rapids, IA   \n",
       "335            Solving IT International Inc\\n3.4        Chicago, IL   \n",
       "658                           Aveshka, Inc.\\n3.8     Washington, DC   \n",
       "\n",
       "          Headquarters                   Size  Founded  \\\n",
       "650                 -1                     -1       -1   \n",
       "217  Scotts Valley, CA  501 to 1000 employees     1996   \n",
       "283   Santa Monica, CA  501 to 1000 employees     1966   \n",
       "578         Vienna, VA       10000+ employees     1933   \n",
       "421   Cedar Rapids, IA  501 to 1000 employees     1992   \n",
       "335        Chicago, IL  501 to 1000 employees       -1   \n",
       "658      Arlington, VA    51 to 200 employees     2010   \n",
       "\n",
       "          Type of ownership                          Industry  \\\n",
       "650                      -1                                -1   \n",
       "217  Nonprofit Organization  Health Care Services & Hospitals   \n",
       "283       Company - Private                          Internet   \n",
       "578      Other Organization             Banks & Credit Unions   \n",
       "421       Company - Private                           Lending   \n",
       "335       Company - Private                                -1   \n",
       "658        Company - Public                       IT Services   \n",
       "\n",
       "                     Sector                           Revenue  \\\n",
       "650                      -1                                -1   \n",
       "217             Health Care  $500 million to $1 billion (USD)   \n",
       "283  Information Technology        $100 to $500 million (USD)   \n",
       "578                 Finance          Unknown / Non-Applicable   \n",
       "421                 Finance        $100 to $500 million (USD)   \n",
       "335                      -1          Unknown / Non-Applicable   \n",
       "658  Information Technology          $10 to $25 million (USD)   \n",
       "\n",
       "                             Competitors  \n",
       "650                                   -1  \n",
       "217                                   -1  \n",
       "283  TrueCar, Cars.com, Kelley Blue Book  \n",
       "578                                   -1  \n",
       "421                                   -1  \n",
       "335                                   -1  \n",
       "658                                   -1  "
      ]
     },
     "execution_count": 9,
     "metadata": {},
     "output_type": "execute_result"
    }
   ],
   "source": [
    "# Display 7 random rows\n",
    "df.sample(7)"
   ]
  },
  {
   "cell_type": "code",
   "execution_count": 11,
   "metadata": {
    "colab": {
     "base_uri": "https://localhost:8080/"
    },
    "id": "_D47Bof7h4t0",
    "outputId": "867762b0-1c91-477e-f743-e312f64e28d9"
   },
   "outputs": [
    {
     "name": "stdout",
     "output_type": "stream",
     "text": [
      "<class 'pandas.core.frame.DataFrame'>\n",
      "RangeIndex: 672 entries, 0 to 671\n",
      "Data columns (total 15 columns):\n",
      " #   Column             Non-Null Count  Dtype  \n",
      "---  ------             --------------  -----  \n",
      " 0   index              672 non-null    int64  \n",
      " 1   Job Title          672 non-null    object \n",
      " 2   Salary Estimate    672 non-null    object \n",
      " 3   Job Description    672 non-null    object \n",
      " 4   Rating             672 non-null    float64\n",
      " 5   Company Name       672 non-null    object \n",
      " 6   Location           672 non-null    object \n",
      " 7   Headquarters       672 non-null    object \n",
      " 8   Size               672 non-null    object \n",
      " 9   Founded            672 non-null    int64  \n",
      " 10  Type of ownership  672 non-null    object \n",
      " 11  Industry           672 non-null    object \n",
      " 12  Sector             672 non-null    object \n",
      " 13  Revenue            672 non-null    object \n",
      " 14  Competitors        672 non-null    object \n",
      "dtypes: float64(1), int64(2), object(12)\n",
      "memory usage: 78.9+ KB\n"
     ]
    }
   ],
   "source": [
    "# Get the dataframe's info\n",
    "# (number of rows, column name & type, number of missing rows per column, memory usage)\n",
    "df.info()"
   ]
  },
  {
   "cell_type": "code",
   "execution_count": 13,
   "metadata": {
    "id": "Q9L3tzGsSOLU",
    "outputId": "3a32e1fe-1369-448e-eb59-c7f764ea0d2c"
   },
   "outputs": [
    {
     "name": "stdout",
     "output_type": "stream",
     "text": [
      "-1\n"
     ]
    }
   ],
   "source": [
    "print('-1')"
   ]
  },
  {
   "cell_type": "code",
   "execution_count": 15,
   "metadata": {
    "id": "jNVya8-JSOLU",
    "outputId": "51987188-9309-4233-90bb-dce269450959"
   },
   "outputs": [
    {
     "name": "stdout",
     "output_type": "stream",
     "text": [
      "-1\n"
     ]
    }
   ],
   "source": [
    "print(-1)"
   ]
  },
  {
   "cell_type": "code",
   "execution_count": 17,
   "metadata": {
    "id": "EL7JUVbUSOLV",
    "outputId": "f01e9ffe-b2b5-4c3e-f643-d47b6bc3cddc"
   },
   "outputs": [
    {
     "data": {
      "text/plain": [
       "index                0\n",
       "Job Title            0\n",
       "Salary Estimate      0\n",
       "Job Description      0\n",
       "Rating               0\n",
       "Company Name         0\n",
       "Location             0\n",
       "Headquarters         0\n",
       "Size                 0\n",
       "Founded              0\n",
       "Type of ownership    0\n",
       "Industry             0\n",
       "Sector               0\n",
       "Revenue              0\n",
       "Competitors          0\n",
       "dtype: int64"
      ]
     },
     "execution_count": 17,
     "metadata": {},
     "output_type": "execute_result"
    }
   ],
   "source": [
    "## checking missing value\n",
    "df.isna().sum()"
   ]
  },
  {
   "cell_type": "code",
   "execution_count": 19,
   "metadata": {
    "id": "_IdrxXyMSOLV",
    "outputId": "e04bb910-6f43-47ec-a26c-71a0fc8919f1"
   },
   "outputs": [
    {
     "data": {
      "text/plain": [
       "index                0\n",
       "Job Title            0\n",
       "Salary Estimate      0\n",
       "Job Description      0\n",
       "Rating               0\n",
       "Company Name         0\n",
       "Location             0\n",
       "Headquarters         0\n",
       "Size                 0\n",
       "Founded              0\n",
       "Type of ownership    0\n",
       "Industry             0\n",
       "Sector               0\n",
       "Revenue              0\n",
       "Competitors          0\n",
       "dtype: int64"
      ]
     },
     "execution_count": 19,
     "metadata": {},
     "output_type": "execute_result"
    }
   ],
   "source": [
    "## checking missing value\n",
    "df.isnull().sum()"
   ]
  },
  {
   "cell_type": "markdown",
   "metadata": {
    "id": "DikyIoQxjqTM"
   },
   "source": [
    "# Missing Values Investigation"
   ]
  },
  {
   "cell_type": "markdown",
   "metadata": {
    "id": "jNdWlvCTijP9"
   },
   "source": [
    "The type of missing value checked by pandas `.info()` method is only when the value is `NaN`. However, as we can see from the `.head()`, `.tail()` and `.sample(5) or another value` outputs, there are `-1` in several rows and columns. Those are also missing values, but instead of `NaN` the value is filled with `-1`."
   ]
  },
  {
   "cell_type": "code",
   "execution_count": 21,
   "metadata": {
    "colab": {
     "base_uri": "https://localhost:8080/",
     "height": 913
    },
    "id": "5VbDRujYiTtH",
    "outputId": "1b9a3aea-91b2-47f3-f023-8c99ea9546a7"
   },
   "outputs": [
    {
     "data": {
      "text/html": [
       "<div>\n",
       "<style scoped>\n",
       "    .dataframe tbody tr th:only-of-type {\n",
       "        vertical-align: middle;\n",
       "    }\n",
       "\n",
       "    .dataframe tbody tr th {\n",
       "        vertical-align: top;\n",
       "    }\n",
       "\n",
       "    .dataframe thead th {\n",
       "        text-align: right;\n",
       "    }\n",
       "</style>\n",
       "<table border=\"1\" class=\"dataframe\">\n",
       "  <thead>\n",
       "    <tr style=\"text-align: right;\">\n",
       "      <th></th>\n",
       "      <th>index</th>\n",
       "      <th>Job Title</th>\n",
       "      <th>Salary Estimate</th>\n",
       "      <th>Job Description</th>\n",
       "      <th>Rating</th>\n",
       "      <th>Company Name</th>\n",
       "      <th>Location</th>\n",
       "      <th>Headquarters</th>\n",
       "      <th>Size</th>\n",
       "      <th>Founded</th>\n",
       "      <th>Type of ownership</th>\n",
       "      <th>Industry</th>\n",
       "      <th>Sector</th>\n",
       "      <th>Revenue</th>\n",
       "      <th>Competitors</th>\n",
       "    </tr>\n",
       "  </thead>\n",
       "  <tbody>\n",
       "    <tr>\n",
       "      <th>1</th>\n",
       "      <td>1</td>\n",
       "      <td>Data Scientist</td>\n",
       "      <td>$137K-$171K (Glassdoor est.)</td>\n",
       "      <td>Secure our Nation, Ignite your Future\\n\\nJoin ...</td>\n",
       "      <td>4.2</td>\n",
       "      <td>ManTech\\n4.2</td>\n",
       "      <td>Chantilly, VA</td>\n",
       "      <td>Herndon, VA</td>\n",
       "      <td>5001 to 10000 employees</td>\n",
       "      <td>1968</td>\n",
       "      <td>Company - Public</td>\n",
       "      <td>Research &amp; Development</td>\n",
       "      <td>Business Services</td>\n",
       "      <td>$1 to $2 billion (USD)</td>\n",
       "      <td>-1</td>\n",
       "    </tr>\n",
       "    <tr>\n",
       "      <th>2</th>\n",
       "      <td>2</td>\n",
       "      <td>Data Scientist</td>\n",
       "      <td>$137K-$171K (Glassdoor est.)</td>\n",
       "      <td>Overview\\n\\n\\nAnalysis Group is one of the lar...</td>\n",
       "      <td>3.8</td>\n",
       "      <td>Analysis Group\\n3.8</td>\n",
       "      <td>Boston, MA</td>\n",
       "      <td>Boston, MA</td>\n",
       "      <td>1001 to 5000 employees</td>\n",
       "      <td>1981</td>\n",
       "      <td>Private Practice / Firm</td>\n",
       "      <td>Consulting</td>\n",
       "      <td>Business Services</td>\n",
       "      <td>$100 to $500 million (USD)</td>\n",
       "      <td>-1</td>\n",
       "    </tr>\n",
       "    <tr>\n",
       "      <th>5</th>\n",
       "      <td>5</td>\n",
       "      <td>Data Scientist</td>\n",
       "      <td>$137K-$171K (Glassdoor est.)</td>\n",
       "      <td>About Us:\\n\\nHeadquartered in beautiful Santa ...</td>\n",
       "      <td>4.2</td>\n",
       "      <td>HG Insights\\n4.2</td>\n",
       "      <td>Santa Barbara, CA</td>\n",
       "      <td>Santa Barbara, CA</td>\n",
       "      <td>51 to 200 employees</td>\n",
       "      <td>2010</td>\n",
       "      <td>Company - Private</td>\n",
       "      <td>Computer Hardware &amp; Software</td>\n",
       "      <td>Information Technology</td>\n",
       "      <td>Unknown / Non-Applicable</td>\n",
       "      <td>-1</td>\n",
       "    </tr>\n",
       "    <tr>\n",
       "      <th>6</th>\n",
       "      <td>6</td>\n",
       "      <td>Data Scientist / Machine Learning Expert</td>\n",
       "      <td>$137K-$171K (Glassdoor est.)</td>\n",
       "      <td>Posting Title\\nData Scientist / Machine Learni...</td>\n",
       "      <td>3.9</td>\n",
       "      <td>Novartis\\n3.9</td>\n",
       "      <td>Cambridge, MA</td>\n",
       "      <td>Basel, Switzerland</td>\n",
       "      <td>10000+ employees</td>\n",
       "      <td>1996</td>\n",
       "      <td>Company - Public</td>\n",
       "      <td>Biotech &amp; Pharmaceuticals</td>\n",
       "      <td>Biotech &amp; Pharmaceuticals</td>\n",
       "      <td>$10+ billion (USD)</td>\n",
       "      <td>-1</td>\n",
       "    </tr>\n",
       "    <tr>\n",
       "      <th>7</th>\n",
       "      <td>7</td>\n",
       "      <td>Data Scientist</td>\n",
       "      <td>$137K-$171K (Glassdoor est.)</td>\n",
       "      <td>Introduction\\n\\nHave you always wanted to run ...</td>\n",
       "      <td>3.5</td>\n",
       "      <td>iRobot\\n3.5</td>\n",
       "      <td>Bedford, MA</td>\n",
       "      <td>Bedford, MA</td>\n",
       "      <td>1001 to 5000 employees</td>\n",
       "      <td>1990</td>\n",
       "      <td>Company - Public</td>\n",
       "      <td>Consumer Electronics &amp; Appliances Stores</td>\n",
       "      <td>Retail</td>\n",
       "      <td>$1 to $2 billion (USD)</td>\n",
       "      <td>-1</td>\n",
       "    </tr>\n",
       "    <tr>\n",
       "      <th>...</th>\n",
       "      <td>...</td>\n",
       "      <td>...</td>\n",
       "      <td>...</td>\n",
       "      <td>...</td>\n",
       "      <td>...</td>\n",
       "      <td>...</td>\n",
       "      <td>...</td>\n",
       "      <td>...</td>\n",
       "      <td>...</td>\n",
       "      <td>...</td>\n",
       "      <td>...</td>\n",
       "      <td>...</td>\n",
       "      <td>...</td>\n",
       "      <td>...</td>\n",
       "      <td>...</td>\n",
       "    </tr>\n",
       "    <tr>\n",
       "      <th>667</th>\n",
       "      <td>667</td>\n",
       "      <td>Data Scientist</td>\n",
       "      <td>$105K-$167K (Glassdoor est.)</td>\n",
       "      <td>Summary\\n\\nWe’re looking for a data scientist ...</td>\n",
       "      <td>3.6</td>\n",
       "      <td>TRANZACT\\n3.6</td>\n",
       "      <td>Fort Lee, NJ</td>\n",
       "      <td>Fort Lee, NJ</td>\n",
       "      <td>1001 to 5000 employees</td>\n",
       "      <td>1989</td>\n",
       "      <td>Company - Private</td>\n",
       "      <td>Advertising &amp; Marketing</td>\n",
       "      <td>Business Services</td>\n",
       "      <td>Unknown / Non-Applicable</td>\n",
       "      <td>-1</td>\n",
       "    </tr>\n",
       "    <tr>\n",
       "      <th>668</th>\n",
       "      <td>668</td>\n",
       "      <td>Data Scientist</td>\n",
       "      <td>$105K-$167K (Glassdoor est.)</td>\n",
       "      <td>Job Description\\nBecome a thought leader withi...</td>\n",
       "      <td>-1.0</td>\n",
       "      <td>JKGT</td>\n",
       "      <td>San Francisco, CA</td>\n",
       "      <td>-1</td>\n",
       "      <td>-1</td>\n",
       "      <td>-1</td>\n",
       "      <td>-1</td>\n",
       "      <td>-1</td>\n",
       "      <td>-1</td>\n",
       "      <td>-1</td>\n",
       "      <td>-1</td>\n",
       "    </tr>\n",
       "    <tr>\n",
       "      <th>669</th>\n",
       "      <td>669</td>\n",
       "      <td>Data Scientist</td>\n",
       "      <td>$105K-$167K (Glassdoor est.)</td>\n",
       "      <td>Join a thriving company that is changing the w...</td>\n",
       "      <td>-1.0</td>\n",
       "      <td>AccessHope</td>\n",
       "      <td>Irwindale, CA</td>\n",
       "      <td>-1</td>\n",
       "      <td>-1</td>\n",
       "      <td>-1</td>\n",
       "      <td>-1</td>\n",
       "      <td>-1</td>\n",
       "      <td>-1</td>\n",
       "      <td>-1</td>\n",
       "      <td>-1</td>\n",
       "    </tr>\n",
       "    <tr>\n",
       "      <th>670</th>\n",
       "      <td>670</td>\n",
       "      <td>Data Scientist</td>\n",
       "      <td>$105K-$167K (Glassdoor est.)</td>\n",
       "      <td>100 Remote Opportunity As an AINLP Data Scient...</td>\n",
       "      <td>5.0</td>\n",
       "      <td>ChaTeck Incorporated\\n5.0</td>\n",
       "      <td>San Francisco, CA</td>\n",
       "      <td>Santa Clara, CA</td>\n",
       "      <td>1 to 50 employees</td>\n",
       "      <td>-1</td>\n",
       "      <td>Company - Private</td>\n",
       "      <td>Advertising &amp; Marketing</td>\n",
       "      <td>Business Services</td>\n",
       "      <td>$1 to $5 million (USD)</td>\n",
       "      <td>-1</td>\n",
       "    </tr>\n",
       "    <tr>\n",
       "      <th>671</th>\n",
       "      <td>671</td>\n",
       "      <td>Data Scientist</td>\n",
       "      <td>$105K-$167K (Glassdoor est.)</td>\n",
       "      <td>Description\\n\\nThe Data Scientist will be part...</td>\n",
       "      <td>2.7</td>\n",
       "      <td>1-800-Flowers\\n2.7</td>\n",
       "      <td>New York, NY</td>\n",
       "      <td>Carle Place, NY</td>\n",
       "      <td>1001 to 5000 employees</td>\n",
       "      <td>1976</td>\n",
       "      <td>Company - Public</td>\n",
       "      <td>Wholesale</td>\n",
       "      <td>Business Services</td>\n",
       "      <td>$1 to $2 billion (USD)</td>\n",
       "      <td>-1</td>\n",
       "    </tr>\n",
       "  </tbody>\n",
       "</table>\n",
       "<p>505 rows × 15 columns</p>\n",
       "</div>"
      ],
      "text/plain": [
       "     index                                 Job Title  \\\n",
       "1        1                            Data Scientist   \n",
       "2        2                            Data Scientist   \n",
       "5        5                            Data Scientist   \n",
       "6        6  Data Scientist / Machine Learning Expert   \n",
       "7        7                            Data Scientist   \n",
       "..     ...                                       ...   \n",
       "667    667                            Data Scientist   \n",
       "668    668                            Data Scientist   \n",
       "669    669                            Data Scientist   \n",
       "670    670                            Data Scientist   \n",
       "671    671                            Data Scientist   \n",
       "\n",
       "                  Salary Estimate  \\\n",
       "1    $137K-$171K (Glassdoor est.)   \n",
       "2    $137K-$171K (Glassdoor est.)   \n",
       "5    $137K-$171K (Glassdoor est.)   \n",
       "6    $137K-$171K (Glassdoor est.)   \n",
       "7    $137K-$171K (Glassdoor est.)   \n",
       "..                            ...   \n",
       "667  $105K-$167K (Glassdoor est.)   \n",
       "668  $105K-$167K (Glassdoor est.)   \n",
       "669  $105K-$167K (Glassdoor est.)   \n",
       "670  $105K-$167K (Glassdoor est.)   \n",
       "671  $105K-$167K (Glassdoor est.)   \n",
       "\n",
       "                                       Job Description  Rating  \\\n",
       "1    Secure our Nation, Ignite your Future\\n\\nJoin ...     4.2   \n",
       "2    Overview\\n\\n\\nAnalysis Group is one of the lar...     3.8   \n",
       "5    About Us:\\n\\nHeadquartered in beautiful Santa ...     4.2   \n",
       "6    Posting Title\\nData Scientist / Machine Learni...     3.9   \n",
       "7    Introduction\\n\\nHave you always wanted to run ...     3.5   \n",
       "..                                                 ...     ...   \n",
       "667  Summary\\n\\nWe’re looking for a data scientist ...     3.6   \n",
       "668  Job Description\\nBecome a thought leader withi...    -1.0   \n",
       "669  Join a thriving company that is changing the w...    -1.0   \n",
       "670  100 Remote Opportunity As an AINLP Data Scient...     5.0   \n",
       "671  Description\\n\\nThe Data Scientist will be part...     2.7   \n",
       "\n",
       "                  Company Name           Location        Headquarters  \\\n",
       "1                 ManTech\\n4.2      Chantilly, VA         Herndon, VA   \n",
       "2          Analysis Group\\n3.8         Boston, MA          Boston, MA   \n",
       "5             HG Insights\\n4.2  Santa Barbara, CA   Santa Barbara, CA   \n",
       "6                Novartis\\n3.9      Cambridge, MA  Basel, Switzerland   \n",
       "7                  iRobot\\n3.5        Bedford, MA         Bedford, MA   \n",
       "..                         ...                ...                 ...   \n",
       "667              TRANZACT\\n3.6       Fort Lee, NJ        Fort Lee, NJ   \n",
       "668                       JKGT  San Francisco, CA                  -1   \n",
       "669                 AccessHope      Irwindale, CA                  -1   \n",
       "670  ChaTeck Incorporated\\n5.0  San Francisco, CA     Santa Clara, CA   \n",
       "671         1-800-Flowers\\n2.7       New York, NY     Carle Place, NY   \n",
       "\n",
       "                        Size  Founded        Type of ownership  \\\n",
       "1    5001 to 10000 employees     1968         Company - Public   \n",
       "2     1001 to 5000 employees     1981  Private Practice / Firm   \n",
       "5        51 to 200 employees     2010        Company - Private   \n",
       "6           10000+ employees     1996         Company - Public   \n",
       "7     1001 to 5000 employees     1990         Company - Public   \n",
       "..                       ...      ...                      ...   \n",
       "667   1001 to 5000 employees     1989        Company - Private   \n",
       "668                       -1       -1                       -1   \n",
       "669                       -1       -1                       -1   \n",
       "670        1 to 50 employees       -1        Company - Private   \n",
       "671   1001 to 5000 employees     1976         Company - Public   \n",
       "\n",
       "                                     Industry                     Sector  \\\n",
       "1                      Research & Development          Business Services   \n",
       "2                                  Consulting          Business Services   \n",
       "5                Computer Hardware & Software     Information Technology   \n",
       "6                   Biotech & Pharmaceuticals  Biotech & Pharmaceuticals   \n",
       "7    Consumer Electronics & Appliances Stores                     Retail   \n",
       "..                                        ...                        ...   \n",
       "667                   Advertising & Marketing          Business Services   \n",
       "668                                        -1                         -1   \n",
       "669                                        -1                         -1   \n",
       "670                   Advertising & Marketing          Business Services   \n",
       "671                                 Wholesale          Business Services   \n",
       "\n",
       "                        Revenue Competitors  \n",
       "1        $1 to $2 billion (USD)          -1  \n",
       "2    $100 to $500 million (USD)          -1  \n",
       "5      Unknown / Non-Applicable          -1  \n",
       "6            $10+ billion (USD)          -1  \n",
       "7        $1 to $2 billion (USD)          -1  \n",
       "..                          ...         ...  \n",
       "667    Unknown / Non-Applicable          -1  \n",
       "668                          -1          -1  \n",
       "669                          -1          -1  \n",
       "670      $1 to $5 million (USD)          -1  \n",
       "671      $1 to $2 billion (USD)          -1  \n",
       "\n",
       "[505 rows x 15 columns]"
      ]
     },
     "execution_count": 21,
     "metadata": {},
     "output_type": "execute_result"
    }
   ],
   "source": [
    "# Print all rows that has -1 in atleast one of the columns\n",
    "df[df.isin(['-1',-1]).any(axis=1)]"
   ]
  },
  {
   "cell_type": "markdown",
   "metadata": {
    "id": "Q47tFcqhlcSV"
   },
   "source": [
    "But how can we be sure that -1 is the only value that correspond to missing values in this dataset?"
   ]
  },
  {
   "cell_type": "code",
   "execution_count": 23,
   "metadata": {
    "id": "YfUwHGiESOLX",
    "outputId": "296075be-c6b2-4d4d-8e29-25550c7d04e1"
   },
   "outputs": [
    {
     "data": {
      "text/plain": [
       "Index(['index', 'Job Title', 'Salary Estimate', 'Job Description', 'Rating',\n",
       "       'Company Name', 'Location', 'Headquarters', 'Size', 'Founded',\n",
       "       'Type of ownership', 'Industry', 'Sector', 'Revenue', 'Competitors'],\n",
       "      dtype='object')"
      ]
     },
     "execution_count": 23,
     "metadata": {},
     "output_type": "execute_result"
    }
   ],
   "source": [
    "df.columns"
   ]
  },
  {
   "cell_type": "code",
   "execution_count": 25,
   "metadata": {
    "id": "3c_d8jrFSOLX",
    "outputId": "cfbf917d-fa37-4838-d9c7-ceab137720b7"
   },
   "outputs": [
    {
     "data": {
      "text/plain": [
       "Job Title\n",
       "Data Scientist                                            337\n",
       "Data Engineer                                              26\n",
       "Senior Data Scientist                                      19\n",
       "Machine Learning Engineer                                  16\n",
       "Data Analyst                                               12\n",
       "                                                         ... \n",
       "Data Science Instructor                                     1\n",
       "Business Data Analyst                                       1\n",
       "Purification Scientist                                      1\n",
       "Data Engineer, Enterprise Analytics                         1\n",
       "AI/ML - Machine Learning Scientist, Siri Understanding      1\n",
       "Name: count, Length: 172, dtype: int64"
      ]
     },
     "execution_count": 25,
     "metadata": {},
     "output_type": "execute_result"
    }
   ],
   "source": [
    "df['Job Title'].value_counts()"
   ]
  },
  {
   "cell_type": "code",
   "execution_count": 27,
   "metadata": {
    "colab": {
     "base_uri": "https://localhost:8080/",
     "height": 1000
    },
    "id": "BlsxfZ0FliWE",
    "outputId": "3604b989-9143-4d87-9387-2b838cdfb3af"
   },
   "outputs": [
    {
     "name": "stdout",
     "output_type": "stream",
     "text": [
      "============= index =================\n"
     ]
    },
    {
     "data": {
      "text/plain": [
       "index\n",
       "0      1\n",
       "451    1\n",
       "443    1\n",
       "444    1\n",
       "445    1\n",
       "      ..\n",
       "225    1\n",
       "226    1\n",
       "227    1\n",
       "228    1\n",
       "671    1\n",
       "Name: count, Length: 672, dtype: int64"
      ]
     },
     "metadata": {},
     "output_type": "display_data"
    },
    {
     "name": "stdout",
     "output_type": "stream",
     "text": [
      "\n",
      "============= Job Title =================\n"
     ]
    },
    {
     "data": {
      "text/plain": [
       "Job Title\n",
       "Data Scientist                                            337\n",
       "Data Engineer                                              26\n",
       "Senior Data Scientist                                      19\n",
       "Machine Learning Engineer                                  16\n",
       "Data Analyst                                               12\n",
       "                                                         ... \n",
       "Data Science Instructor                                     1\n",
       "Business Data Analyst                                       1\n",
       "Purification Scientist                                      1\n",
       "Data Engineer, Enterprise Analytics                         1\n",
       "AI/ML - Machine Learning Scientist, Siri Understanding      1\n",
       "Name: count, Length: 172, dtype: int64"
      ]
     },
     "metadata": {},
     "output_type": "display_data"
    },
    {
     "name": "stdout",
     "output_type": "stream",
     "text": [
      "\n",
      "============= Salary Estimate =================\n"
     ]
    },
    {
     "data": {
      "text/plain": [
       "Salary Estimate\n",
       "$79K-$131K (Glassdoor est.)     32\n",
       "$99K-$132K (Glassdoor est.)     32\n",
       "$75K-$131K (Glassdoor est.)     32\n",
       "$137K-$171K (Glassdoor est.)    30\n",
       "$90K-$109K (Glassdoor est.)     30\n",
       "$56K-$97K (Glassdoor est.)      22\n",
       "$79K-$106K (Glassdoor est.)     22\n",
       "$90K-$124K (Glassdoor est.)     22\n",
       "$110K-$163K (Glassdoor est.)    21\n",
       "$92K-$155K (Glassdoor est.)     21\n",
       "$138K-$158K (Glassdoor est.)    21\n",
       "$128K-$201K (Glassdoor est.)    21\n",
       "$212K-$331K (Glassdoor est.)    21\n",
       "$95K-$119K (Glassdoor est.)     21\n",
       "$69K-$116K (Glassdoor est.)     21\n",
       "$124K-$198K (Glassdoor est.)    21\n",
       "$112K-$116K (Glassdoor est.)    21\n",
       "$122K-$146K (Glassdoor est.)    21\n",
       "$91K-$150K (Glassdoor est.)     21\n",
       "$101K-$165K (Glassdoor est.)    21\n",
       "$79K-$147K (Glassdoor est.)     20\n",
       "$31K-$56K (Glassdoor est.)      20\n",
       "$145K-$225K(Employer est.)      20\n",
       "$141K-$225K (Glassdoor est.)    20\n",
       "$66K-$112K (Glassdoor est.)     20\n",
       "$80K-$132K (Glassdoor est.)     20\n",
       "$87K-$141K (Glassdoor est.)     20\n",
       "$105K-$167K (Glassdoor est.)    20\n",
       "$79K-$133K (Glassdoor est.)     19\n",
       "$71K-$123K (Glassdoor est.)     19\n",
       "Name: count, dtype: int64"
      ]
     },
     "metadata": {},
     "output_type": "display_data"
    },
    {
     "name": "stdout",
     "output_type": "stream",
     "text": [
      "\n",
      "============= Job Description =================\n"
     ]
    },
    {
     "data": {
      "text/plain": [
       "Job Description\n",
       "Job Overview: The Data Scientist is a key member of our cross-functional Product team responsible for discovering new and innovative solutions to the challenges within the built environment. Now, more than ever, building owners and operators rely on Hatch Data to get a birds-eye view of asset performance to help them achieve ambitious goals around sustainable financial, environmental, and social impact. We are actively seeking an exceptional Data Scientist to help us take one of the worlds most extensive data sets for commercial building operations and transform it into amazing products for our customers.\\n\\nResponsibilities and Duties:\\nPartner with Product Management, to Investigate high-level questions to discover new relationships between operations and outcomes\\nMaintain and improve upon the accuracy and utility of existing machine-learning algorithms\\nOwn the long-term Data Science Roadmap, including prototype solutions in \"green field\" problem spaces\\nSupport ad-hoc data analysis in support of customer success and marketing efforts\\nCollaborate closely with domain experts in energy and mechanical engineering, as well as with the software engineering team\\nCoach and mentor others to amplify your impact and continuously demonstrate the value of data science\\nExperience:\\nBachelors degree in Data Science, Computer Science, Math, or related technical field.\\nMinimum 3+ years experience applying data science techniques to drive product development and decision-making.\\nDemonstrated track record of solving problems in industry with machine learning\\nExpertise in statistical methods and experimental design and analysis\\nFluent in at least one modern language for data processing (R, Python, and Scala experience ideal).\\nComfortable with AWS and distributed data processing systems (e.g., Spark)\\nFamiliarity with energy-efficiency, commercial building domain, regression and baseline techniques, weather normalization, etc. a plus\\nExperience using APIs to manipulation and move data in and out of systems.\\nMust possess outstanding written and verbal communication skills in English.\\nAbility to prioritize development and operational tasks in a dynamic and challenging environment.\\nAbout You:\\nCare about leaving the world better than you found it.\\nMission-driven and leads by example with equal parts brain and heart.\\nOperationally-minded, empathetic, self-starter, driven, and gets things done.\\nNatural communicator that instills confidence and trust with internal and external stakeholders.\\nExcited to join a small company, with big company benefits, and upside potential.\\nIdeally based in the San Francisco Bay Area.\\nAbout Us:\\n\\nClimate change is real. Addressing this is the biggest issue of our time. While moving the world from dirty energy sources to clean ones matters, there is also an enormous opportunity to use existing resources more efficiently. Buildings consume up to 40% of the energy in North America alone. This is a big opportunity to create change. We bring our values to work and every day push to solve these problems at scale.\\n\\nOur team applies their knowledge of energy systems, mechanical engineering, IoT, machine learning and the built environment, to design cutting edge software that reduces the negative environmental impact of our indoor spaces while improving the bottom line for owners and operators. Our software platform has been proven across more than 400M square feet of commercial real estate with marquee customers, and were doubling down our efforts in the coming months as we prepare to accelerate growth and impact.\\n\\nThis is a unique opportunity to join a company that does well by doing good and is positioned for significant expansion. Youll enjoy comprehensive benefits, competitive salary, and meaningful equity. We offer a flexible work environment and the opportunity to work alongside an incredibly talented, fun, and highly motivated team.\\n\\nHow to Apply:\\n\\nDoes this sound like you? If so, please submit your resume and cover letter and provide any context you think would be helpful as we learn about you. Well be interested in understanding why youre excited about joining us, why this role seems like a perfect fit for your talents, and what success looks like for you, personally, over the next few years.                                                                                                                                                                                                                                                                                                                                                                                                                                                          12\n",
       "We love programming and the excitement that comes with building something people use. We are the kind of people that love talking to users and can find the balance between solving a problem quickly and thinking about how your code will work in the future. We love to move fast, keep learning and get stuff done.\\n\\nOur data science team is still in its early days and you'll have a big impact on our direction and how we operate. You'll be central to researching, developing and shipping products that help our customers learn and grow from their data. For this role, we're looking for people who have developed split brains--software engineers who have become great at writing machine learning code or data scientists who have become great software developers.\\n\\nTechnologies we use (not comprehensive!):\\nPython\\n\\nNumpy, Scipy, Pandas\\n\\nAurora, Cassandra, Kafka\\n\\nHTML, JavaScript, React\\n\\nSageMaker\\n\\nHow you will make a difference:\\n\\n\\nAnalyze large data sets (we're collecting billions of individual actions every month).\\nBuild products that enable our customers to grow faster and communicate more effectively with their customers.\\nDevelop machine learning models and pipelines for research and production.\\n\\nWho You Are:\\n\\n\\nHave experience implementing machine learning models, data pipelines and testing frameworks for research and production use.\\nHave demonstrated a measurable impact based on the models you've created. It's not always easy getting a model correct, we love talking about places we got stuck and work as a team to think through ideas that could unblock us.\\nHave experience processing cloud-scale data using parallel, elastic, streaming and similar techniques.\\nEnjoy tuning and validating machine learning models and take a rigorous approach.\\nUnderstand how to profile code and optimize performance.\\nAspire to correctness (e.g. in your code, in drawing conclusions from data)\\nHave a bachelor's or advanced degree in computer science, applied math, statistics or other relevant quantitative discipline, or equivalent industry experience.\\n\\nGet to know Klaviyo\\n\\nKlaviyo is the world's leading owned marketing platform known for accelerating revenue for online businesses using the channels they own like email, web, and mobile. Enabling companies to leverage these owned marketing channels, Klaviyo makes it easy to store, access, analyze and use transactional and behavioral data to power highly-targeted customer and prospect communications. And unlike other marketing platforms, Klaviyo doesn't force companies to compromise between advanced functionality or ease of use - so companies of all sizes are able to maximize their sales quickly. That's why over 28,000+ innovative companies like Unilever, Custom Ink and Eventbrite sell more with Klaviyo.                                                                                                                                                                                                                                                                                                                                                                                                                                                                                                                                                                                                                                                                                                                                                                                                                                                                                                                                                                                                                                                                                                                                                                                                                                                                                                                                                                                                                                                                                                                                                                                                                                                                                                                                                                                                                                                                                                                                                                                                                                  5\n",
       "US Citizenship Required and (TS/SCI with FSP or CI) Required\\n\\nJob Description:\\nExcited about data? Take action with it.\\n\\nAs a Phoenix Data Scientist, you'll be part of a team with access to tons of real mission and that takes action on it. You will not be simply designing algorithms or analyzing theoretical use cases. You'll be using languages like R, Python and Scala to glean actionable insights and build tangible capabilities.\\n\\nOn a typical day as a Phoenix Data Scientist, you'll collaborate with both engineers and mission SMEs (e.g. Cybersecurity or SIGINT analysts) to process mass amounts of data. You'll implement (not just design) neural networks, Bayesian models and other Machine Learning techniques to address mission needs.\\n\\nMake a difference today.\\nSkills Required:\\nPython or Scala\\nExperience in a Linux environment\\nComfortable with very large data sets\\nSkills Preferred:\\nR, Rstudio, Shiny\\nApache Spark\\nMachine Learning\\nNeural Networks\\nArtificial Intelligence\\nPredictive Modeling\\nQualifications:\\nUS Citizenship Required\\nSecurity Clearance (TS/SCI) Required\\nSome positions require FSP\\nBachelors Degree in Math, Science or Engineering\\n\\nBenefits Offered:\\nMedical, Dental, Vision Insurance - 100% Company Paid Premiums\\nSTD, LTD, and Life Insurance - 100% Company paid\\n401K Automatic 10% company contribution; no matching required\\nPTO - 4 weeks/year\\nHolidays - 10 paid/year\\nBirthdays off with pay\\nReferral Bonuses Upfront AND Annually Recurring\\nOpen Source Bonuses Contribute to our Github projects\\nProfessional Development Paid training, Certifications and Enrichment\\nABOUT PHOENIX OPERATIONS GROUP:\\nPhoenix Operations Group is a high-end engineering services company dedicated to protecting and advancing our national cyber resources. As a small start-up operating out of the Baltimore/Washington DC area, we rely on innovation to continually advance our employees' skills and provide game-changing solutions to our customers.\\n\\nOur technical competencies include Big Data analytics (batch and streaming), Cloud Computing infrastructure, multi-INT visualization, and enterprise architectures. We support operational missions (All-Source, Financial, CND) and serve as Product Owners for our open-source research initiatives.\\n\\nPlease visit us at http://www.phoenix-opsgroup.com for more information.\\n\\nPhoenix Operations Group is an Equal Opportunity Employer. Phoenix Operations Group does not discriminate on the basis of race, religion, color, sex, gender, gender identity, sexual orientation, age, non-disqualifying physical or mental disability, national origin, veteran status or any other basis covered by appropriate law. All employment is decided on the basis of qualifications, merit, and business need.                                                                                                                                                                                                                                                                                                                                                                                                                                                                                                                                                                                                                                                                                                                                                                                                                                                                                                                                                                                                                                                                                                                                                                                                                                                                                                                                                                                                                                                                                                                                                                                                                                                                                                                                                                                                                                                                                                                                                                                                                                                               4\n",
       "Do you have a head for numbers? Like turning real-world problems into mathematical representations and checking to see if you did it right? If you like that, youll love developing algorithms with us! Our customers have some of the most interesting needs and hardest challenges to resolve. Our solutions require integrated models based on large and varied datasets, feeding analytic applications so that we can extract patterns and behaviors obscured within the data to augment the capabilities of human operators. We need both experienced and aspiring data scientists to work on all stages of the data science pipeline, to include applying existing machine learning software across large hyper-parameter trade spaces, developing new machine learning algorithms and evaluating the best the commercial AI/ML industry has to offer to our problem set.\\n\\nWhy Maxar?\\nWe build advanced algorithms to gain analytic insights from a large range of open source and government data.\\nWe enable machine learning systems, automate workflow, and design and develop custom applications for unique national-security mission.\\nWe operate an end-to-end predictive analytic platform unlike any other within the US Government.\\nWe provide training to expand your skills and challenges to develop them.\\nOur clients missions are vital to national security, so were mission-first always.\\nOur work environment is relaxed business casual.\\nAt our core we believe and practice social responsibility.\\nWhat would you be doing?\\nExtracting and transforming data using programming languages such as Java and Python and associated open source data analytics libraries.\\nAscertaining unique ways to apply algorithms to derive specific customer data analytic results.\\nApplying big data analytics tools to large, diverse sets of collection data to assess risk of adverse threat activities.\\nExtending existing algorithms as required to support customer requirements.\\nApplying data science methods to create and optimize convolutional neural networks that will perform classification, localization and segmentation of various modalities of remotely-sensed imagery.\\n\\nMinimum Qualifications:\\nMust be a US citizen with a current/active TS/SCI and be willing and able to obtain a CI Polygraph.\\nB.S. in Engineering, Math, Physics, Computer Science or related field.\\n8 years of professional experience as a Data Scientist.\\nExperience with at least one of these languages: R, VBA, Java, C++, SQL, Python.\\n\\nDesired Qualifications:\\nGraduate experience working with probabilistic and stochastic statistical analysis or computational intelligence.\\nExperience conducting model feasibility research and algorithm development for machine learning.\\nExperience with distributed datasets and experience analyzing both relational and NoSQL data structures.\\nExperience working in an Agile environment, especially SAFe.\\nAscertaining unique ways to apply algorithms to derive specific customer specific data analytics results.\\nApplying big data analytics tools to large, diverse sets of collection data to assess risk of adverse threat activities.\\nExtending existing algorithms as required to support customer requirements.\\nExperience implementing algorithms related to machine learning.\\nKnowledge of technical aspects of ISR systems.\\nExperience conducting model feasibility research and algorithm development for machine learning.\\nExperience developing and testing models.\\nExtracting and transforming data using programming languages such as Java and Python and associated open-source data analytics libraries.\\nExperience with Data Analytics.\\nExceptional oral and written communications.\\nOrganizational skills and excellent attention to detail.\\nDevelopment experience in a Linux/Unix/Windows environment.\\nCapability to work effectively in a geographically distributed development team.\\nBasic systems administration and installation.\\nBuild-test-deploy frameworks (Jenkins, GoCD, etc.).\\nContainerization platforms (Docker, OpenShift, CloudFoundry, etc.).\\nOccasional local travel to government sites for customer meetings and demonstrations.\\n\\n#cjpost                                                                                                                                                                                                                                                                                                                                                                                                                                                                                                                                                                                                                                              4\n",
       "Join our Defense and Intelligence Solutions Division to pursue the exciting new area of developing the avionics applications and next generation of cyber threat detection capabilities for airborne platforms. Collaborate in a dynamic team environment, developing and testing software for various types of aircraft. Responsibilities and activities will include software development tasks primarily utilizing C/C++. The target platform will be high performance, fault tolerant applications on embedded platforms. Participate in requirements analysis, software design, coding, unit testing, integration, installation and maintenance. Develop new ideas and solve complex problems based on technical and domain experience. Work in teams as well as independently. Work at SwRI laboratories and short-term travel to government facilities / military bases or other customer facilities. Prepare technical documents and support proposal preparations as required. Work assignment is in San Antonio or Oklahoma City.\\n\\n\\nEducation/Experience:\\n\\n\\nRequires a BS degree in Computer Science, Computer Engineering (must have focus in Computer Science) with 0-5 years of experience. Must have at least a 3.0 GPA. Must have experience or coursework with software development with emphasis on application development utilizing C/C++. Must have the basic knowledge of software development processes including an ability to analyze and translate requirements into an application design, implementation, unit and integration testing, software/hardware integration and software documentation. Exposure to embedded real-time application development as well as cyber detection will be considered. Experience with Python and/or Java desirable. Exposure to agile methodologies, software engineering practices, requirements analysis, software design are desirable. Must have excellent verbal and written communications skills; specially technical communication. Current DoD security clearance is highly desired. A valid/clear driver's license is required.\\n\\n\\nSpecial Considerations:\\n\\n\\nApplicant selected will be subject to a government security investigation and must meet eligibility requirements for access to classified information. Applicant must be a U.S. citizen.\\n\\nJob Locations: San Antonio, Texas | Oklahoma City, Oklahoma\\n\\n\\nFor more information about this division, visit the Defense & Intelligence Solutions home page.\\n\\nAn Equal Employment Opportunity/Affirmative Action Employer\\nRace/Color/Religion/Sex/Sexual Orientation/Gender Identity/National Origin/Disabled/Veteran\\nCommitted to Diversity in the Workplace                                                                                                                                                                                                                                                                                                                                                                                                                                                                                                                                                                                                                                                                                                                                                                                                                                                                                                                                                                                                                                                                                                                                                                                                                                                                                                                                                                                                                                                                                                                                                                                                                                                                                                                                                                                                                                                                                                                                                                                                                                                                                                                                                                                                                               4\n",
       "                                                                                                                                                                                                                                                                                                                                                                                                                                                                                                                                                                                                                                                                                                                                                                                                                                                                                                                                                                                                                                                                                                                                                                                                                                                                                                                                                                                                                                                                                                                                                                                                                                                                                                                                                                                                                                                                                                                                                                                                                                                                                                                                                                                                                                                                                                                                                                                                                                                                                                                                                                                                                                                                                                                                                                                                                                                                                                                                                                                                                                                                                                                                                                                                                                                                                                                                                                                                                                                                                                                                                                                                                                                                                                                                                                                                                                                                                                                                                                                                                                                                                                                                                                                                                                                                                                                                                                                                                                                                                                                                                                                                                                                                                                                                                                                                                                                                                                                                              ..\n",
       "Logistics done differently.At XPO Logistics, we invest hundreds of millions of dollars in technology every year so that we can continue to develop state-of-the-art solutions for our customers. As the Scientist, Data Science, you will develop analytical experiments in a methodical manner and regularly evaluate alternate models to support strategic initiatives and ongoing business processes. You will work with leads, analysts and data producers/consumers to understand requirements and develop technical solutions, as well as ensure the reliability and performance of the data solutions. Become a part of our growing, dynamic team and we'll help you build a career you can be proud of.Pay, benefits and more.We are eager to attract the best, so we offer competitive compensation and a generous benefits package, including full health insurance (medical, dental and vision), 401(k), life insurance, disability and more.What you'll do on a typical day:* Develop solutions focused on data science and engineering using machine learning, deep learning algorithms, statistical concepts, data modeling, software development and visualizations* Troubleshoot technical issues in existing processes and current development work; solicit assistance from other roles and groups, and drive resolution to ensure the integrity of platform quality and project timelines* Understand and improve shared standard patterns, templates and artifacts for architecture, data science development approaches, data models and new technology adoption and rollout* Generalize and share technical approaches and best practices among other developers; simplify and communicate completed work to broader audiences across the company* Help support data consumers to ensure they have reliable access to trusted dataWhat you need to succeed at XPO:At a minimum, you'll need:* Bachelor's degree or equivalent related work or military experience* 1 year of experience delivering solutions in at least two of the following: data science, data analysis, geospatial, finance, econometrics, cloud computing or big data and database management* Experience with statistical modeling, data analytics and visualization using R and Python (Numpy, Pandas, Scipy, Plotly and Matplotlib)* Significant experience applying one or more of the following analytical methods: regression (preferably mixed models), data classification and reduction (cluster, factor, principle components, decision trees), Bayesian inference or other advanced machine learning techniques* Experience with statistical modeling, machine learning, deep learning or data mining concepts, and a track record of solving problems with these methods* Technical database knowledge (Oracle, NoSQL, data modeling) and experience optimizing SQL queries on large data* Experience writing SQL fluently, recognizing and correcting inefficient or error-prone SQL, and performing test-driven validation of SQL queries and their results* Microsoft Office and Windows experience* Availability to work periodic 24/7 on-call support as required by the team's rotation scheduleIt'd be great if you also have:* Master's degree in Computer Science, MIS, Engineering, Business or a related field; or recent college graduate with hands-on, moderately complex internship projects of greater than 6 months* Data science specialization from Coursera, Udacity, Data Camp, etc.* 10 years of experience delivering solutions in at least two of the following: data science, data modeling, data integration or business intelligence* 5 years of experience delivering solutions in at least two of the following: data science, data analysis, geospatial, finance, econometrics, cloud computing or big data and database managementBe part of something big.XPO is a leading provider of cutting-edge supply chain solutions to the most successful companies in the world. We help our customers manage their goods most efficiently using our technology and services. Our greatest strength is our global team - energetic, innovative people of all experience levels and talents who make XPO a great place to work.We are proud to be an Equal Opportunity/Affirmative Action employer. Qualified applicants will receive consideration for employment without regard to race, sex, disability, veteran or other protected status.The above statements are intended to describe the general nature and level of work being performed by people assigned to this classification. They are not intended to be construed as an exhaustive list of all responsibilities, duties and skills required of personnel so classified. All employees may be required to perform duties outside of their normal responsibilities from time to time, as needed.Nearest Major Market: IndianapolisApply now \"     1\n",
       "Job Overview:\\n\\nAdvanced Analytics - Data Scientist will execute advanced computational approaches to accelerate and optimize evidence-based pharmaceutical product development. He/She will leverage high-dimensional population health data to support R&D, Medical, HEVA, commercial product development, access and business strategy. The Advanced Analytics Data Scientist roles will generate analytics required by healthcare decision makers to support patient access and use of Sanofi medicines and he/she will contribute to the insights required by Sanofi internal teams to develop and commercialize the most impactful medicines.\\n\\nJob Responsibilities:\\nGet to apply a broad array of capabilities spanning machine learning, statistics, text-mining/NLP, and modeling to extract insights to structured and unstructured healthcare data sources, pre-clinical, clinical trial and complementary real world information streams.\\nWork on a variety of team-based projects providing expertise in analytical and computational approaches.\\nWork with the latest tools and technologies to impact drug development\\nContribute to the Advanced Analytics plans for projects across R&D, Medical Affairs, HEVA and Market Access Strategies and Plans.\\nDesign and implement data models, perform statistical analysis and create predictive analysis models\\nLeverage analytics involving large datasets to refine and improve data models.\\nBuild and construct prototypes of Advanced Analytic work-flows.\\nEssential Skills & Experience:\\nPhD or ScD in quantitative field such as Health Services research, Medical Economics, Medical Informatics, Biostatistics, or Computer Science, computer engineering or related field\\nRelevant Masters Degree, with at least 3 years of relevant industry experience\\nExperience with open source technologies, ML libraries, and programming languages (R, python)\\nExperience with advanced ML techniques (neural networks/deep learning, reinforcement learning, SVM, PCA, etc.).\\nAn ability to interact with a variety of large-scale data structures e.g. HDFS, SQL, noSQL\\nExperience working across multiple compute environments to create workflows and pipelines (e.g. HPC, cloud, linux systems)\\nExperience with any of the following: biomedical data types/population health data/real world data/novel data streams.\\nStrong oral and written communication skills\\nA demonstrated ability to work and collaborate in a team environment\\nDesirable Skills & Experience\\nExperience with reproducible and collaborative technology platforms (e.g. github, containers, jupyter notebooks)\\nExperience with big data analytics platforms and/or workflow tools\\nExposure to NLP technologies and analyses\\nKnowledge of some datavis technologies (ggplot2, shiny, plotly, d3, Tableau or Spotfire)\\nSanofi Inc. and its U.S. affiliates are Equal Opportunity and Affirmative Action employers committed to a culturally diverse workforce. All qualified applicants will receive consideration for employment without regard to race; color; creed; religion; national origin; age; ancestry; nationality; marital, domestic partnership or civil union status; sex, gender, gender identity or expression; affectional or sexual orientation; disability; veteran or military status or liability for military status; domestic violence victim status; atypical cellular or blood trait; genetic information (including the refusal to submit to genetic testing) or any other characteristic protected by law.\\n\\nSanofi Glassdoor: #GD-SA\\n\\nSanofi LinkedIn: #LI-SA\\n\\nAt Sanofi diversity and inclusion is foundational to how we operate and embedded in our Core Values. We recognize to truly tap into the richness diversity brings we must lead with inclusion and have a workplace where those differences can thrive and be leveraged to empower the lives of our colleagues, patients and customers. We respect and celebrate the diversity of our people, their backgrounds and experiences and provide equal opportunity for all.                                                                                                                                                                                                                                                                                                                                                                                                                                                                                                                                                                                                                                                                                                                                                                                                      1\n",
       "Genesis Research is an international healthcare consultancy providing end-to-end evidence development, optimization and communication services for Life Sciences groups. Our RWE-S team has seen exceptional growth and success in providing holistic and comprehensive support to Life Science organizations. We are looking for an experienced Real World Evidence (RWE) Scientist to join our research team.\\nLocation: Hoboken, New Jersey.\\nResponsibilities:\\nConceptualize the scope of projects and work with the team from project initiation through completion of client deliverables\\nWork with project teams to identify data needs, sources, and structure to support client issues problem solving\\nUnderstand the strengths and limitations of Real-World Data (RWD) sources\\nGenerate Evidence and Analyze large and complex healthcare data (Claims, EMR, and Registry Data) using R, SQL, Python\\nParticipate in the production and presentation of deliverables\\nDevelop creative solutions for complex problems\\nKey Requirements:\\nBachelor’s degree in a technical or quantitative field from an accredited college or university (e.g., statistics/ biostatistics, epidemiology, bioinformatics, health economics, mathematics, outcomes research, public health, biology, medicine); Masters, MPH or PhD degree preferred\\n3+ years relevant work experience (less with PhD)\\nDemonstrated knowledge of R/SQL and statistical methods\\nExperience developing and implementing statistical analysis plans utilizing RWD or clinical trials\\nDemonstrated thorough aptitude for conducting quantitative and qualitative analyses\\nWillingness to provide superior customer service through first-rate work product\\nAbility to work independently and collaboratively\\nStrong communication skills with the ability to explain technical data analysis results to business people, as well as communicate quantitative challenges and issues to technical people\\nKnowledge Preferred:\\nSignificant experience working with analytical models and visualization techniques and tools\\nAdvanced analytics techniques (regression, simulation, etc.)\\nIdentifying and addressing client needs, building relationships with clients, developing requests for proposals\\nCreative and innovative problem solving skills\\nAbility to work under tight deadlines in a highly dynamic environment.\\nExperience developing scientific communications (Abstracts, Posters, Reports)\\nCompensation:\\nCompetitive salary, 401K, performance-related bonus and health insurance benefits.\\nGenesis Research is an equal opportunities employer.                                                                                                                                                                                                                                                                                                                                                                                                                                                                                                                                                                                                                                                                                                                                                                                                                                                                                                                                                                                                                                                                                                                                                                                                                                                                                                                                                                                                                                                                                                                                                                                                                                                                                                                                                                                                                                                                                                                                                                                                                                                                                                                                                                                                                                                                                     1\n",
       "Requisition ID: 256384Work Area: Software-ResearchExpected Travel: 0 - 10%Career Status: ProfessionalEmployment Type: Regular Full TimeCareer Level: T2Posting Date : 6/16/2020COMPANY DESCRIPTIONSAP started in 1972 as a team of five colleagues with a desire to do something new. Together, they changed enterprise software and reinvented how business was done. Today, as a market leader in enterprise application software, we remain true to our roots. That's why we engineer solutions to fuel innovation, foster equality and spread opportunity for our employees and customers across borders and cultures.SAP values the entrepreneurial spirit, fostering creativity and building lasting relationships with our employees. We know that a diverse and inclusive workforce keeps us competitive and provides opportunities for all. We believe that together we can transform industries, grow economics, lift up societies and sustain our environment. Because it's the best-run businesses that make the world run better and improve people's lives.Purpose and Objective:SAP Labs, LLC seeks a Data Scientist at our Palo Alto, CA location to analyze customer's business problems, use cases and forms the requirements into feasible product feature.Expectations and Tasks:Explore data sources, implements data exploration, pre-processing and data cleansing on the historical data. Understand data and evaluate data quality from both data science and business value perspectives. Prepare the data for future models. Develop statistical / machine learning models based on the pre-processed data as a proof-of-concept. Assess and optimize the model quality based on technical level by tuning hyper-parameters, settings or even changing the models. Integrate the statistical / machine learning models into product. Work with application developers, machine learning engineers closely to ensure the model is ported into the product based on the prototyping. Work with product managers and designers to ensure all the features are delivered. Evaluate and improve the model performance under business context. Refine the model by tuning hyper-parameter, adjusting data sources or model approaches to resolve the business problem of customer. 10% travel required.Education and Qualifications/Skills and Competencies:Bachelor's degree in Computer Science, Engineering, Mathematics or a related field of study and 5 years of experience required. The company will also accept a Master's degree and 2 years of experience.Work Experience:Experience must involve 2 years in the following: ML and data science knowledge to define the next key features for the solution; build features architected for speed and distributed computing; Research, prototyping and development in the big data, machine learning and data science domain and machine learning frameworks. 10% travel required.Travel: 10% travel required.Internal use only: reference code lhrs4262SAP'S DIVERSITY COMMITMENTTo harness the power of innovation, SAP invests in the development of its diverse employees. We aspire to leverage the qualities and appreciate the unique competencies that each person brings to the company.SAP is committed to the principles of Equal Employment Opportunity and to providing reasonable accommodations to applicants with physical and/or mental disabilities. If you are interested in applying for employment with SAP and are in need of accommodation or special assistance to navigate our website or to complete your application, please send an e-mail with your request to Recruiting Operations Team (Americas: Careers.NorthAmerica@sap.com or Careers.LatinAmerica@sap.com, APJ: Careers.APJ@sap.com, EMEA: Careers@sap.com). Requests for reasonable accommodation will be considered on a case-by-case basis.EOE AA M/F/Vet/Disability:Qualified applicants will receive consideration for employment without regard to their age, race, religion, national origin, gender, sexual orientation, gender identity, protected veteran status or disability.Additional Locations :                                                                                                                                                                                                                                                                                                                                                                                                                                                                                                                                                                                                                                                                                                                                                            1\n",
       "100 Remote Opportunity As an AINLP Data Scientist you will be responsible for building AI and Data Science models with a main focus on data extraction and insights from form or any text corpora. You will need to rapidly prototype various algorithmic implementations and test their efficacy using appropriate experimental design and hypothesis validation. Responsible for big dataanalytics projects that gather and integrate large volumes of data. Specializes in developing and programming methods, processes, and systems to consolidate and analyze unstructured, diverse big data sources to generate insights and solutions for client services and product enhancement. Acquires data from multiple data sources to perform analysis. Implements and validates predictive models as well as create and maintain statistical models with a focus on big data. Identifies, analyzes and interprets trends or patterns in complex data to provide answers to business questions as well as provide recommendations for action. Interprets data and analyzes results using various advanced statistical techniques and tools. Presents data and analysis in a clear and concise manner allowing the audience to quickly understand the results and recommendations and make data driven decisions. Collaborates with various partners to prioritize requestsneeds and provide a holistic view of the analysis. Measures and monitors results of applied recommendations and present adjustments. Ensures all data acquisition, sharing and results of applied recommendations are compliant with company standards. Basic Qualifications Bachelor's degree in a quantitative field such as statistics, computer science, engineering or applied mathematics, or equivalent work experience 7 plus years of relevant experience Preferred SkillsExperience PhD or MS in Computer Science, Computational Linguistics, Artificial Intelligence with a heavy focus on NLPText mining with 5 years of relevant industry experience. Creativity, resourcefulness, and a collaborative spirit. Knowledge and working experience in one or more of the following areas Natural Language Processing, Clustering and Classifications of Text, Question Answering, Text Mining, Information Retrieval, Distributional Semantics, Knowledge Engineering, Search Rank and Recommendation. Deep experience with text-wrangling and pre-processing skills such as document parsing and cleanup, vectorization, tokenization, language modeling, phrase detection, etc. Proficient programming skills in a high-level language (e.g. Python, R, Java, Scala) Being comfortable with rapid prototyping practices. Being comfortable with developing clean, production-ready code. Being comfortable with pre-processing unstructured or semi-structured data. Experience with statistical data analysis, experimental design, and hypothesis validation. Project-based experience with some of the following tools Natural Language Processing (e.g. Spacy, NLTK, OpenNLP or similar) Applied Machine Learning (e.g. Scikit-learn, SparkML, H2O or similar) Information retrieval and search engines (e.g. ElasticsearchELK, SolrLucene) Distributed computing platforms, such as Spark, Hadoop (Hive, Hbase, Pig), GraphLab Databases ( traditional and NOSQL) Proficiency in traditional Machine Learning models such as LDAtopic modeling, graphical models, etc. Familiarity with Deep Learning architectures and frameworks such as Pytorch, Tensorflow, Keras.                                                                                                                                                                                                                                                                                                                                                                                                                                                                                                                                                                                                                                                                                                                                                                                                                                                                                                                                                                                                                                                                                                                                                                                                                                                                                                                                                                             1\n",
       "Name: count, Length: 489, dtype: int64"
      ]
     },
     "metadata": {},
     "output_type": "display_data"
    },
    {
     "name": "stdout",
     "output_type": "stream",
     "text": [
      "\n",
      "============= Rating =================\n"
     ]
    },
    {
     "data": {
      "text/plain": [
       "Rating\n",
       " 3.5    58\n",
       "-1.0    50\n",
       " 4.0    41\n",
       " 3.3    41\n",
       " 3.9    40\n",
       " 3.8    39\n",
       " 3.7    38\n",
       " 5.0    36\n",
       " 4.5    32\n",
       " 3.6    31\n",
       " 3.4    31\n",
       " 4.2    29\n",
       " 4.1    25\n",
       " 4.4    24\n",
       " 4.7    22\n",
       " 3.2    21\n",
       " 4.8    20\n",
       " 4.3    14\n",
       " 2.9    14\n",
       " 4.6    12\n",
       " 3.1    12\n",
       " 4.9    11\n",
       " 2.7    10\n",
       " 3.0     7\n",
       " 2.6     4\n",
       " 2.8     3\n",
       " 2.5     2\n",
       " 2.2     1\n",
       " 2.4     1\n",
       " 2.3     1\n",
       " 2.1     1\n",
       " 2.0     1\n",
       "Name: count, dtype: int64"
      ]
     },
     "metadata": {},
     "output_type": "display_data"
    },
    {
     "name": "stdout",
     "output_type": "stream",
     "text": [
      "\n",
      "============= Company Name =================\n"
     ]
    },
    {
     "data": {
      "text/plain": [
       "Company Name\n",
       "Hatch Data Inc                      12\n",
       "Maxar Technologies\\n3.5             12\n",
       "Tempus Labs\\n3.3                    11\n",
       "AstraZeneca\\n4.0                    10\n",
       "Klaviyo\\n4.8                         8\n",
       "                                    ..\n",
       "Better Hire\\n4.0                     1\n",
       "Rincon Research Corporation\\n4.2     1\n",
       "Descript\\n4.3                        1\n",
       "Trace Data\\n3.9                      1\n",
       "ChaTeck Incorporated\\n5.0            1\n",
       "Name: count, Length: 432, dtype: int64"
      ]
     },
     "metadata": {},
     "output_type": "display_data"
    },
    {
     "name": "stdout",
     "output_type": "stream",
     "text": [
      "\n",
      "============= Location =================\n"
     ]
    },
    {
     "data": {
      "text/plain": [
       "Location\n",
       "San Francisco, CA    69\n",
       "New York, NY         50\n",
       "Washington, DC       26\n",
       "Boston, MA           24\n",
       "Chicago, IL          22\n",
       "                     ..\n",
       "Oshkosh, WI           1\n",
       "Culver City, CA       1\n",
       "Lake Oswego, OR       1\n",
       "New Orleans, LA       1\n",
       "Irwindale, CA         1\n",
       "Name: count, Length: 207, dtype: int64"
      ]
     },
     "metadata": {},
     "output_type": "display_data"
    },
    {
     "name": "stdout",
     "output_type": "stream",
     "text": [
      "\n",
      "============= Headquarters =================\n"
     ]
    },
    {
     "data": {
      "text/plain": [
       "Headquarters\n",
       "New York, NY         33\n",
       "-1                   31\n",
       "San Francisco, CA    31\n",
       "Chicago, IL          23\n",
       "Boston, MA           19\n",
       "                     ..\n",
       "Irving, TX            1\n",
       "Scottsdale, AZ        1\n",
       "Greensboro, NC        1\n",
       "Newark, CA            1\n",
       "Fort Lee, NJ          1\n",
       "Name: count, Length: 229, dtype: int64"
      ]
     },
     "metadata": {},
     "output_type": "display_data"
    },
    {
     "name": "stdout",
     "output_type": "stream",
     "text": [
      "\n",
      "============= Size =================\n"
     ]
    },
    {
     "data": {
      "text/plain": [
       "Size\n",
       "51 to 200 employees        135\n",
       "1001 to 5000 employees     104\n",
       "1 to 50 employees           86\n",
       "201 to 500 employees        85\n",
       "10000+ employees            80\n",
       "501 to 1000 employees       77\n",
       "5001 to 10000 employees     61\n",
       "-1                          27\n",
       "Unknown                     17\n",
       "Name: count, dtype: int64"
      ]
     },
     "metadata": {},
     "output_type": "display_data"
    },
    {
     "name": "stdout",
     "output_type": "stream",
     "text": [
      "\n",
      "============= Founded =================\n"
     ]
    },
    {
     "data": {
      "text/plain": [
       "Founded\n",
       "-1       118\n",
       " 2012     34\n",
       " 2011     25\n",
       " 2015     22\n",
       " 2010     22\n",
       "        ... \n",
       " 1820      1\n",
       " 1952      1\n",
       " 1959      1\n",
       " 1894      1\n",
       " 1962      1\n",
       "Name: count, Length: 103, dtype: int64"
      ]
     },
     "metadata": {},
     "output_type": "display_data"
    },
    {
     "name": "stdout",
     "output_type": "stream",
     "text": [
      "\n",
      "============= Type of ownership =================\n"
     ]
    },
    {
     "data": {
      "text/plain": [
       "Type of ownership\n",
       "Company - Private                 397\n",
       "Company - Public                  153\n",
       "Nonprofit Organization             36\n",
       "Subsidiary or Business Segment     28\n",
       "-1                                 27\n",
       "Government                         10\n",
       "Other Organization                  5\n",
       "Private Practice / Firm             4\n",
       "Unknown                             4\n",
       "College / University                3\n",
       "Self-employed                       2\n",
       "Contract                            2\n",
       "Hospital                            1\n",
       "Name: count, dtype: int64"
      ]
     },
     "metadata": {},
     "output_type": "display_data"
    },
    {
     "name": "stdout",
     "output_type": "stream",
     "text": [
      "\n",
      "============= Industry =================\n"
     ]
    },
    {
     "data": {
      "text/plain": [
       "Industry\n",
       "-1                                          71\n",
       "Biotech & Pharmaceuticals                   66\n",
       "IT Services                                 61\n",
       "Computer Hardware & Software                57\n",
       "Aerospace & Defense                         46\n",
       "Enterprise Software & Network Solutions     43\n",
       "Consulting                                  38\n",
       "Staffing & Outsourcing                      36\n",
       "Insurance Carriers                          28\n",
       "Internet                                    27\n",
       "Advertising & Marketing                     23\n",
       "Health Care Services & Hospitals            21\n",
       "Research & Development                      17\n",
       "Federal Agencies                            16\n",
       "Investment Banking & Asset Management       13\n",
       "Banks & Credit Unions                        8\n",
       "Lending                                      8\n",
       "Energy                                       5\n",
       "Consumer Products Manufacturing              5\n",
       "Telecommunications Services                  5\n",
       "Insurance Agencies & Brokerages              4\n",
       "Food & Beverage Manufacturing                4\n",
       "Utilities                                    3\n",
       "Electrical & Electronic Manufacturing        3\n",
       "Colleges & Universities                      3\n",
       "Other Retail Stores                          3\n",
       "Architectural & Engineering Services         3\n",
       "Chemical Manufacturing                       3\n",
       "Real Estate                                  3\n",
       "Miscellaneous Manufacturing                  3\n",
       "Accounting                                   3\n",
       "Wholesale                                    3\n",
       "Industrial Manufacturing                     3\n",
       "Video Games                                  3\n",
       "Travel Agencies                              2\n",
       "Express Delivery Services                    2\n",
       "Timber Operations                            2\n",
       "Financial Transaction Processing             2\n",
       "Construction                                 2\n",
       "Health, Beauty, & Fitness                    2\n",
       "Transportation Equipment Manufacturing       2\n",
       "Oil & Gas Services                           2\n",
       "Venture Capital & Private Equity             2\n",
       "Consumer Electronics & Appliances Stores     2\n",
       "Department, Clothing, & Shoe Stores          1\n",
       "Publishing                                   1\n",
       "Social Assistance                            1\n",
       "Farm Support Services                        1\n",
       "Logistics & Supply Chain                     1\n",
       "Transportation Management                    1\n",
       "State & Regional Agencies                    1\n",
       "Hotels, Motels, & Resorts                    1\n",
       "Food & Beverage Stores                       1\n",
       "News Outlet                                  1\n",
       "Telecommunications Manufacturing             1\n",
       "Cable, Internet & Telephone Providers        1\n",
       "Shipping                                     1\n",
       "Rail                                         1\n",
       "Name: count, dtype: int64"
      ]
     },
     "metadata": {},
     "output_type": "display_data"
    },
    {
     "name": "stdout",
     "output_type": "stream",
     "text": [
      "\n",
      "============= Sector =================\n"
     ]
    },
    {
     "data": {
      "text/plain": [
       "Sector\n",
       "Information Technology                188\n",
       "Business Services                     120\n",
       "-1                                     71\n",
       "Biotech & Pharmaceuticals              66\n",
       "Aerospace & Defense                    46\n",
       "Finance                                33\n",
       "Insurance                              32\n",
       "Manufacturing                          23\n",
       "Health Care                            21\n",
       "Government                             17\n",
       "Oil, Gas, Energy & Utilities           10\n",
       "Retail                                  7\n",
       "Telecommunications                      7\n",
       "Transportation & Logistics              6\n",
       "Media                                   5\n",
       "Real Estate                             3\n",
       "Travel & Tourism                        3\n",
       "Agriculture & Forestry                  3\n",
       "Education                               3\n",
       "Accounting & Legal                      3\n",
       "Construction, Repair & Maintenance      2\n",
       "Consumer Services                       2\n",
       "Non-Profit                              1\n",
       "Name: count, dtype: int64"
      ]
     },
     "metadata": {},
     "output_type": "display_data"
    },
    {
     "name": "stdout",
     "output_type": "stream",
     "text": [
      "\n",
      "============= Revenue =================\n"
     ]
    },
    {
     "data": {
      "text/plain": [
       "Revenue\n",
       "Unknown / Non-Applicable            213\n",
       "$100 to $500 million (USD)           94\n",
       "$10+ billion (USD)                   63\n",
       "$2 to $5 billion (USD)               45\n",
       "$10 to $25 million (USD)             41\n",
       "$1 to $2 billion (USD)               36\n",
       "$25 to $50 million (USD)             36\n",
       "$50 to $100 million (USD)            31\n",
       "$1 to $5 million (USD)               31\n",
       "-1                                   27\n",
       "$500 million to $1 billion (USD)     19\n",
       "$5 to $10 million (USD)              14\n",
       "Less than $1 million (USD)           14\n",
       "$5 to $10 billion (USD)               8\n",
       "Name: count, dtype: int64"
      ]
     },
     "metadata": {},
     "output_type": "display_data"
    },
    {
     "name": "stdout",
     "output_type": "stream",
     "text": [
      "\n",
      "============= Competitors =================\n"
     ]
    },
    {
     "data": {
      "text/plain": [
       "Competitors\n",
       "-1                                                                501\n",
       "Roche, GlaxoSmithKline, Novartis                                   10\n",
       "Los Alamos National Laboratory, Battelle, SRI International         6\n",
       "Leidos, CACI International, Booz Allen Hamilton                     6\n",
       "MIT Lincoln Laboratory, Lockheed Martin, Northrop Grumman           3\n",
       "                                                                 ... \n",
       "Pfizer, GlaxoSmithKline                                             1\n",
       "Square, Amazon, Apple                                               1\n",
       "Lumentum Operations, Keysight Technologies, O-Net Technologies      1\n",
       "Munich Re, Hannover RE, SCOR                                        1\n",
       "Genomic Health, Myriad Genetics, The Broad Institute                1\n",
       "Name: count, Length: 108, dtype: int64"
      ]
     },
     "metadata": {},
     "output_type": "display_data"
    },
    {
     "name": "stdout",
     "output_type": "stream",
     "text": [
      "\n"
     ]
    }
   ],
   "source": [
    "for column in df.columns:\n",
    "    print(f\"============= {column} =================\")\n",
    "    display(df[column].value_counts())\n",
    "    print()"
   ]
  },
  {
   "cell_type": "markdown",
   "metadata": {
    "id": "fqumsMoWmD8l"
   },
   "source": [
    "From the code above, we saw that there are also other missing values besides -1 in several columns. Below is the list of all missing values for each of the columns:\n",
    "\n",
    "- Rating: -1\n",
    "- Headquarters: -1\n",
    "- Size: -1, Unknown\n",
    "- Founded: -1\n",
    "- Type of ownership: -1, Unknown\n",
    "- Industry: -1\n",
    "- Sector: -1\n",
    "- Revenue: -1, Unknown / Non-Applicable\n",
    "- Competitors: -1"
   ]
  },
  {
   "cell_type": "markdown",
   "metadata": {
    "id": "9Z_3JjqnnObF"
   },
   "source": [
    "Now we know what are the missing values contained in each of the columns. Next, we have to decide how should we act on those columns that have missing values. Should we drop that column? Or should we impute the missing value?"
   ]
  },
  {
   "cell_type": "markdown",
   "metadata": {
    "id": "iutV9Q-Dno2l"
   },
   "source": [
    "First, we have to see what's the percentage of missing value in that column. If it contained a lot of missing value (let say >35%), then we can just drop that column. If not, then we can do some imputation."
   ]
  },
  {
   "cell_type": "code",
   "execution_count": 29,
   "metadata": {
    "colab": {
     "base_uri": "https://localhost:8080/"
    },
    "id": "6ls4OFyVm71U",
    "outputId": "d6c6697d-4533-47a0-a12d-20c1feb318a0"
   },
   "outputs": [
    {
     "data": {
      "text/plain": [
       "7.440476190476191"
      ]
     },
     "execution_count": 29,
     "metadata": {},
     "output_type": "execute_result"
    }
   ],
   "source": [
    "100 * len(df[df['Rating']==-1]) / len(df)"
   ]
  },
  {
   "cell_type": "code",
   "execution_count": 31,
   "metadata": {
    "colab": {
     "base_uri": "https://localhost:8080/"
    },
    "id": "B6rGfxOPoLlP",
    "outputId": "2d78ef79-51f5-41e5-e26f-b67a6bffba89"
   },
   "outputs": [
    {
     "data": {
      "text/plain": [
       "4.613095238095238"
      ]
     },
     "execution_count": 31,
     "metadata": {},
     "output_type": "execute_result"
    }
   ],
   "source": [
    "100 * len(df[df['Headquarters']=='-1']) / len(df)"
   ]
  },
  {
   "cell_type": "code",
   "execution_count": 33,
   "metadata": {
    "colab": {
     "base_uri": "https://localhost:8080/"
    },
    "id": "iSIvmmkHoOaI",
    "outputId": "7813e5ab-5f92-4d12-f561-7045d22dd817"
   },
   "outputs": [
    {
     "data": {
      "text/plain": [
       "6.5476190476190474"
      ]
     },
     "execution_count": 33,
     "metadata": {},
     "output_type": "execute_result"
    }
   ],
   "source": [
    "100 * len(df[df['Size'].isin(['-1','Unknown'])]) / len(df)"
   ]
  },
  {
   "cell_type": "code",
   "execution_count": 35,
   "metadata": {
    "colab": {
     "base_uri": "https://localhost:8080/"
    },
    "id": "018SDBp4oi6C",
    "outputId": "a40450da-9076-4ece-f4c8-97287d4500c3"
   },
   "outputs": [
    {
     "data": {
      "text/plain": [
       "17.55952380952381"
      ]
     },
     "execution_count": 35,
     "metadata": {},
     "output_type": "execute_result"
    }
   ],
   "source": [
    "100 * len(df[df['Founded']==-1]) / len(df)"
   ]
  },
  {
   "cell_type": "code",
   "execution_count": 37,
   "metadata": {
    "colab": {
     "base_uri": "https://localhost:8080/"
    },
    "id": "XIZk9yXMohni",
    "outputId": "3c760202-d5ba-4cc8-82ac-52c54033ff0a"
   },
   "outputs": [
    {
     "data": {
      "text/plain": [
       "4.613095238095238"
      ]
     },
     "execution_count": 37,
     "metadata": {},
     "output_type": "execute_result"
    }
   ],
   "source": [
    "100 * len(df[df['Type of ownership'].isin(['-1','Unknown'])]) / len(df)"
   ]
  },
  {
   "cell_type": "code",
   "execution_count": 39,
   "metadata": {
    "colab": {
     "base_uri": "https://localhost:8080/"
    },
    "id": "zZnuNiRqoqV_",
    "outputId": "dc9046aa-8af6-4dee-d568-4607402a46ad"
   },
   "outputs": [
    {
     "data": {
      "text/plain": [
       "10.56547619047619"
      ]
     },
     "execution_count": 39,
     "metadata": {},
     "output_type": "execute_result"
    }
   ],
   "source": [
    "100 * len(df[df['Industry']=='-1']) / len(df)"
   ]
  },
  {
   "cell_type": "code",
   "execution_count": 41,
   "metadata": {
    "colab": {
     "base_uri": "https://localhost:8080/"
    },
    "id": "E4DIyyEJo0BN",
    "outputId": "b1f6e5e0-99d6-47e8-95aa-ad7bae3a1438"
   },
   "outputs": [
    {
     "data": {
      "text/plain": [
       "10.56547619047619"
      ]
     },
     "execution_count": 41,
     "metadata": {},
     "output_type": "execute_result"
    }
   ],
   "source": [
    "100 * len(df[df['Sector']=='-1']) / len(df)"
   ]
  },
  {
   "cell_type": "code",
   "execution_count": 43,
   "metadata": {
    "colab": {
     "base_uri": "https://localhost:8080/"
    },
    "id": "YnEwTZv0o22t",
    "outputId": "4183241a-15ad-4d50-fe9b-504140df11cc"
   },
   "outputs": [
    {
     "data": {
      "text/plain": [
       "35.714285714285715"
      ]
     },
     "execution_count": 43,
     "metadata": {},
     "output_type": "execute_result"
    }
   ],
   "source": [
    "100 * len(df[df['Revenue'].isin(['-1','Unknown / Non-Applicable'])]) / len(df)"
   ]
  },
  {
   "cell_type": "code",
   "execution_count": 45,
   "metadata": {
    "colab": {
     "base_uri": "https://localhost:8080/"
    },
    "id": "-xgMpWzBpLTN",
    "outputId": "00ffaea9-b025-43e9-a75e-d6654067fcd1"
   },
   "outputs": [
    {
     "data": {
      "text/plain": [
       "74.55357142857143"
      ]
     },
     "execution_count": 45,
     "metadata": {},
     "output_type": "execute_result"
    }
   ],
   "source": [
    "100 * len(df[df['Competitors']=='-1']) / len(df)"
   ]
  },
  {
   "cell_type": "markdown",
   "metadata": {
    "id": "8rZsH-WlpO30"
   },
   "source": [
    "So, there are 2 columns that have missing values >35% or >25% or >20% depend on critical business value (Ex : health (more critical)), they are `Revenue` and `Competitors`. We can just remove these 2 columns since they have too many missing values and imputing those missing values will not be a wise choice."
   ]
  },
  {
   "cell_type": "markdown",
   "metadata": {
    "id": "lthwBp6lpm4O"
   },
   "source": [
    "We will also drop the `index` column since it gives no information."
   ]
  },
  {
   "cell_type": "code",
   "execution_count": 47,
   "metadata": {
    "id": "z86fN0SMpMfj"
   },
   "outputs": [],
   "source": [
    "df = df.drop(columns=['Revenue','Competitors','index'])"
   ]
  },
  {
   "cell_type": "code",
   "execution_count": 49,
   "metadata": {
    "colab": {
     "base_uri": "https://localhost:8080/",
     "height": 397
    },
    "id": "GcI0sIskpv1Z",
    "outputId": "7710284e-5b0b-4572-d8fd-971ea543856d"
   },
   "outputs": [
    {
     "data": {
      "text/html": [
       "<div>\n",
       "<style scoped>\n",
       "    .dataframe tbody tr th:only-of-type {\n",
       "        vertical-align: middle;\n",
       "    }\n",
       "\n",
       "    .dataframe tbody tr th {\n",
       "        vertical-align: top;\n",
       "    }\n",
       "\n",
       "    .dataframe thead th {\n",
       "        text-align: right;\n",
       "    }\n",
       "</style>\n",
       "<table border=\"1\" class=\"dataframe\">\n",
       "  <thead>\n",
       "    <tr style=\"text-align: right;\">\n",
       "      <th></th>\n",
       "      <th>Job Title</th>\n",
       "      <th>Salary Estimate</th>\n",
       "      <th>Job Description</th>\n",
       "      <th>Rating</th>\n",
       "      <th>Company Name</th>\n",
       "      <th>Location</th>\n",
       "      <th>Headquarters</th>\n",
       "      <th>Size</th>\n",
       "      <th>Founded</th>\n",
       "      <th>Type of ownership</th>\n",
       "      <th>Industry</th>\n",
       "      <th>Sector</th>\n",
       "    </tr>\n",
       "  </thead>\n",
       "  <tbody>\n",
       "    <tr>\n",
       "      <th>166</th>\n",
       "      <td>Senior Data Analyst</td>\n",
       "      <td>$101K-$165K (Glassdoor est.)</td>\n",
       "      <td>Job Requisition ID #\\n20WD38079\\nJob Title\\nSe...</td>\n",
       "      <td>4.0</td>\n",
       "      <td>Autodesk\\n4.0</td>\n",
       "      <td>San Francisco, CA</td>\n",
       "      <td>San Rafael, CA</td>\n",
       "      <td>5001 to 10000 employees</td>\n",
       "      <td>1982</td>\n",
       "      <td>Company - Public</td>\n",
       "      <td>Computer Hardware &amp; Software</td>\n",
       "      <td>Information Technology</td>\n",
       "    </tr>\n",
       "    <tr>\n",
       "      <th>7</th>\n",
       "      <td>Data Scientist</td>\n",
       "      <td>$137K-$171K (Glassdoor est.)</td>\n",
       "      <td>Introduction\\n\\nHave you always wanted to run ...</td>\n",
       "      <td>3.5</td>\n",
       "      <td>iRobot\\n3.5</td>\n",
       "      <td>Bedford, MA</td>\n",
       "      <td>Bedford, MA</td>\n",
       "      <td>1001 to 5000 employees</td>\n",
       "      <td>1990</td>\n",
       "      <td>Company - Public</td>\n",
       "      <td>Consumer Electronics &amp; Appliances Stores</td>\n",
       "      <td>Retail</td>\n",
       "    </tr>\n",
       "    <tr>\n",
       "      <th>454</th>\n",
       "      <td>Data Scientist</td>\n",
       "      <td>$69K-$116K (Glassdoor est.)</td>\n",
       "      <td>Data Scientist\\nOur Data Scientists perform re...</td>\n",
       "      <td>3.1</td>\n",
       "      <td>MoTek Technologies\\n3.1</td>\n",
       "      <td>Mountain View, CA</td>\n",
       "      <td>San Jose, CA</td>\n",
       "      <td>1 to 50 employees</td>\n",
       "      <td>2009</td>\n",
       "      <td>Company - Private</td>\n",
       "      <td>IT Services</td>\n",
       "      <td>Information Technology</td>\n",
       "    </tr>\n",
       "    <tr>\n",
       "      <th>52</th>\n",
       "      <td>Data Scientist</td>\n",
       "      <td>$75K-$131K (Glassdoor est.)</td>\n",
       "      <td>About Netskope\\n\\nToday, there's more data and...</td>\n",
       "      <td>4.0</td>\n",
       "      <td>Netskope\\n4.0</td>\n",
       "      <td>San Francisco, CA</td>\n",
       "      <td>Santa Clara, CA</td>\n",
       "      <td>501 to 1000 employees</td>\n",
       "      <td>2012</td>\n",
       "      <td>Company - Private</td>\n",
       "      <td>Enterprise Software &amp; Network Solutions</td>\n",
       "      <td>Information Technology</td>\n",
       "    </tr>\n",
       "    <tr>\n",
       "      <th>354</th>\n",
       "      <td>Data Science All Star Program - Data Engineer ...</td>\n",
       "      <td>$122K-$146K (Glassdoor est.)</td>\n",
       "      <td>Data Science All Star Program - Data Engineer ...</td>\n",
       "      <td>4.6</td>\n",
       "      <td>Blend360\\n4.6</td>\n",
       "      <td>Columbia, MD</td>\n",
       "      <td>Columbia, MD</td>\n",
       "      <td>51 to 200 employees</td>\n",
       "      <td>2002</td>\n",
       "      <td>Company - Private</td>\n",
       "      <td>Consulting</td>\n",
       "      <td>Business Services</td>\n",
       "    </tr>\n",
       "  </tbody>\n",
       "</table>\n",
       "</div>"
      ],
      "text/plain": [
       "                                             Job Title  \\\n",
       "166                                Senior Data Analyst   \n",
       "7                                       Data Scientist   \n",
       "454                                     Data Scientist   \n",
       "52                                      Data Scientist   \n",
       "354  Data Science All Star Program - Data Engineer ...   \n",
       "\n",
       "                  Salary Estimate  \\\n",
       "166  $101K-$165K (Glassdoor est.)   \n",
       "7    $137K-$171K (Glassdoor est.)   \n",
       "454   $69K-$116K (Glassdoor est.)   \n",
       "52    $75K-$131K (Glassdoor est.)   \n",
       "354  $122K-$146K (Glassdoor est.)   \n",
       "\n",
       "                                       Job Description  Rating  \\\n",
       "166  Job Requisition ID #\\n20WD38079\\nJob Title\\nSe...     4.0   \n",
       "7    Introduction\\n\\nHave you always wanted to run ...     3.5   \n",
       "454  Data Scientist\\nOur Data Scientists perform re...     3.1   \n",
       "52   About Netskope\\n\\nToday, there's more data and...     4.0   \n",
       "354  Data Science All Star Program - Data Engineer ...     4.6   \n",
       "\n",
       "                Company Name           Location     Headquarters  \\\n",
       "166            Autodesk\\n4.0  San Francisco, CA   San Rafael, CA   \n",
       "7                iRobot\\n3.5        Bedford, MA      Bedford, MA   \n",
       "454  MoTek Technologies\\n3.1  Mountain View, CA     San Jose, CA   \n",
       "52             Netskope\\n4.0  San Francisco, CA  Santa Clara, CA   \n",
       "354            Blend360\\n4.6       Columbia, MD     Columbia, MD   \n",
       "\n",
       "                        Size  Founded  Type of ownership  \\\n",
       "166  5001 to 10000 employees     1982   Company - Public   \n",
       "7     1001 to 5000 employees     1990   Company - Public   \n",
       "454        1 to 50 employees     2009  Company - Private   \n",
       "52     501 to 1000 employees     2012  Company - Private   \n",
       "354      51 to 200 employees     2002  Company - Private   \n",
       "\n",
       "                                     Industry                  Sector  \n",
       "166              Computer Hardware & Software  Information Technology  \n",
       "7    Consumer Electronics & Appliances Stores                  Retail  \n",
       "454                               IT Services  Information Technology  \n",
       "52    Enterprise Software & Network Solutions  Information Technology  \n",
       "354                                Consulting       Business Services  "
      ]
     },
     "execution_count": 49,
     "metadata": {},
     "output_type": "execute_result"
    }
   ],
   "source": [
    "df.sample(5)"
   ]
  },
  {
   "cell_type": "markdown",
   "metadata": {
    "id": "Jzyb3OVBt3J_"
   },
   "source": [
    "Now we can do the imputation on the rest of the columns. Each column will received different imputation methods based on the characteristics of the data."
   ]
  },
  {
   "cell_type": "markdown",
   "metadata": {
    "id": "K6nZXSpzSOLd"
   },
   "source": [
    "### Missing value Handling -> Feature Engineering\n",
    "splitting into train include (Xtrain, ytrain) and test (Xtest, ytest) to prevent data leakage (kebocoran data) that can cause overfitting and downgrade performance Machine Learning."
   ]
  },
  {
   "cell_type": "code",
   "execution_count": 51,
   "metadata": {
    "id": "sCODuwwxSOLd"
   },
   "outputs": [],
   "source": [
    "from sklearn.model_selection import train_test_split\n",
    "train, test = train_test_split(df, test_size = 0.2, random_state=42)\n",
    "#train : test = 80:20 atau 75:25 atau (minimum :70:30 atau maksimum: 90:10) bagi angka yg lain (85:15)"
   ]
  },
  {
   "cell_type": "code",
   "execution_count": 53,
   "metadata": {
    "id": "9rKNwPLLSOLd",
    "outputId": "bbce3f8b-6767-4322-ec1c-0b0ac27ea9b4"
   },
   "outputs": [
    {
     "data": {
      "text/plain": [
       "(135, 12)"
      ]
     },
     "execution_count": 53,
     "metadata": {},
     "output_type": "execute_result"
    }
   ],
   "source": [
    "test.shape"
   ]
  },
  {
   "cell_type": "code",
   "execution_count": 55,
   "metadata": {
    "id": "7q19RjQNSOLe",
    "outputId": "db536ff1-07fa-4f54-b6ef-a449614ae285"
   },
   "outputs": [
    {
     "data": {
      "text/plain": [
       "(537, 12)"
      ]
     },
     "execution_count": 55,
     "metadata": {},
     "output_type": "execute_result"
    }
   ],
   "source": [
    "train.shape"
   ]
  },
  {
   "cell_type": "code",
   "execution_count": 57,
   "metadata": {
    "id": "ukuoWgpVSOLe",
    "outputId": "07b18d5c-eb26-4713-b9b5-700ee4d575e3"
   },
   "outputs": [
    {
     "data": {
      "text/html": [
       "<div>\n",
       "<style scoped>\n",
       "    .dataframe tbody tr th:only-of-type {\n",
       "        vertical-align: middle;\n",
       "    }\n",
       "\n",
       "    .dataframe tbody tr th {\n",
       "        vertical-align: top;\n",
       "    }\n",
       "\n",
       "    .dataframe thead th {\n",
       "        text-align: right;\n",
       "    }\n",
       "</style>\n",
       "<table border=\"1\" class=\"dataframe\">\n",
       "  <thead>\n",
       "    <tr style=\"text-align: right;\">\n",
       "      <th></th>\n",
       "      <th>Job Title</th>\n",
       "      <th>Salary Estimate</th>\n",
       "      <th>Job Description</th>\n",
       "      <th>Rating</th>\n",
       "      <th>Company Name</th>\n",
       "      <th>Location</th>\n",
       "      <th>Headquarters</th>\n",
       "      <th>Size</th>\n",
       "      <th>Founded</th>\n",
       "      <th>Type of ownership</th>\n",
       "      <th>Industry</th>\n",
       "      <th>Sector</th>\n",
       "    </tr>\n",
       "  </thead>\n",
       "  <tbody>\n",
       "    <tr>\n",
       "      <th>480</th>\n",
       "      <td>Data Scientist</td>\n",
       "      <td>$31K-$56K (Glassdoor est.)</td>\n",
       "      <td>What will you be doing?\\n\\nThe Contractor shal...</td>\n",
       "      <td>4.7</td>\n",
       "      <td>Praxis Engineering\\n4.7</td>\n",
       "      <td>Chantilly, VA</td>\n",
       "      <td>Annapolis Junction, MD</td>\n",
       "      <td>201 to 500 employees</td>\n",
       "      <td>2002</td>\n",
       "      <td>Subsidiary or Business Segment</td>\n",
       "      <td>Computer Hardware &amp; Software</td>\n",
       "      <td>Information Technology</td>\n",
       "    </tr>\n",
       "  </tbody>\n",
       "</table>\n",
       "</div>"
      ],
      "text/plain": [
       "          Job Title             Salary Estimate  \\\n",
       "480  Data Scientist  $31K-$56K (Glassdoor est.)   \n",
       "\n",
       "                                       Job Description  Rating  \\\n",
       "480  What will you be doing?\\n\\nThe Contractor shal...     4.7   \n",
       "\n",
       "                Company Name       Location            Headquarters  \\\n",
       "480  Praxis Engineering\\n4.7  Chantilly, VA  Annapolis Junction, MD   \n",
       "\n",
       "                     Size  Founded               Type of ownership  \\\n",
       "480  201 to 500 employees     2002  Subsidiary or Business Segment   \n",
       "\n",
       "                         Industry                  Sector  \n",
       "480  Computer Hardware & Software  Information Technology  "
      ]
     },
     "execution_count": 57,
     "metadata": {},
     "output_type": "execute_result"
    }
   ],
   "source": [
    "train.head(1)"
   ]
  },
  {
   "cell_type": "code",
   "execution_count": 59,
   "metadata": {
    "id": "7Zaw-2AwSOLf",
    "outputId": "8d3972be-2be1-4a9c-ced5-86ad834d2a32"
   },
   "outputs": [
    {
     "data": {
      "text/html": [
       "<div>\n",
       "<style scoped>\n",
       "    .dataframe tbody tr th:only-of-type {\n",
       "        vertical-align: middle;\n",
       "    }\n",
       "\n",
       "    .dataframe tbody tr th {\n",
       "        vertical-align: top;\n",
       "    }\n",
       "\n",
       "    .dataframe thead th {\n",
       "        text-align: right;\n",
       "    }\n",
       "</style>\n",
       "<table border=\"1\" class=\"dataframe\">\n",
       "  <thead>\n",
       "    <tr style=\"text-align: right;\">\n",
       "      <th></th>\n",
       "      <th>Job Title</th>\n",
       "      <th>Salary Estimate</th>\n",
       "      <th>Job Description</th>\n",
       "      <th>Rating</th>\n",
       "      <th>Company Name</th>\n",
       "      <th>Location</th>\n",
       "      <th>Headquarters</th>\n",
       "      <th>Size</th>\n",
       "      <th>Founded</th>\n",
       "      <th>Type of ownership</th>\n",
       "      <th>Industry</th>\n",
       "      <th>Sector</th>\n",
       "    </tr>\n",
       "  </thead>\n",
       "  <tbody>\n",
       "    <tr>\n",
       "      <th>361</th>\n",
       "      <td>Data Scientist</td>\n",
       "      <td>$122K-$146K (Glassdoor est.)</td>\n",
       "      <td>Job Overview: The Data Scientist is a key memb...</td>\n",
       "      <td>-1.0</td>\n",
       "      <td>Hatch Data Inc</td>\n",
       "      <td>San Francisco, CA</td>\n",
       "      <td>-1</td>\n",
       "      <td>-1</td>\n",
       "      <td>-1</td>\n",
       "      <td>-1</td>\n",
       "      <td>-1</td>\n",
       "      <td>-1</td>\n",
       "    </tr>\n",
       "    <tr>\n",
       "      <th>158</th>\n",
       "      <td>Machine Learning Engineer</td>\n",
       "      <td>$101K-$165K (Glassdoor est.)</td>\n",
       "      <td>Overview\\n\\nRadical Convergence is a fast-pace...</td>\n",
       "      <td>-1.0</td>\n",
       "      <td>Radical Convergence</td>\n",
       "      <td>Reston, VA</td>\n",
       "      <td>-1</td>\n",
       "      <td>-1</td>\n",
       "      <td>-1</td>\n",
       "      <td>-1</td>\n",
       "      <td>-1</td>\n",
       "      <td>-1</td>\n",
       "    </tr>\n",
       "    <tr>\n",
       "      <th>481</th>\n",
       "      <td>Data Scientist</td>\n",
       "      <td>$31K-$56K (Glassdoor est.)</td>\n",
       "      <td>General Description: The Data Scientist will s...</td>\n",
       "      <td>3.4</td>\n",
       "      <td>USI\\n3.4</td>\n",
       "      <td>Southfield, MI</td>\n",
       "      <td>Saint Paul, MN</td>\n",
       "      <td>1001 to 5000 employees</td>\n",
       "      <td>1998</td>\n",
       "      <td>Company - Private</td>\n",
       "      <td>Construction</td>\n",
       "      <td>Construction, Repair &amp; Maintenance</td>\n",
       "    </tr>\n",
       "    <tr>\n",
       "      <th>639</th>\n",
       "      <td>Data Scientist</td>\n",
       "      <td>$92K-$155K (Glassdoor est.)</td>\n",
       "      <td>Who is Moxie?\\n\\nMoxie is a company on a missi...</td>\n",
       "      <td>3.0</td>\n",
       "      <td>Moxie Software\\n3.0</td>\n",
       "      <td>Bellevue, WA</td>\n",
       "      <td>San Bruno, CA</td>\n",
       "      <td>51 to 200 employees</td>\n",
       "      <td>1999</td>\n",
       "      <td>Company - Private</td>\n",
       "      <td>Enterprise Software &amp; Network Solutions</td>\n",
       "      <td>Information Technology</td>\n",
       "    </tr>\n",
       "    <tr>\n",
       "      <th>275</th>\n",
       "      <td>Data Scientist</td>\n",
       "      <td>$91K-$150K (Glassdoor est.)</td>\n",
       "      <td>Join us and make YOUR mark on the World!\\n\\nCo...</td>\n",
       "      <td>4.7</td>\n",
       "      <td>Lawrence Livermore National Lab\\n4.7</td>\n",
       "      <td>Livermore, CA</td>\n",
       "      <td>Livermore, CA</td>\n",
       "      <td>1001 to 5000 employees</td>\n",
       "      <td>1952</td>\n",
       "      <td>Government</td>\n",
       "      <td>Federal Agencies</td>\n",
       "      <td>Government</td>\n",
       "    </tr>\n",
       "  </tbody>\n",
       "</table>\n",
       "</div>"
      ],
      "text/plain": [
       "                     Job Title               Salary Estimate  \\\n",
       "361             Data Scientist  $122K-$146K (Glassdoor est.)   \n",
       "158  Machine Learning Engineer  $101K-$165K (Glassdoor est.)   \n",
       "481             Data Scientist    $31K-$56K (Glassdoor est.)   \n",
       "639             Data Scientist   $92K-$155K (Glassdoor est.)   \n",
       "275             Data Scientist   $91K-$150K (Glassdoor est.)   \n",
       "\n",
       "                                       Job Description  Rating  \\\n",
       "361  Job Overview: The Data Scientist is a key memb...    -1.0   \n",
       "158  Overview\\n\\nRadical Convergence is a fast-pace...    -1.0   \n",
       "481  General Description: The Data Scientist will s...     3.4   \n",
       "639  Who is Moxie?\\n\\nMoxie is a company on a missi...     3.0   \n",
       "275  Join us and make YOUR mark on the World!\\n\\nCo...     4.7   \n",
       "\n",
       "                             Company Name           Location    Headquarters  \\\n",
       "361                        Hatch Data Inc  San Francisco, CA              -1   \n",
       "158                   Radical Convergence         Reston, VA              -1   \n",
       "481                              USI\\n3.4     Southfield, MI  Saint Paul, MN   \n",
       "639                   Moxie Software\\n3.0       Bellevue, WA   San Bruno, CA   \n",
       "275  Lawrence Livermore National Lab\\n4.7      Livermore, CA   Livermore, CA   \n",
       "\n",
       "                       Size  Founded  Type of ownership  \\\n",
       "361                      -1       -1                 -1   \n",
       "158                      -1       -1                 -1   \n",
       "481  1001 to 5000 employees     1998  Company - Private   \n",
       "639     51 to 200 employees     1999  Company - Private   \n",
       "275  1001 to 5000 employees     1952         Government   \n",
       "\n",
       "                                    Industry  \\\n",
       "361                                       -1   \n",
       "158                                       -1   \n",
       "481                             Construction   \n",
       "639  Enterprise Software & Network Solutions   \n",
       "275                         Federal Agencies   \n",
       "\n",
       "                                 Sector  \n",
       "361                                  -1  \n",
       "158                                  -1  \n",
       "481  Construction, Repair & Maintenance  \n",
       "639              Information Technology  \n",
       "275                          Government  "
      ]
     },
     "execution_count": 59,
     "metadata": {},
     "output_type": "execute_result"
    }
   ],
   "source": [
    "test.head()"
   ]
  },
  {
   "cell_type": "markdown",
   "metadata": {
    "id": "BhQc538oSOLf"
   },
   "source": [
    "### Aturan missing value handling :\n",
    "1. jika tipe datanya itu **numerik** -> handling menggunakan **median** (robust / tahan terhadap outlier)\n",
    "2. jika tipe datanya itu **kategorik / object / string** -> handling menggunakan **mode / modus**\n"
   ]
  },
  {
   "cell_type": "markdown",
   "metadata": {
    "id": "iUlJJvpDSOLf"
   },
   "source": [
    "#### Median imputation on Rating column"
   ]
  },
  {
   "cell_type": "code",
   "execution_count": 61,
   "metadata": {
    "id": "eExHoE2quPqw"
   },
   "outputs": [],
   "source": [
    "# Median imputation on Rating column : train\n",
    "\n",
    "median_rating_train = train[train['Rating']!=-1]['Rating'].median()"
   ]
  },
  {
   "cell_type": "code",
   "execution_count": 63,
   "metadata": {
    "id": "bBkfDTHjSOLg",
    "outputId": "981a4ad1-a1ab-4a93-ce7c-3bed683fd488"
   },
   "outputs": [
    {
     "data": {
      "text/plain": [
       "3.8"
      ]
     },
     "execution_count": 63,
     "metadata": {},
     "output_type": "execute_result"
    }
   ],
   "source": [
    "median_rating_train"
   ]
  },
  {
   "cell_type": "code",
   "execution_count": 65,
   "metadata": {
    "id": "NvG5EljFSOLg"
   },
   "outputs": [],
   "source": [
    "#implement missing value imputation to train and test, from rating median value in train data\n",
    "train['Rating'] = train['Rating'].apply(lambda x: median_rating_train if x==-1 else x) #train\n",
    "test['Rating'] = test['Rating'].apply(lambda x: median_rating_train if x==-1 else x) #test"
   ]
  },
  {
   "cell_type": "code",
   "execution_count": 67,
   "metadata": {
    "id": "VG5XevqsSOLg",
    "outputId": "4db7d8e6-16f5-441b-b55d-a74e46595f34"
   },
   "outputs": [
    {
     "data": {
      "text/html": [
       "<div>\n",
       "<style scoped>\n",
       "    .dataframe tbody tr th:only-of-type {\n",
       "        vertical-align: middle;\n",
       "    }\n",
       "\n",
       "    .dataframe tbody tr th {\n",
       "        vertical-align: top;\n",
       "    }\n",
       "\n",
       "    .dataframe thead th {\n",
       "        text-align: right;\n",
       "    }\n",
       "</style>\n",
       "<table border=\"1\" class=\"dataframe\">\n",
       "  <thead>\n",
       "    <tr style=\"text-align: right;\">\n",
       "      <th></th>\n",
       "      <th>Job Title</th>\n",
       "      <th>Salary Estimate</th>\n",
       "      <th>Job Description</th>\n",
       "      <th>Rating</th>\n",
       "      <th>Company Name</th>\n",
       "      <th>Location</th>\n",
       "      <th>Headquarters</th>\n",
       "      <th>Size</th>\n",
       "      <th>Founded</th>\n",
       "      <th>Type of ownership</th>\n",
       "      <th>Industry</th>\n",
       "      <th>Sector</th>\n",
       "    </tr>\n",
       "  </thead>\n",
       "  <tbody>\n",
       "  </tbody>\n",
       "</table>\n",
       "</div>"
      ],
      "text/plain": [
       "Empty DataFrame\n",
       "Columns: [Job Title, Salary Estimate, Job Description, Rating, Company Name, Location, Headquarters, Size, Founded, Type of ownership, Industry, Sector]\n",
       "Index: []"
      ]
     },
     "execution_count": 67,
     "metadata": {},
     "output_type": "execute_result"
    }
   ],
   "source": [
    "train[train['Rating']==-1]"
   ]
  },
  {
   "cell_type": "code",
   "execution_count": 69,
   "metadata": {
    "id": "8F-u7jzISOLh",
    "outputId": "74e631f4-041e-417a-ce68-23ef6bf533ed"
   },
   "outputs": [
    {
     "data": {
      "text/html": [
       "<div>\n",
       "<style scoped>\n",
       "    .dataframe tbody tr th:only-of-type {\n",
       "        vertical-align: middle;\n",
       "    }\n",
       "\n",
       "    .dataframe tbody tr th {\n",
       "        vertical-align: top;\n",
       "    }\n",
       "\n",
       "    .dataframe thead th {\n",
       "        text-align: right;\n",
       "    }\n",
       "</style>\n",
       "<table border=\"1\" class=\"dataframe\">\n",
       "  <thead>\n",
       "    <tr style=\"text-align: right;\">\n",
       "      <th></th>\n",
       "      <th>Job Title</th>\n",
       "      <th>Salary Estimate</th>\n",
       "      <th>Job Description</th>\n",
       "      <th>Rating</th>\n",
       "      <th>Company Name</th>\n",
       "      <th>Location</th>\n",
       "      <th>Headquarters</th>\n",
       "      <th>Size</th>\n",
       "      <th>Founded</th>\n",
       "      <th>Type of ownership</th>\n",
       "      <th>Industry</th>\n",
       "      <th>Sector</th>\n",
       "    </tr>\n",
       "  </thead>\n",
       "  <tbody>\n",
       "  </tbody>\n",
       "</table>\n",
       "</div>"
      ],
      "text/plain": [
       "Empty DataFrame\n",
       "Columns: [Job Title, Salary Estimate, Job Description, Rating, Company Name, Location, Headquarters, Size, Founded, Type of ownership, Industry, Sector]\n",
       "Index: []"
      ]
     },
     "execution_count": 69,
     "metadata": {},
     "output_type": "execute_result"
    }
   ],
   "source": [
    "test[test['Rating']==-1]"
   ]
  },
  {
   "cell_type": "markdown",
   "metadata": {
    "id": "3zpv22h7SOLh"
   },
   "source": [
    "#### Mode imputation in Headquarters"
   ]
  },
  {
   "cell_type": "code",
   "execution_count": 71,
   "metadata": {
    "id": "ZZOaPvrBSOLh",
    "outputId": "9d046cf1-9c95-4cf6-be59-fc3b75200e76"
   },
   "outputs": [
    {
     "data": {
      "text/plain": [
       "'New York, NY'"
      ]
     },
     "execution_count": 71,
     "metadata": {},
     "output_type": "execute_result"
    }
   ],
   "source": [
    "# Mode imputation on Headquarters columns\n",
    "\n",
    "mode_headquarters_train = train[train['Headquarters']!='-1']['Headquarters'].mode()[0]\n",
    "mode_headquarters_train"
   ]
  },
  {
   "cell_type": "code",
   "execution_count": 73,
   "metadata": {
    "id": "aeqeBiNiSOLh"
   },
   "outputs": [],
   "source": [
    "#implement missing value imputation to train and test, from rating mode value in train data\n",
    "train['Headquarters'] = train['Headquarters'].apply(lambda x: mode_headquarters_train if x=='-1' else x)\n",
    "test['Headquarters'] = test['Headquarters'].apply(lambda x: mode_headquarters_train if x=='-1' else x)"
   ]
  },
  {
   "cell_type": "code",
   "execution_count": 75,
   "metadata": {
    "id": "mMTDSHDESOLi",
    "outputId": "1209968d-8f44-4faa-9480-242da6dfeb3d"
   },
   "outputs": [
    {
     "data": {
      "text/html": [
       "<div>\n",
       "<style scoped>\n",
       "    .dataframe tbody tr th:only-of-type {\n",
       "        vertical-align: middle;\n",
       "    }\n",
       "\n",
       "    .dataframe tbody tr th {\n",
       "        vertical-align: top;\n",
       "    }\n",
       "\n",
       "    .dataframe thead th {\n",
       "        text-align: right;\n",
       "    }\n",
       "</style>\n",
       "<table border=\"1\" class=\"dataframe\">\n",
       "  <thead>\n",
       "    <tr style=\"text-align: right;\">\n",
       "      <th></th>\n",
       "      <th>Job Title</th>\n",
       "      <th>Salary Estimate</th>\n",
       "      <th>Job Description</th>\n",
       "      <th>Rating</th>\n",
       "      <th>Company Name</th>\n",
       "      <th>Location</th>\n",
       "      <th>Headquarters</th>\n",
       "      <th>Size</th>\n",
       "      <th>Founded</th>\n",
       "      <th>Type of ownership</th>\n",
       "      <th>Industry</th>\n",
       "      <th>Sector</th>\n",
       "    </tr>\n",
       "  </thead>\n",
       "  <tbody>\n",
       "  </tbody>\n",
       "</table>\n",
       "</div>"
      ],
      "text/plain": [
       "Empty DataFrame\n",
       "Columns: [Job Title, Salary Estimate, Job Description, Rating, Company Name, Location, Headquarters, Size, Founded, Type of ownership, Industry, Sector]\n",
       "Index: []"
      ]
     },
     "execution_count": 75,
     "metadata": {},
     "output_type": "execute_result"
    }
   ],
   "source": [
    "train[train['Headquarters']=='-1']"
   ]
  },
  {
   "cell_type": "code",
   "execution_count": 77,
   "metadata": {
    "id": "VuXEycgNSOLi",
    "outputId": "d6a8e3d7-e97a-44b3-a344-ba9fc1cbef76"
   },
   "outputs": [
    {
     "data": {
      "text/html": [
       "<div>\n",
       "<style scoped>\n",
       "    .dataframe tbody tr th:only-of-type {\n",
       "        vertical-align: middle;\n",
       "    }\n",
       "\n",
       "    .dataframe tbody tr th {\n",
       "        vertical-align: top;\n",
       "    }\n",
       "\n",
       "    .dataframe thead th {\n",
       "        text-align: right;\n",
       "    }\n",
       "</style>\n",
       "<table border=\"1\" class=\"dataframe\">\n",
       "  <thead>\n",
       "    <tr style=\"text-align: right;\">\n",
       "      <th></th>\n",
       "      <th>Job Title</th>\n",
       "      <th>Salary Estimate</th>\n",
       "      <th>Job Description</th>\n",
       "      <th>Rating</th>\n",
       "      <th>Company Name</th>\n",
       "      <th>Location</th>\n",
       "      <th>Headquarters</th>\n",
       "      <th>Size</th>\n",
       "      <th>Founded</th>\n",
       "      <th>Type of ownership</th>\n",
       "      <th>Industry</th>\n",
       "      <th>Sector</th>\n",
       "    </tr>\n",
       "  </thead>\n",
       "  <tbody>\n",
       "  </tbody>\n",
       "</table>\n",
       "</div>"
      ],
      "text/plain": [
       "Empty DataFrame\n",
       "Columns: [Job Title, Salary Estimate, Job Description, Rating, Company Name, Location, Headquarters, Size, Founded, Type of ownership, Industry, Sector]\n",
       "Index: []"
      ]
     },
     "execution_count": 77,
     "metadata": {},
     "output_type": "execute_result"
    }
   ],
   "source": [
    "test[test['Headquarters']=='-1']"
   ]
  },
  {
   "cell_type": "markdown",
   "metadata": {
    "id": "o0YjO5wlSOLi"
   },
   "source": [
    "#### Mode imputation on Size column"
   ]
  },
  {
   "cell_type": "code",
   "execution_count": 79,
   "metadata": {
    "id": "0hxKJpNsSOLi",
    "outputId": "23247533-9c3a-4c64-c573-21bdca39fb65"
   },
   "outputs": [
    {
     "name": "stdout",
     "output_type": "stream",
     "text": [
      "<class 'pandas.core.frame.DataFrame'>\n",
      "Index: 537 entries, 480 to 102\n",
      "Data columns (total 12 columns):\n",
      " #   Column             Non-Null Count  Dtype  \n",
      "---  ------             --------------  -----  \n",
      " 0   Job Title          537 non-null    object \n",
      " 1   Salary Estimate    537 non-null    object \n",
      " 2   Job Description    537 non-null    object \n",
      " 3   Rating             537 non-null    float64\n",
      " 4   Company Name       537 non-null    object \n",
      " 5   Location           537 non-null    object \n",
      " 6   Headquarters       537 non-null    object \n",
      " 7   Size               537 non-null    object \n",
      " 8   Founded            537 non-null    int64  \n",
      " 9   Type of ownership  537 non-null    object \n",
      " 10  Industry           537 non-null    object \n",
      " 11  Sector             537 non-null    object \n",
      "dtypes: float64(1), int64(1), object(10)\n",
      "memory usage: 54.5+ KB\n"
     ]
    }
   ],
   "source": [
    "train.info()"
   ]
  },
  {
   "cell_type": "code",
   "execution_count": 81,
   "metadata": {
    "id": "iYEND7S1SOLj",
    "outputId": "f291a744-def9-4c24-abae-5f88dcf7ba26"
   },
   "outputs": [
    {
     "data": {
      "text/plain": [
       "'51 to 200 employees'"
      ]
     },
     "execution_count": 81,
     "metadata": {},
     "output_type": "execute_result"
    }
   ],
   "source": [
    "train_mode_size = train[~train['Size'].isin(['-1','Unknown'])]['Size'].mode()[0]\n",
    "train_mode_size"
   ]
  },
  {
   "cell_type": "code",
   "execution_count": 83,
   "metadata": {
    "id": "7ZFmsuS6SOLj"
   },
   "outputs": [],
   "source": [
    "#implement missing value imputation to train and test, from rating mode value in train data\n",
    "train['Size'] = train['Size'].apply(lambda x: train_mode_size if x in ['-1','Unknown'] else x)\n",
    "test['Size'] = test['Size'].apply(lambda x: train_mode_size if x in ['-1','Unknown'] else x)"
   ]
  },
  {
   "cell_type": "code",
   "execution_count": 85,
   "metadata": {
    "id": "FZkeUwY0SOLj",
    "outputId": "287b968c-0b22-45c6-f127-d6023932510e"
   },
   "outputs": [
    {
     "data": {
      "text/html": [
       "<div>\n",
       "<style scoped>\n",
       "    .dataframe tbody tr th:only-of-type {\n",
       "        vertical-align: middle;\n",
       "    }\n",
       "\n",
       "    .dataframe tbody tr th {\n",
       "        vertical-align: top;\n",
       "    }\n",
       "\n",
       "    .dataframe thead th {\n",
       "        text-align: right;\n",
       "    }\n",
       "</style>\n",
       "<table border=\"1\" class=\"dataframe\">\n",
       "  <thead>\n",
       "    <tr style=\"text-align: right;\">\n",
       "      <th></th>\n",
       "      <th>Job Title</th>\n",
       "      <th>Salary Estimate</th>\n",
       "      <th>Job Description</th>\n",
       "      <th>Rating</th>\n",
       "      <th>Company Name</th>\n",
       "      <th>Location</th>\n",
       "      <th>Headquarters</th>\n",
       "      <th>Size</th>\n",
       "      <th>Founded</th>\n",
       "      <th>Type of ownership</th>\n",
       "      <th>Industry</th>\n",
       "      <th>Sector</th>\n",
       "    </tr>\n",
       "  </thead>\n",
       "  <tbody>\n",
       "  </tbody>\n",
       "</table>\n",
       "</div>"
      ],
      "text/plain": [
       "Empty DataFrame\n",
       "Columns: [Job Title, Salary Estimate, Job Description, Rating, Company Name, Location, Headquarters, Size, Founded, Type of ownership, Industry, Sector]\n",
       "Index: []"
      ]
     },
     "execution_count": 85,
     "metadata": {},
     "output_type": "execute_result"
    }
   ],
   "source": [
    "train[train['Size'].isin(['-1','Unknown'])]"
   ]
  },
  {
   "cell_type": "code",
   "execution_count": 87,
   "metadata": {
    "id": "oEm9I1arSOLj",
    "outputId": "c9ec7374-5c2f-4066-895a-a5cc8261bd31"
   },
   "outputs": [
    {
     "data": {
      "text/html": [
       "<div>\n",
       "<style scoped>\n",
       "    .dataframe tbody tr th:only-of-type {\n",
       "        vertical-align: middle;\n",
       "    }\n",
       "\n",
       "    .dataframe tbody tr th {\n",
       "        vertical-align: top;\n",
       "    }\n",
       "\n",
       "    .dataframe thead th {\n",
       "        text-align: right;\n",
       "    }\n",
       "</style>\n",
       "<table border=\"1\" class=\"dataframe\">\n",
       "  <thead>\n",
       "    <tr style=\"text-align: right;\">\n",
       "      <th></th>\n",
       "      <th>Job Title</th>\n",
       "      <th>Salary Estimate</th>\n",
       "      <th>Job Description</th>\n",
       "      <th>Rating</th>\n",
       "      <th>Company Name</th>\n",
       "      <th>Location</th>\n",
       "      <th>Headquarters</th>\n",
       "      <th>Size</th>\n",
       "      <th>Founded</th>\n",
       "      <th>Type of ownership</th>\n",
       "      <th>Industry</th>\n",
       "      <th>Sector</th>\n",
       "    </tr>\n",
       "  </thead>\n",
       "  <tbody>\n",
       "  </tbody>\n",
       "</table>\n",
       "</div>"
      ],
      "text/plain": [
       "Empty DataFrame\n",
       "Columns: [Job Title, Salary Estimate, Job Description, Rating, Company Name, Location, Headquarters, Size, Founded, Type of ownership, Industry, Sector]\n",
       "Index: []"
      ]
     },
     "execution_count": 87,
     "metadata": {},
     "output_type": "execute_result"
    }
   ],
   "source": [
    "test[test['Size'].isin(['-1','Unknown'])]"
   ]
  },
  {
   "cell_type": "markdown",
   "metadata": {
    "id": "UWCU5K_-SOLk"
   },
   "source": [
    "## Assignment Missing Value Handling\n",
    "1. Investigate Information Dataset\n",
    "2. Handling missing value in columns below, investigate the variable missing :\n",
    "- Founded\n",
    "- Type of ownership\n",
    "- Industry\n",
    "- Sector"
   ]
  },
  {
   "cell_type": "code",
   "execution_count": 89,
   "metadata": {
    "id": "tM-bLf_bSOLk"
   },
   "outputs": [
    {
     "data": {
      "text/plain": [
       "17.55952380952381"
      ]
     },
     "execution_count": 89,
     "metadata": {},
     "output_type": "execute_result"
    }
   ],
   "source": [
    "100 * len(df[df['Founded']==-1]) / len(df)"
   ]
  },
  {
   "cell_type": "code",
   "execution_count": 91,
   "metadata": {
    "id": "8wFmFMSkSOLk"
   },
   "outputs": [
    {
     "data": {
      "text/plain": [
       "4.613095238095238"
      ]
     },
     "execution_count": 91,
     "metadata": {},
     "output_type": "execute_result"
    }
   ],
   "source": [
    "100 * len(df[df['Type of ownership'].isin(['-1','Unknown'])]) / len(df)"
   ]
  },
  {
   "cell_type": "code",
   "execution_count": 93,
   "metadata": {
    "id": "cbX_qSFcSOLk"
   },
   "outputs": [
    {
     "data": {
      "text/plain": [
       "0.0"
      ]
     },
     "execution_count": 93,
     "metadata": {},
     "output_type": "execute_result"
    }
   ],
   "source": [
    "100 * len(df[df['Industry']==-1]) / len(df)"
   ]
  },
  {
   "cell_type": "code",
   "execution_count": 95,
   "metadata": {
    "id": "d-hI-CSFSOLk"
   },
   "outputs": [
    {
     "data": {
      "text/plain": [
       "0.0"
      ]
     },
     "execution_count": 95,
     "metadata": {},
     "output_type": "execute_result"
    }
   ],
   "source": [
    "100 * len(df[df['Sector']==-1]) / len(df)"
   ]
  },
  {
   "cell_type": "markdown",
   "metadata": {
    "id": "mRvHGSKIzb7P"
   },
   "source": [
    "# Duplicate Rows Handling"
   ]
  },
  {
   "cell_type": "code",
   "execution_count": 97,
   "metadata": {
    "id": "aRcmirM2SOLl",
    "outputId": "efa8c8b8-6464-49aa-a443-3eb9b3b53a9b"
   },
   "outputs": [
    {
     "data": {
      "text/plain": [
       "672"
      ]
     },
     "execution_count": 97,
     "metadata": {},
     "output_type": "execute_result"
    }
   ],
   "source": [
    "len(df)"
   ]
  },
  {
   "cell_type": "code",
   "execution_count": 99,
   "metadata": {
    "id": "BXa_MBQkSOLl",
    "outputId": "44cdd4c5-570d-4bde-d56e-4f9ed9aa39a9"
   },
   "outputs": [
    {
     "data": {
      "text/plain": [
       "659"
      ]
     },
     "execution_count": 99,
     "metadata": {},
     "output_type": "execute_result"
    }
   ],
   "source": [
    "len(df.drop_duplicates())"
   ]
  },
  {
   "cell_type": "code",
   "execution_count": 101,
   "metadata": {
    "id": "h0wxiWYISOLl",
    "outputId": "fb7548a5-62f0-4373-946a-d7c148627eaf"
   },
   "outputs": [
    {
     "data": {
      "text/plain": [
       "13"
      ]
     },
     "execution_count": 101,
     "metadata": {},
     "output_type": "execute_result"
    }
   ],
   "source": [
    "len(df) - len(df.drop_duplicates())"
   ]
  },
  {
   "cell_type": "code",
   "execution_count": 103,
   "metadata": {
    "colab": {
     "base_uri": "https://localhost:8080/"
    },
    "id": "EV_km0_kzj9s",
    "outputId": "00b7e833-cab1-4e14-86a2-6eebe1183888"
   },
   "outputs": [
    {
     "data": {
      "text/plain": [
       "0.9806547619047619"
      ]
     },
     "execution_count": 103,
     "metadata": {},
     "output_type": "execute_result"
    }
   ],
   "source": [
    "len(df.drop_duplicates()) / len(df)"
   ]
  },
  {
   "cell_type": "markdown",
   "metadata": {
    "id": "rtsYHXwRzqoB"
   },
   "source": [
    "Since the number is not 1.0, we conclude that there are duplicate rows in this dataset. Thus, we have to drop those duplicate rows."
   ]
  },
  {
   "cell_type": "code",
   "execution_count": 105,
   "metadata": {
    "id": "uOqKn6QmzpBd"
   },
   "outputs": [],
   "source": [
    "df = df.drop_duplicates()"
   ]
  },
  {
   "cell_type": "code",
   "execution_count": 107,
   "metadata": {
    "colab": {
     "base_uri": "https://localhost:8080/",
     "height": 719
    },
    "id": "TRMa2p-k0wZn",
    "outputId": "fd8b3e04-b5ac-4a45-a74f-b7c7e8b7ecb1"
   },
   "outputs": [
    {
     "data": {
      "text/html": [
       "<div>\n",
       "<style scoped>\n",
       "    .dataframe tbody tr th:only-of-type {\n",
       "        vertical-align: middle;\n",
       "    }\n",
       "\n",
       "    .dataframe tbody tr th {\n",
       "        vertical-align: top;\n",
       "    }\n",
       "\n",
       "    .dataframe thead th {\n",
       "        text-align: right;\n",
       "    }\n",
       "</style>\n",
       "<table border=\"1\" class=\"dataframe\">\n",
       "  <thead>\n",
       "    <tr style=\"text-align: right;\">\n",
       "      <th></th>\n",
       "      <th>Job Title</th>\n",
       "      <th>Salary Estimate</th>\n",
       "      <th>Job Description</th>\n",
       "      <th>Rating</th>\n",
       "      <th>Company Name</th>\n",
       "      <th>Location</th>\n",
       "      <th>Headquarters</th>\n",
       "      <th>Size</th>\n",
       "      <th>Founded</th>\n",
       "      <th>Type of ownership</th>\n",
       "      <th>Industry</th>\n",
       "      <th>Sector</th>\n",
       "    </tr>\n",
       "  </thead>\n",
       "  <tbody>\n",
       "    <tr>\n",
       "      <th>0</th>\n",
       "      <td>Sr Data Scientist</td>\n",
       "      <td>$137K-$171K (Glassdoor est.)</td>\n",
       "      <td>Description\\n\\nThe Senior Data Scientist is re...</td>\n",
       "      <td>3.1</td>\n",
       "      <td>Healthfirst\\n3.1</td>\n",
       "      <td>New York, NY</td>\n",
       "      <td>New York, NY</td>\n",
       "      <td>1001 to 5000 employees</td>\n",
       "      <td>1993</td>\n",
       "      <td>Nonprofit Organization</td>\n",
       "      <td>Insurance Carriers</td>\n",
       "      <td>Insurance</td>\n",
       "    </tr>\n",
       "    <tr>\n",
       "      <th>1</th>\n",
       "      <td>Data Scientist</td>\n",
       "      <td>$137K-$171K (Glassdoor est.)</td>\n",
       "      <td>Secure our Nation, Ignite your Future\\n\\nJoin ...</td>\n",
       "      <td>4.2</td>\n",
       "      <td>ManTech\\n4.2</td>\n",
       "      <td>Chantilly, VA</td>\n",
       "      <td>Herndon, VA</td>\n",
       "      <td>5001 to 10000 employees</td>\n",
       "      <td>1968</td>\n",
       "      <td>Company - Public</td>\n",
       "      <td>Research &amp; Development</td>\n",
       "      <td>Business Services</td>\n",
       "    </tr>\n",
       "    <tr>\n",
       "      <th>2</th>\n",
       "      <td>Data Scientist</td>\n",
       "      <td>$137K-$171K (Glassdoor est.)</td>\n",
       "      <td>Overview\\n\\n\\nAnalysis Group is one of the lar...</td>\n",
       "      <td>3.8</td>\n",
       "      <td>Analysis Group\\n3.8</td>\n",
       "      <td>Boston, MA</td>\n",
       "      <td>Boston, MA</td>\n",
       "      <td>1001 to 5000 employees</td>\n",
       "      <td>1981</td>\n",
       "      <td>Private Practice / Firm</td>\n",
       "      <td>Consulting</td>\n",
       "      <td>Business Services</td>\n",
       "    </tr>\n",
       "    <tr>\n",
       "      <th>3</th>\n",
       "      <td>Data Scientist</td>\n",
       "      <td>$137K-$171K (Glassdoor est.)</td>\n",
       "      <td>JOB DESCRIPTION:\\n\\nDo you have a passion for ...</td>\n",
       "      <td>3.5</td>\n",
       "      <td>INFICON\\n3.5</td>\n",
       "      <td>Newton, MA</td>\n",
       "      <td>Bad Ragaz, Switzerland</td>\n",
       "      <td>501 to 1000 employees</td>\n",
       "      <td>2000</td>\n",
       "      <td>Company - Public</td>\n",
       "      <td>Electrical &amp; Electronic Manufacturing</td>\n",
       "      <td>Manufacturing</td>\n",
       "    </tr>\n",
       "    <tr>\n",
       "      <th>4</th>\n",
       "      <td>Data Scientist</td>\n",
       "      <td>$137K-$171K (Glassdoor est.)</td>\n",
       "      <td>Data Scientist\\nAffinity Solutions / Marketing...</td>\n",
       "      <td>2.9</td>\n",
       "      <td>Affinity Solutions\\n2.9</td>\n",
       "      <td>New York, NY</td>\n",
       "      <td>New York, NY</td>\n",
       "      <td>51 to 200 employees</td>\n",
       "      <td>1998</td>\n",
       "      <td>Company - Private</td>\n",
       "      <td>Advertising &amp; Marketing</td>\n",
       "      <td>Business Services</td>\n",
       "    </tr>\n",
       "    <tr>\n",
       "      <th>...</th>\n",
       "      <td>...</td>\n",
       "      <td>...</td>\n",
       "      <td>...</td>\n",
       "      <td>...</td>\n",
       "      <td>...</td>\n",
       "      <td>...</td>\n",
       "      <td>...</td>\n",
       "      <td>...</td>\n",
       "      <td>...</td>\n",
       "      <td>...</td>\n",
       "      <td>...</td>\n",
       "      <td>...</td>\n",
       "    </tr>\n",
       "    <tr>\n",
       "      <th>667</th>\n",
       "      <td>Data Scientist</td>\n",
       "      <td>$105K-$167K (Glassdoor est.)</td>\n",
       "      <td>Summary\\n\\nWe’re looking for a data scientist ...</td>\n",
       "      <td>3.6</td>\n",
       "      <td>TRANZACT\\n3.6</td>\n",
       "      <td>Fort Lee, NJ</td>\n",
       "      <td>Fort Lee, NJ</td>\n",
       "      <td>1001 to 5000 employees</td>\n",
       "      <td>1989</td>\n",
       "      <td>Company - Private</td>\n",
       "      <td>Advertising &amp; Marketing</td>\n",
       "      <td>Business Services</td>\n",
       "    </tr>\n",
       "    <tr>\n",
       "      <th>668</th>\n",
       "      <td>Data Scientist</td>\n",
       "      <td>$105K-$167K (Glassdoor est.)</td>\n",
       "      <td>Job Description\\nBecome a thought leader withi...</td>\n",
       "      <td>-1.0</td>\n",
       "      <td>JKGT</td>\n",
       "      <td>San Francisco, CA</td>\n",
       "      <td>-1</td>\n",
       "      <td>-1</td>\n",
       "      <td>-1</td>\n",
       "      <td>-1</td>\n",
       "      <td>-1</td>\n",
       "      <td>-1</td>\n",
       "    </tr>\n",
       "    <tr>\n",
       "      <th>669</th>\n",
       "      <td>Data Scientist</td>\n",
       "      <td>$105K-$167K (Glassdoor est.)</td>\n",
       "      <td>Join a thriving company that is changing the w...</td>\n",
       "      <td>-1.0</td>\n",
       "      <td>AccessHope</td>\n",
       "      <td>Irwindale, CA</td>\n",
       "      <td>-1</td>\n",
       "      <td>-1</td>\n",
       "      <td>-1</td>\n",
       "      <td>-1</td>\n",
       "      <td>-1</td>\n",
       "      <td>-1</td>\n",
       "    </tr>\n",
       "    <tr>\n",
       "      <th>670</th>\n",
       "      <td>Data Scientist</td>\n",
       "      <td>$105K-$167K (Glassdoor est.)</td>\n",
       "      <td>100 Remote Opportunity As an AINLP Data Scient...</td>\n",
       "      <td>5.0</td>\n",
       "      <td>ChaTeck Incorporated\\n5.0</td>\n",
       "      <td>San Francisco, CA</td>\n",
       "      <td>Santa Clara, CA</td>\n",
       "      <td>1 to 50 employees</td>\n",
       "      <td>-1</td>\n",
       "      <td>Company - Private</td>\n",
       "      <td>Advertising &amp; Marketing</td>\n",
       "      <td>Business Services</td>\n",
       "    </tr>\n",
       "    <tr>\n",
       "      <th>671</th>\n",
       "      <td>Data Scientist</td>\n",
       "      <td>$105K-$167K (Glassdoor est.)</td>\n",
       "      <td>Description\\n\\nThe Data Scientist will be part...</td>\n",
       "      <td>2.7</td>\n",
       "      <td>1-800-Flowers\\n2.7</td>\n",
       "      <td>New York, NY</td>\n",
       "      <td>Carle Place, NY</td>\n",
       "      <td>1001 to 5000 employees</td>\n",
       "      <td>1976</td>\n",
       "      <td>Company - Public</td>\n",
       "      <td>Wholesale</td>\n",
       "      <td>Business Services</td>\n",
       "    </tr>\n",
       "  </tbody>\n",
       "</table>\n",
       "<p>659 rows × 12 columns</p>\n",
       "</div>"
      ],
      "text/plain": [
       "             Job Title               Salary Estimate  \\\n",
       "0    Sr Data Scientist  $137K-$171K (Glassdoor est.)   \n",
       "1       Data Scientist  $137K-$171K (Glassdoor est.)   \n",
       "2       Data Scientist  $137K-$171K (Glassdoor est.)   \n",
       "3       Data Scientist  $137K-$171K (Glassdoor est.)   \n",
       "4       Data Scientist  $137K-$171K (Glassdoor est.)   \n",
       "..                 ...                           ...   \n",
       "667     Data Scientist  $105K-$167K (Glassdoor est.)   \n",
       "668     Data Scientist  $105K-$167K (Glassdoor est.)   \n",
       "669     Data Scientist  $105K-$167K (Glassdoor est.)   \n",
       "670     Data Scientist  $105K-$167K (Glassdoor est.)   \n",
       "671     Data Scientist  $105K-$167K (Glassdoor est.)   \n",
       "\n",
       "                                       Job Description  Rating  \\\n",
       "0    Description\\n\\nThe Senior Data Scientist is re...     3.1   \n",
       "1    Secure our Nation, Ignite your Future\\n\\nJoin ...     4.2   \n",
       "2    Overview\\n\\n\\nAnalysis Group is one of the lar...     3.8   \n",
       "3    JOB DESCRIPTION:\\n\\nDo you have a passion for ...     3.5   \n",
       "4    Data Scientist\\nAffinity Solutions / Marketing...     2.9   \n",
       "..                                                 ...     ...   \n",
       "667  Summary\\n\\nWe’re looking for a data scientist ...     3.6   \n",
       "668  Job Description\\nBecome a thought leader withi...    -1.0   \n",
       "669  Join a thriving company that is changing the w...    -1.0   \n",
       "670  100 Remote Opportunity As an AINLP Data Scient...     5.0   \n",
       "671  Description\\n\\nThe Data Scientist will be part...     2.7   \n",
       "\n",
       "                  Company Name           Location            Headquarters  \\\n",
       "0             Healthfirst\\n3.1       New York, NY            New York, NY   \n",
       "1                 ManTech\\n4.2      Chantilly, VA             Herndon, VA   \n",
       "2          Analysis Group\\n3.8         Boston, MA              Boston, MA   \n",
       "3                 INFICON\\n3.5         Newton, MA  Bad Ragaz, Switzerland   \n",
       "4      Affinity Solutions\\n2.9       New York, NY            New York, NY   \n",
       "..                         ...                ...                     ...   \n",
       "667              TRANZACT\\n3.6       Fort Lee, NJ            Fort Lee, NJ   \n",
       "668                       JKGT  San Francisco, CA                      -1   \n",
       "669                 AccessHope      Irwindale, CA                      -1   \n",
       "670  ChaTeck Incorporated\\n5.0  San Francisco, CA         Santa Clara, CA   \n",
       "671         1-800-Flowers\\n2.7       New York, NY         Carle Place, NY   \n",
       "\n",
       "                        Size  Founded        Type of ownership  \\\n",
       "0     1001 to 5000 employees     1993   Nonprofit Organization   \n",
       "1    5001 to 10000 employees     1968         Company - Public   \n",
       "2     1001 to 5000 employees     1981  Private Practice / Firm   \n",
       "3      501 to 1000 employees     2000         Company - Public   \n",
       "4        51 to 200 employees     1998        Company - Private   \n",
       "..                       ...      ...                      ...   \n",
       "667   1001 to 5000 employees     1989        Company - Private   \n",
       "668                       -1       -1                       -1   \n",
       "669                       -1       -1                       -1   \n",
       "670        1 to 50 employees       -1        Company - Private   \n",
       "671   1001 to 5000 employees     1976         Company - Public   \n",
       "\n",
       "                                  Industry             Sector  \n",
       "0                       Insurance Carriers          Insurance  \n",
       "1                   Research & Development  Business Services  \n",
       "2                               Consulting  Business Services  \n",
       "3    Electrical & Electronic Manufacturing      Manufacturing  \n",
       "4                  Advertising & Marketing  Business Services  \n",
       "..                                     ...                ...  \n",
       "667                Advertising & Marketing  Business Services  \n",
       "668                                     -1                 -1  \n",
       "669                                     -1                 -1  \n",
       "670                Advertising & Marketing  Business Services  \n",
       "671                              Wholesale  Business Services  \n",
       "\n",
       "[659 rows x 12 columns]"
      ]
     },
     "execution_count": 107,
     "metadata": {},
     "output_type": "execute_result"
    }
   ],
   "source": [
    "df"
   ]
  },
  {
   "cell_type": "code",
   "execution_count": 109,
   "metadata": {
    "id": "4Wc4dtRTSOLm",
    "outputId": "96417ea1-2fe7-4bc8-ff1c-d24f396964b0"
   },
   "outputs": [
    {
     "data": {
      "text/plain": [
       "1.0"
      ]
     },
     "execution_count": 109,
     "metadata": {},
     "output_type": "execute_result"
    }
   ],
   "source": [
    "len(df.drop_duplicates()) / len(df)"
   ]
  },
  {
   "cell_type": "markdown",
   "metadata": {
    "id": "1gcdCuALSOLn"
   },
   "source": [
    "### Data diatas sebelumnya itu 0.98, tapi setelah di drop hasilnya ialah 1, maka sudah tidak ada data duplikat lagi."
   ]
  },
  {
   "cell_type": "markdown",
   "metadata": {
    "id": "RVWa-LqESOLn"
   },
   "source": [
    "### Assignment Drop Duplicated\n",
    "1. Drop duplicated in data train and data test\n",
    "2. Check data before and after drop duplicated"
   ]
  },
  {
   "cell_type": "code",
   "execution_count": 111,
   "metadata": {
    "id": "-bnwVtaqSOLn"
   },
   "outputs": [
    {
     "data": {
      "text/plain": [
       "537"
      ]
     },
     "execution_count": 111,
     "metadata": {},
     "output_type": "execute_result"
    }
   ],
   "source": [
    "len(train)"
   ]
  },
  {
   "cell_type": "code",
   "execution_count": 113,
   "metadata": {
    "id": "WiCkp44NSOLn"
   },
   "outputs": [
    {
     "data": {
      "text/plain": [
       "531"
      ]
     },
     "execution_count": 113,
     "metadata": {},
     "output_type": "execute_result"
    }
   ],
   "source": [
    "len(train.drop_duplicates())"
   ]
  },
  {
   "cell_type": "code",
   "execution_count": 115,
   "metadata": {
    "id": "xwGBQbFvSOLn"
   },
   "outputs": [
    {
     "data": {
      "text/plain": [
       "6"
      ]
     },
     "execution_count": 115,
     "metadata": {},
     "output_type": "execute_result"
    }
   ],
   "source": [
    "len(train) - len(train.drop_duplicates())"
   ]
  },
  {
   "cell_type": "code",
   "execution_count": 117,
   "metadata": {
    "id": "1z1lKVD4SOLo"
   },
   "outputs": [
    {
     "data": {
      "text/plain": [
       "0.9888268156424581"
      ]
     },
     "execution_count": 117,
     "metadata": {},
     "output_type": "execute_result"
    }
   ],
   "source": [
    "len(train.drop_duplicates()) / len(train)"
   ]
  },
  {
   "cell_type": "code",
   "execution_count": 119,
   "metadata": {},
   "outputs": [
    {
     "data": {
      "text/html": [
       "<div>\n",
       "<style scoped>\n",
       "    .dataframe tbody tr th:only-of-type {\n",
       "        vertical-align: middle;\n",
       "    }\n",
       "\n",
       "    .dataframe tbody tr th {\n",
       "        vertical-align: top;\n",
       "    }\n",
       "\n",
       "    .dataframe thead th {\n",
       "        text-align: right;\n",
       "    }\n",
       "</style>\n",
       "<table border=\"1\" class=\"dataframe\">\n",
       "  <thead>\n",
       "    <tr style=\"text-align: right;\">\n",
       "      <th></th>\n",
       "      <th>Job Title</th>\n",
       "      <th>Salary Estimate</th>\n",
       "      <th>Job Description</th>\n",
       "      <th>Rating</th>\n",
       "      <th>Company Name</th>\n",
       "      <th>Location</th>\n",
       "      <th>Headquarters</th>\n",
       "      <th>Size</th>\n",
       "      <th>Founded</th>\n",
       "      <th>Type of ownership</th>\n",
       "      <th>Industry</th>\n",
       "      <th>Sector</th>\n",
       "    </tr>\n",
       "  </thead>\n",
       "  <tbody>\n",
       "    <tr>\n",
       "      <th>480</th>\n",
       "      <td>Data Scientist</td>\n",
       "      <td>$31K-$56K (Glassdoor est.)</td>\n",
       "      <td>What will you be doing?\\n\\nThe Contractor shal...</td>\n",
       "      <td>4.7</td>\n",
       "      <td>Praxis Engineering\\n4.7</td>\n",
       "      <td>Chantilly, VA</td>\n",
       "      <td>Annapolis Junction, MD</td>\n",
       "      <td>201 to 500 employees</td>\n",
       "      <td>2002</td>\n",
       "      <td>Subsidiary or Business Segment</td>\n",
       "      <td>Computer Hardware &amp; Software</td>\n",
       "      <td>Information Technology</td>\n",
       "    </tr>\n",
       "    <tr>\n",
       "      <th>605</th>\n",
       "      <td>Data Scientist</td>\n",
       "      <td>$80K-$132K (Glassdoor est.)</td>\n",
       "      <td>Use statistical analysis, machine learning, pa...</td>\n",
       "      <td>4.0</td>\n",
       "      <td>Lorven Technologies Inc\\n4.0</td>\n",
       "      <td>New York, NY</td>\n",
       "      <td>Plainsboro, NJ</td>\n",
       "      <td>1 to 50 employees</td>\n",
       "      <td>-1</td>\n",
       "      <td>Company - Private</td>\n",
       "      <td>Accounting</td>\n",
       "      <td>Accounting &amp; Legal</td>\n",
       "    </tr>\n",
       "    <tr>\n",
       "      <th>61</th>\n",
       "      <td>Machine Learning Engineer</td>\n",
       "      <td>$75K-$131K (Glassdoor est.)</td>\n",
       "      <td>The Video &amp; Image Understanding Group develops...</td>\n",
       "      <td>4.5</td>\n",
       "      <td>Systems &amp; Technology Research\\n4.5</td>\n",
       "      <td>Woburn, MA</td>\n",
       "      <td>Woburn, MA</td>\n",
       "      <td>201 to 500 employees</td>\n",
       "      <td>2010</td>\n",
       "      <td>Company - Private</td>\n",
       "      <td>Aerospace &amp; Defense</td>\n",
       "      <td>Aerospace &amp; Defense</td>\n",
       "    </tr>\n",
       "    <tr>\n",
       "      <th>145</th>\n",
       "      <td>Research Scientist Patient Preferences (Remote)</td>\n",
       "      <td>$90K-$109K (Glassdoor est.)</td>\n",
       "      <td>*We would ideally like this position to be bas...</td>\n",
       "      <td>3.8</td>\n",
       "      <td>Evidera\\n3.8</td>\n",
       "      <td>Bethesda, MD</td>\n",
       "      <td>Bethesda, MD</td>\n",
       "      <td>501 to 1000 employees</td>\n",
       "      <td>2013</td>\n",
       "      <td>Subsidiary or Business Segment</td>\n",
       "      <td>Biotech &amp; Pharmaceuticals</td>\n",
       "      <td>Biotech &amp; Pharmaceuticals</td>\n",
       "    </tr>\n",
       "    <tr>\n",
       "      <th>353</th>\n",
       "      <td>Data Scientist</td>\n",
       "      <td>$122K-$146K (Glassdoor est.)</td>\n",
       "      <td>Join us in making roads safer by making driver...</td>\n",
       "      <td>4.9</td>\n",
       "      <td>Cambridge Mobile Telematics\\n4.9</td>\n",
       "      <td>Cambridge, MA</td>\n",
       "      <td>Cambridge, MA</td>\n",
       "      <td>1 to 50 employees</td>\n",
       "      <td>2010</td>\n",
       "      <td>Company - Private</td>\n",
       "      <td>Enterprise Software &amp; Network Solutions</td>\n",
       "      <td>Information Technology</td>\n",
       "    </tr>\n",
       "    <tr>\n",
       "      <th>...</th>\n",
       "      <td>...</td>\n",
       "      <td>...</td>\n",
       "      <td>...</td>\n",
       "      <td>...</td>\n",
       "      <td>...</td>\n",
       "      <td>...</td>\n",
       "      <td>...</td>\n",
       "      <td>...</td>\n",
       "      <td>...</td>\n",
       "      <td>...</td>\n",
       "      <td>...</td>\n",
       "      <td>...</td>\n",
       "    </tr>\n",
       "    <tr>\n",
       "      <th>71</th>\n",
       "      <td>Data Scientist, Applied Machine Learning - Bay...</td>\n",
       "      <td>$79K-$131K (Glassdoor est.)</td>\n",
       "      <td>Passionate about precision medicine and advanc...</td>\n",
       "      <td>3.3</td>\n",
       "      <td>Tempus Labs\\n3.3</td>\n",
       "      <td>Redwood City, CA</td>\n",
       "      <td>Chicago, IL</td>\n",
       "      <td>501 to 1000 employees</td>\n",
       "      <td>2015</td>\n",
       "      <td>Company - Private</td>\n",
       "      <td>Biotech &amp; Pharmaceuticals</td>\n",
       "      <td>Biotech &amp; Pharmaceuticals</td>\n",
       "    </tr>\n",
       "    <tr>\n",
       "      <th>106</th>\n",
       "      <td>Sr Data Engineer (Sr BI Developer)</td>\n",
       "      <td>$99K-$132K (Glassdoor est.)</td>\n",
       "      <td>Description/Responsibilities\\n\\n\\nResponsible ...</td>\n",
       "      <td>3.2</td>\n",
       "      <td>Tivity Health\\n3.2</td>\n",
       "      <td>Chandler, AZ</td>\n",
       "      <td>Franklin, TN</td>\n",
       "      <td>501 to 1000 employees</td>\n",
       "      <td>1981</td>\n",
       "      <td>Company - Public</td>\n",
       "      <td>Health Care Services &amp; Hospitals</td>\n",
       "      <td>Health Care</td>\n",
       "    </tr>\n",
       "    <tr>\n",
       "      <th>270</th>\n",
       "      <td>Data Engineer</td>\n",
       "      <td>$91K-$150K (Glassdoor est.)</td>\n",
       "      <td>About Shape Security\\n\\nWe are security and we...</td>\n",
       "      <td>4.1</td>\n",
       "      <td>Shape Security\\n4.1</td>\n",
       "      <td>Santa Clara, CA</td>\n",
       "      <td>Mountain View, CA</td>\n",
       "      <td>51 to 200 employees</td>\n",
       "      <td>2011</td>\n",
       "      <td>Company - Private</td>\n",
       "      <td>IT Services</td>\n",
       "      <td>Information Technology</td>\n",
       "    </tr>\n",
       "    <tr>\n",
       "      <th>435</th>\n",
       "      <td>Data Scientist</td>\n",
       "      <td>$79K-$133K (Glassdoor est.)</td>\n",
       "      <td>Job Description\\nWe are looking for the sharpe...</td>\n",
       "      <td>5.0</td>\n",
       "      <td>PeopleCom\\n5.0</td>\n",
       "      <td>McLean, VA</td>\n",
       "      <td>Reston, VA</td>\n",
       "      <td>1 to 50 employees</td>\n",
       "      <td>-1</td>\n",
       "      <td>Company - Private</td>\n",
       "      <td>-1</td>\n",
       "      <td>-1</td>\n",
       "    </tr>\n",
       "    <tr>\n",
       "      <th>102</th>\n",
       "      <td>Health Data Scientist - Biomedical/Biostats</td>\n",
       "      <td>$99K-$132K (Glassdoor est.)</td>\n",
       "      <td>Evidation Health is a new kind of health and m...</td>\n",
       "      <td>4.1</td>\n",
       "      <td>Evidation\\n4.1</td>\n",
       "      <td>Santa Barbara, CA</td>\n",
       "      <td>San Mateo, CA</td>\n",
       "      <td>51 to 200 employees</td>\n",
       "      <td>2012</td>\n",
       "      <td>Company - Private</td>\n",
       "      <td>Internet</td>\n",
       "      <td>Information Technology</td>\n",
       "    </tr>\n",
       "  </tbody>\n",
       "</table>\n",
       "<p>531 rows × 12 columns</p>\n",
       "</div>"
      ],
      "text/plain": [
       "                                             Job Title  \\\n",
       "480                                     Data Scientist   \n",
       "605                                     Data Scientist   \n",
       "61                           Machine Learning Engineer   \n",
       "145    Research Scientist Patient Preferences (Remote)   \n",
       "353                                     Data Scientist   \n",
       "..                                                 ...   \n",
       "71   Data Scientist, Applied Machine Learning - Bay...   \n",
       "106                 Sr Data Engineer (Sr BI Developer)   \n",
       "270                                      Data Engineer   \n",
       "435                                     Data Scientist   \n",
       "102        Health Data Scientist - Biomedical/Biostats   \n",
       "\n",
       "                  Salary Estimate  \\\n",
       "480    $31K-$56K (Glassdoor est.)   \n",
       "605   $80K-$132K (Glassdoor est.)   \n",
       "61    $75K-$131K (Glassdoor est.)   \n",
       "145   $90K-$109K (Glassdoor est.)   \n",
       "353  $122K-$146K (Glassdoor est.)   \n",
       "..                            ...   \n",
       "71    $79K-$131K (Glassdoor est.)   \n",
       "106   $99K-$132K (Glassdoor est.)   \n",
       "270   $91K-$150K (Glassdoor est.)   \n",
       "435   $79K-$133K (Glassdoor est.)   \n",
       "102   $99K-$132K (Glassdoor est.)   \n",
       "\n",
       "                                       Job Description  Rating  \\\n",
       "480  What will you be doing?\\n\\nThe Contractor shal...     4.7   \n",
       "605  Use statistical analysis, machine learning, pa...     4.0   \n",
       "61   The Video & Image Understanding Group develops...     4.5   \n",
       "145  *We would ideally like this position to be bas...     3.8   \n",
       "353  Join us in making roads safer by making driver...     4.9   \n",
       "..                                                 ...     ...   \n",
       "71   Passionate about precision medicine and advanc...     3.3   \n",
       "106  Description/Responsibilities\\n\\n\\nResponsible ...     3.2   \n",
       "270  About Shape Security\\n\\nWe are security and we...     4.1   \n",
       "435  Job Description\\nWe are looking for the sharpe...     5.0   \n",
       "102  Evidation Health is a new kind of health and m...     4.1   \n",
       "\n",
       "                           Company Name           Location  \\\n",
       "480             Praxis Engineering\\n4.7      Chantilly, VA   \n",
       "605        Lorven Technologies Inc\\n4.0       New York, NY   \n",
       "61   Systems & Technology Research\\n4.5         Woburn, MA   \n",
       "145                        Evidera\\n3.8       Bethesda, MD   \n",
       "353    Cambridge Mobile Telematics\\n4.9      Cambridge, MA   \n",
       "..                                  ...                ...   \n",
       "71                     Tempus Labs\\n3.3   Redwood City, CA   \n",
       "106                  Tivity Health\\n3.2       Chandler, AZ   \n",
       "270                 Shape Security\\n4.1    Santa Clara, CA   \n",
       "435                      PeopleCom\\n5.0         McLean, VA   \n",
       "102                      Evidation\\n4.1  Santa Barbara, CA   \n",
       "\n",
       "               Headquarters                   Size  Founded  \\\n",
       "480  Annapolis Junction, MD   201 to 500 employees     2002   \n",
       "605          Plainsboro, NJ      1 to 50 employees       -1   \n",
       "61               Woburn, MA   201 to 500 employees     2010   \n",
       "145            Bethesda, MD  501 to 1000 employees     2013   \n",
       "353           Cambridge, MA      1 to 50 employees     2010   \n",
       "..                      ...                    ...      ...   \n",
       "71              Chicago, IL  501 to 1000 employees     2015   \n",
       "106            Franklin, TN  501 to 1000 employees     1981   \n",
       "270       Mountain View, CA    51 to 200 employees     2011   \n",
       "435              Reston, VA      1 to 50 employees       -1   \n",
       "102           San Mateo, CA    51 to 200 employees     2012   \n",
       "\n",
       "                  Type of ownership                                 Industry  \\\n",
       "480  Subsidiary or Business Segment             Computer Hardware & Software   \n",
       "605               Company - Private                               Accounting   \n",
       "61                Company - Private                      Aerospace & Defense   \n",
       "145  Subsidiary or Business Segment                Biotech & Pharmaceuticals   \n",
       "353               Company - Private  Enterprise Software & Network Solutions   \n",
       "..                              ...                                      ...   \n",
       "71                Company - Private                Biotech & Pharmaceuticals   \n",
       "106                Company - Public         Health Care Services & Hospitals   \n",
       "270               Company - Private                              IT Services   \n",
       "435               Company - Private                                       -1   \n",
       "102               Company - Private                                 Internet   \n",
       "\n",
       "                        Sector  \n",
       "480     Information Technology  \n",
       "605         Accounting & Legal  \n",
       "61         Aerospace & Defense  \n",
       "145  Biotech & Pharmaceuticals  \n",
       "353     Information Technology  \n",
       "..                         ...  \n",
       "71   Biotech & Pharmaceuticals  \n",
       "106                Health Care  \n",
       "270     Information Technology  \n",
       "435                         -1  \n",
       "102     Information Technology  \n",
       "\n",
       "[531 rows x 12 columns]"
      ]
     },
     "execution_count": 119,
     "metadata": {},
     "output_type": "execute_result"
    }
   ],
   "source": [
    "train = train.drop_duplicates()\n",
    "train"
   ]
  },
  {
   "cell_type": "code",
   "execution_count": 121,
   "metadata": {},
   "outputs": [
    {
     "data": {
      "text/plain": [
       "1.0"
      ]
     },
     "execution_count": 121,
     "metadata": {},
     "output_type": "execute_result"
    }
   ],
   "source": [
    "len(train.drop_duplicates()) / len(train)"
   ]
  },
  {
   "cell_type": "code",
   "execution_count": 123,
   "metadata": {},
   "outputs": [
    {
     "data": {
      "text/plain": [
       "135"
      ]
     },
     "execution_count": 123,
     "metadata": {},
     "output_type": "execute_result"
    }
   ],
   "source": [
    "len(test)"
   ]
  },
  {
   "cell_type": "code",
   "execution_count": 125,
   "metadata": {},
   "outputs": [
    {
     "data": {
      "text/plain": [
       "131"
      ]
     },
     "execution_count": 125,
     "metadata": {},
     "output_type": "execute_result"
    }
   ],
   "source": [
    "len(test.drop_duplicates())"
   ]
  },
  {
   "cell_type": "code",
   "execution_count": 127,
   "metadata": {},
   "outputs": [
    {
     "data": {
      "text/plain": [
       "4"
      ]
     },
     "execution_count": 127,
     "metadata": {},
     "output_type": "execute_result"
    }
   ],
   "source": [
    "len(test) - len(test.drop_duplicates())"
   ]
  },
  {
   "cell_type": "code",
   "execution_count": 129,
   "metadata": {},
   "outputs": [
    {
     "data": {
      "text/plain": [
       "0.9703703703703703"
      ]
     },
     "execution_count": 129,
     "metadata": {},
     "output_type": "execute_result"
    }
   ],
   "source": [
    "len(test.drop_duplicates()) / len(test)"
   ]
  },
  {
   "cell_type": "code",
   "execution_count": 131,
   "metadata": {},
   "outputs": [
    {
     "data": {
      "text/html": [
       "<div>\n",
       "<style scoped>\n",
       "    .dataframe tbody tr th:only-of-type {\n",
       "        vertical-align: middle;\n",
       "    }\n",
       "\n",
       "    .dataframe tbody tr th {\n",
       "        vertical-align: top;\n",
       "    }\n",
       "\n",
       "    .dataframe thead th {\n",
       "        text-align: right;\n",
       "    }\n",
       "</style>\n",
       "<table border=\"1\" class=\"dataframe\">\n",
       "  <thead>\n",
       "    <tr style=\"text-align: right;\">\n",
       "      <th></th>\n",
       "      <th>Job Title</th>\n",
       "      <th>Salary Estimate</th>\n",
       "      <th>Job Description</th>\n",
       "      <th>Rating</th>\n",
       "      <th>Company Name</th>\n",
       "      <th>Location</th>\n",
       "      <th>Headquarters</th>\n",
       "      <th>Size</th>\n",
       "      <th>Founded</th>\n",
       "      <th>Type of ownership</th>\n",
       "      <th>Industry</th>\n",
       "      <th>Sector</th>\n",
       "    </tr>\n",
       "  </thead>\n",
       "  <tbody>\n",
       "    <tr>\n",
       "      <th>361</th>\n",
       "      <td>Data Scientist</td>\n",
       "      <td>$122K-$146K (Glassdoor est.)</td>\n",
       "      <td>Job Overview: The Data Scientist is a key memb...</td>\n",
       "      <td>3.8</td>\n",
       "      <td>Hatch Data Inc</td>\n",
       "      <td>San Francisco, CA</td>\n",
       "      <td>New York, NY</td>\n",
       "      <td>51 to 200 employees</td>\n",
       "      <td>-1</td>\n",
       "      <td>-1</td>\n",
       "      <td>-1</td>\n",
       "      <td>-1</td>\n",
       "    </tr>\n",
       "    <tr>\n",
       "      <th>158</th>\n",
       "      <td>Machine Learning Engineer</td>\n",
       "      <td>$101K-$165K (Glassdoor est.)</td>\n",
       "      <td>Overview\\n\\nRadical Convergence is a fast-pace...</td>\n",
       "      <td>3.8</td>\n",
       "      <td>Radical Convergence</td>\n",
       "      <td>Reston, VA</td>\n",
       "      <td>New York, NY</td>\n",
       "      <td>51 to 200 employees</td>\n",
       "      <td>-1</td>\n",
       "      <td>-1</td>\n",
       "      <td>-1</td>\n",
       "      <td>-1</td>\n",
       "    </tr>\n",
       "    <tr>\n",
       "      <th>481</th>\n",
       "      <td>Data Scientist</td>\n",
       "      <td>$31K-$56K (Glassdoor est.)</td>\n",
       "      <td>General Description: The Data Scientist will s...</td>\n",
       "      <td>3.4</td>\n",
       "      <td>USI\\n3.4</td>\n",
       "      <td>Southfield, MI</td>\n",
       "      <td>Saint Paul, MN</td>\n",
       "      <td>1001 to 5000 employees</td>\n",
       "      <td>1998</td>\n",
       "      <td>Company - Private</td>\n",
       "      <td>Construction</td>\n",
       "      <td>Construction, Repair &amp; Maintenance</td>\n",
       "    </tr>\n",
       "    <tr>\n",
       "      <th>639</th>\n",
       "      <td>Data Scientist</td>\n",
       "      <td>$92K-$155K (Glassdoor est.)</td>\n",
       "      <td>Who is Moxie?\\n\\nMoxie is a company on a missi...</td>\n",
       "      <td>3.0</td>\n",
       "      <td>Moxie Software\\n3.0</td>\n",
       "      <td>Bellevue, WA</td>\n",
       "      <td>San Bruno, CA</td>\n",
       "      <td>51 to 200 employees</td>\n",
       "      <td>1999</td>\n",
       "      <td>Company - Private</td>\n",
       "      <td>Enterprise Software &amp; Network Solutions</td>\n",
       "      <td>Information Technology</td>\n",
       "    </tr>\n",
       "    <tr>\n",
       "      <th>275</th>\n",
       "      <td>Data Scientist</td>\n",
       "      <td>$91K-$150K (Glassdoor est.)</td>\n",
       "      <td>Join us and make YOUR mark on the World!\\n\\nCo...</td>\n",
       "      <td>4.7</td>\n",
       "      <td>Lawrence Livermore National Lab\\n4.7</td>\n",
       "      <td>Livermore, CA</td>\n",
       "      <td>Livermore, CA</td>\n",
       "      <td>1001 to 5000 employees</td>\n",
       "      <td>1952</td>\n",
       "      <td>Government</td>\n",
       "      <td>Federal Agencies</td>\n",
       "      <td>Government</td>\n",
       "    </tr>\n",
       "    <tr>\n",
       "      <th>...</th>\n",
       "      <td>...</td>\n",
       "      <td>...</td>\n",
       "      <td>...</td>\n",
       "      <td>...</td>\n",
       "      <td>...</td>\n",
       "      <td>...</td>\n",
       "      <td>...</td>\n",
       "      <td>...</td>\n",
       "      <td>...</td>\n",
       "      <td>...</td>\n",
       "      <td>...</td>\n",
       "      <td>...</td>\n",
       "    </tr>\n",
       "    <tr>\n",
       "      <th>420</th>\n",
       "      <td>Data Scientist</td>\n",
       "      <td>$124K-$198K (Glassdoor est.)</td>\n",
       "      <td>Description Our client is looking to hire a da...</td>\n",
       "      <td>3.5</td>\n",
       "      <td>Robert Half\\n3.5</td>\n",
       "      <td>Manchester, NH</td>\n",
       "      <td>Menlo Park, CA</td>\n",
       "      <td>10000+ employees</td>\n",
       "      <td>1948</td>\n",
       "      <td>Company - Public</td>\n",
       "      <td>Staffing &amp; Outsourcing</td>\n",
       "      <td>Business Services</td>\n",
       "    </tr>\n",
       "    <tr>\n",
       "      <th>552</th>\n",
       "      <td>Senior Data Analyst - Finance &amp; Platform Analy...</td>\n",
       "      <td>$128K-$201K (Glassdoor est.)</td>\n",
       "      <td>About Us\\n\\n\\nLaunched in 2011, Twitch is a gl...</td>\n",
       "      <td>3.6</td>\n",
       "      <td>Twitch\\n3.6</td>\n",
       "      <td>San Francisco, CA</td>\n",
       "      <td>San Francisco, CA</td>\n",
       "      <td>1001 to 5000 employees</td>\n",
       "      <td>2011</td>\n",
       "      <td>Subsidiary or Business Segment</td>\n",
       "      <td>Internet</td>\n",
       "      <td>Information Technology</td>\n",
       "    </tr>\n",
       "    <tr>\n",
       "      <th>212</th>\n",
       "      <td>Data Scientist - TS/SCI Required</td>\n",
       "      <td>$79K-$106K (Glassdoor est.)</td>\n",
       "      <td>US Citizenship Required and (TS or TS/SCI) Req...</td>\n",
       "      <td>5.0</td>\n",
       "      <td>Phoenix Operations Group\\n5.0</td>\n",
       "      <td>Baltimore, MD</td>\n",
       "      <td>Woodbine, MD</td>\n",
       "      <td>1 to 50 employees</td>\n",
       "      <td>2011</td>\n",
       "      <td>Company - Private</td>\n",
       "      <td>IT Services</td>\n",
       "      <td>Information Technology</td>\n",
       "    </tr>\n",
       "    <tr>\n",
       "      <th>18</th>\n",
       "      <td>Data Analyst II</td>\n",
       "      <td>$137K-$171K (Glassdoor est.)</td>\n",
       "      <td>The Data Analyst II is responsible for data en...</td>\n",
       "      <td>4.2</td>\n",
       "      <td>Insight Enterprises, Inc.\\n4.2</td>\n",
       "      <td>Plano, TX</td>\n",
       "      <td>Tempe, AZ</td>\n",
       "      <td>5001 to 10000 employees</td>\n",
       "      <td>1988</td>\n",
       "      <td>Company - Public</td>\n",
       "      <td>Enterprise Software &amp; Network Solutions</td>\n",
       "      <td>Information Technology</td>\n",
       "    </tr>\n",
       "    <tr>\n",
       "      <th>235</th>\n",
       "      <td>Data Scientist</td>\n",
       "      <td>$71K-$123K (Glassdoor est.)</td>\n",
       "      <td>Job Description\\nKey Job Duties and Responsibi...</td>\n",
       "      <td>3.3</td>\n",
       "      <td>II-VI Incorporated\\n3.3</td>\n",
       "      <td>Champaign, IL</td>\n",
       "      <td>Saxonburg, PA</td>\n",
       "      <td>10000+ employees</td>\n",
       "      <td>1971</td>\n",
       "      <td>Company - Public</td>\n",
       "      <td>Telecommunications Manufacturing</td>\n",
       "      <td>Telecommunications</td>\n",
       "    </tr>\n",
       "  </tbody>\n",
       "</table>\n",
       "<p>131 rows × 12 columns</p>\n",
       "</div>"
      ],
      "text/plain": [
       "                                             Job Title  \\\n",
       "361                                     Data Scientist   \n",
       "158                          Machine Learning Engineer   \n",
       "481                                     Data Scientist   \n",
       "639                                     Data Scientist   \n",
       "275                                     Data Scientist   \n",
       "..                                                 ...   \n",
       "420                                     Data Scientist   \n",
       "552  Senior Data Analyst - Finance & Platform Analy...   \n",
       "212                   Data Scientist - TS/SCI Required   \n",
       "18                                     Data Analyst II   \n",
       "235                                     Data Scientist   \n",
       "\n",
       "                  Salary Estimate  \\\n",
       "361  $122K-$146K (Glassdoor est.)   \n",
       "158  $101K-$165K (Glassdoor est.)   \n",
       "481    $31K-$56K (Glassdoor est.)   \n",
       "639   $92K-$155K (Glassdoor est.)   \n",
       "275   $91K-$150K (Glassdoor est.)   \n",
       "..                            ...   \n",
       "420  $124K-$198K (Glassdoor est.)   \n",
       "552  $128K-$201K (Glassdoor est.)   \n",
       "212   $79K-$106K (Glassdoor est.)   \n",
       "18   $137K-$171K (Glassdoor est.)   \n",
       "235   $71K-$123K (Glassdoor est.)   \n",
       "\n",
       "                                       Job Description  Rating  \\\n",
       "361  Job Overview: The Data Scientist is a key memb...     3.8   \n",
       "158  Overview\\n\\nRadical Convergence is a fast-pace...     3.8   \n",
       "481  General Description: The Data Scientist will s...     3.4   \n",
       "639  Who is Moxie?\\n\\nMoxie is a company on a missi...     3.0   \n",
       "275  Join us and make YOUR mark on the World!\\n\\nCo...     4.7   \n",
       "..                                                 ...     ...   \n",
       "420  Description Our client is looking to hire a da...     3.5   \n",
       "552  About Us\\n\\n\\nLaunched in 2011, Twitch is a gl...     3.6   \n",
       "212  US Citizenship Required and (TS or TS/SCI) Req...     5.0   \n",
       "18   The Data Analyst II is responsible for data en...     4.2   \n",
       "235  Job Description\\nKey Job Duties and Responsibi...     3.3   \n",
       "\n",
       "                             Company Name           Location  \\\n",
       "361                        Hatch Data Inc  San Francisco, CA   \n",
       "158                   Radical Convergence         Reston, VA   \n",
       "481                              USI\\n3.4     Southfield, MI   \n",
       "639                   Moxie Software\\n3.0       Bellevue, WA   \n",
       "275  Lawrence Livermore National Lab\\n4.7      Livermore, CA   \n",
       "..                                    ...                ...   \n",
       "420                      Robert Half\\n3.5     Manchester, NH   \n",
       "552                           Twitch\\n3.6  San Francisco, CA   \n",
       "212         Phoenix Operations Group\\n5.0      Baltimore, MD   \n",
       "18         Insight Enterprises, Inc.\\n4.2          Plano, TX   \n",
       "235               II-VI Incorporated\\n3.3      Champaign, IL   \n",
       "\n",
       "          Headquarters                     Size  Founded  \\\n",
       "361       New York, NY      51 to 200 employees       -1   \n",
       "158       New York, NY      51 to 200 employees       -1   \n",
       "481     Saint Paul, MN   1001 to 5000 employees     1998   \n",
       "639      San Bruno, CA      51 to 200 employees     1999   \n",
       "275      Livermore, CA   1001 to 5000 employees     1952   \n",
       "..                 ...                      ...      ...   \n",
       "420     Menlo Park, CA         10000+ employees     1948   \n",
       "552  San Francisco, CA   1001 to 5000 employees     2011   \n",
       "212       Woodbine, MD        1 to 50 employees     2011   \n",
       "18           Tempe, AZ  5001 to 10000 employees     1988   \n",
       "235      Saxonburg, PA         10000+ employees     1971   \n",
       "\n",
       "                  Type of ownership                                 Industry  \\\n",
       "361                              -1                                       -1   \n",
       "158                              -1                                       -1   \n",
       "481               Company - Private                             Construction   \n",
       "639               Company - Private  Enterprise Software & Network Solutions   \n",
       "275                      Government                         Federal Agencies   \n",
       "..                              ...                                      ...   \n",
       "420                Company - Public                   Staffing & Outsourcing   \n",
       "552  Subsidiary or Business Segment                                 Internet   \n",
       "212               Company - Private                              IT Services   \n",
       "18                 Company - Public  Enterprise Software & Network Solutions   \n",
       "235                Company - Public         Telecommunications Manufacturing   \n",
       "\n",
       "                                 Sector  \n",
       "361                                  -1  \n",
       "158                                  -1  \n",
       "481  Construction, Repair & Maintenance  \n",
       "639              Information Technology  \n",
       "275                          Government  \n",
       "..                                  ...  \n",
       "420                   Business Services  \n",
       "552              Information Technology  \n",
       "212              Information Technology  \n",
       "18               Information Technology  \n",
       "235                  Telecommunications  \n",
       "\n",
       "[131 rows x 12 columns]"
      ]
     },
     "execution_count": 131,
     "metadata": {},
     "output_type": "execute_result"
    }
   ],
   "source": [
    "test = test.drop_duplicates()\n",
    "test"
   ]
  },
  {
   "cell_type": "code",
   "execution_count": 133,
   "metadata": {},
   "outputs": [
    {
     "data": {
      "text/plain": [
       "1.0"
      ]
     },
     "execution_count": 133,
     "metadata": {},
     "output_type": "execute_result"
    }
   ],
   "source": [
    "len(test.drop_duplicates()) / len(test)"
   ]
  },
  {
   "cell_type": "code",
   "execution_count": null,
   "metadata": {},
   "outputs": [],
   "source": []
  }
 ],
 "metadata": {
  "colab": {
   "provenance": []
  },
  "kernelspec": {
   "display_name": "Python [conda env:base] *",
   "language": "python",
   "name": "conda-base-py"
  },
  "language_info": {
   "codemirror_mode": {
    "name": "ipython",
    "version": 3
   },
   "file_extension": ".py",
   "mimetype": "text/x-python",
   "name": "python",
   "nbconvert_exporter": "python",
   "pygments_lexer": "ipython3",
   "version": "3.12.3"
  }
 },
 "nbformat": 4,
 "nbformat_minor": 4
}
