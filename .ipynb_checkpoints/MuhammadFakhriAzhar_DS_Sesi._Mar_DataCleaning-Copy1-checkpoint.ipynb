{
 "cells": [
  {
   "cell_type": "code",
   "execution_count": 1,
   "id": "3bf55167",
   "metadata": {
    "colab": {
     "base_uri": "https://localhost:8080/",
     "height": 363
    },
    "executionInfo": {
     "elapsed": 95,
     "status": "ok",
     "timestamp": 1701324716365,
     "user": {
      "displayName": "Nugroho D Y (NDY)",
      "userId": "14852043628843228021"
     },
     "user_tz": -420
    },
    "id": "3bf55167",
    "outputId": "50a8c331-d21e-4508-a340-5b4e0de6dffb"
   },
   "outputs": [
    {
     "data": {
      "text/html": [
       "<div>\n",
       "<style scoped>\n",
       "    .dataframe tbody tr th:only-of-type {\n",
       "        vertical-align: middle;\n",
       "    }\n",
       "\n",
       "    .dataframe tbody tr th {\n",
       "        vertical-align: top;\n",
       "    }\n",
       "\n",
       "    .dataframe thead th {\n",
       "        text-align: right;\n",
       "    }\n",
       "</style>\n",
       "<table border=\"1\" class=\"dataframe\">\n",
       "  <thead>\n",
       "    <tr style=\"text-align: right;\">\n",
       "      <th></th>\n",
       "      <th>phone_number</th>\n",
       "    </tr>\n",
       "  </thead>\n",
       "  <tbody>\n",
       "    <tr>\n",
       "      <th>0</th>\n",
       "      <td>(123) 456-7890</td>\n",
       "    </tr>\n",
       "    <tr>\n",
       "      <th>1</th>\n",
       "      <td>123-456-7890</td>\n",
       "    </tr>\n",
       "    <tr>\n",
       "      <th>2</th>\n",
       "      <td>123.456.7890</td>\n",
       "    </tr>\n",
       "    <tr>\n",
       "      <th>3</th>\n",
       "      <td>1234567890</td>\n",
       "    </tr>\n",
       "    <tr>\n",
       "      <th>4</th>\n",
       "      <td>(234) 567-8901</td>\n",
       "    </tr>\n",
       "    <tr>\n",
       "      <th>5</th>\n",
       "      <td>345-678-9012</td>\n",
       "    </tr>\n",
       "    <tr>\n",
       "      <th>6</th>\n",
       "      <td>345.678.9012</td>\n",
       "    </tr>\n",
       "    <tr>\n",
       "      <th>7</th>\n",
       "      <td>4567890123</td>\n",
       "    </tr>\n",
       "    <tr>\n",
       "      <th>8</th>\n",
       "      <td>(567) 678-9012</td>\n",
       "    </tr>\n",
       "    <tr>\n",
       "      <th>9</th>\n",
       "      <td>678-901-2345</td>\n",
       "    </tr>\n",
       "  </tbody>\n",
       "</table>\n",
       "</div>"
      ],
      "text/plain": [
       "     phone_number\n",
       "0  (123) 456-7890\n",
       "1    123-456-7890\n",
       "2    123.456.7890\n",
       "3      1234567890\n",
       "4  (234) 567-8901\n",
       "5    345-678-9012\n",
       "6    345.678.9012\n",
       "7      4567890123\n",
       "8  (567) 678-9012\n",
       "9    678-901-2345"
      ]
     },
     "execution_count": 1,
     "metadata": {},
     "output_type": "execute_result"
    }
   ],
   "source": [
    "import re\n",
    "import pandas as pd\n",
    "\n",
    "data = {'phone_number': ['(123) 456-7890', '123-456-7890', '123.456.7890', '1234567890',\n",
    "                         '(234) 567-8901', '345-678-9012', '345.678.9012', '4567890123',\n",
    "                         '(567) 678-9012', '678-901-2345']}\n",
    "\n",
    "df = pd.DataFrame(data)\n",
    "df"
   ]
  },
  {
   "cell_type": "markdown",
   "id": "85f1f24d",
   "metadata": {
    "id": "85f1f24d"
   },
   "source": [
    "### 1. Assignment : Cleaning data Phone\n",
    "1. Output yang diharapkan : (123) 456-7890\n",
    "2. Hilangkan jika tidak ada spasi, ada titik, belum ada () dan lainnya, coba analisa :)"
   ]
  },
  {
   "cell_type": "code",
   "execution_count": 3,
   "id": "581ac38d",
   "metadata": {
    "executionInfo": {
     "elapsed": 8,
     "status": "ok",
     "timestamp": 1701324724185,
     "user": {
      "displayName": "Nugroho D Y (NDY)",
      "userId": "14852043628843228021"
     },
     "user_tz": -420
    },
    "id": "581ac38d"
   },
   "outputs": [],
   "source": [
    "df['new_format'] = df['phone_number'].apply(lambda x: re.sub(r'\\D', '', x))"
   ]
  },
  {
   "cell_type": "code",
   "execution_count": 5,
   "id": "730097db",
   "metadata": {
    "executionInfo": {
     "elapsed": 335,
     "status": "ok",
     "timestamp": 1701324763677,
     "user": {
      "displayName": "Nugroho D Y (NDY)",
      "userId": "14852043628843228021"
     },
     "user_tz": -420
    },
    "id": "730097db"
   },
   "outputs": [],
   "source": [
    "df['new_format'] = df['new_format'].apply(lambda x: f\"({x[:3]}) {x[3:6]}-{x[6:]}\")"
   ]
  },
  {
   "cell_type": "code",
   "execution_count": 7,
   "id": "8CnA5j-u28Oz",
   "metadata": {
    "colab": {
     "base_uri": "https://localhost:8080/"
    },
    "executionInfo": {
     "elapsed": 427,
     "status": "ok",
     "timestamp": 1701324785306,
     "user": {
      "displayName": "Nugroho D Y (NDY)",
      "userId": "14852043628843228021"
     },
     "user_tz": -420
    },
    "id": "8CnA5j-u28Oz",
    "outputId": "7f92c3bb-4d37-4d2a-f51d-4735440b0851"
   },
   "outputs": [
    {
     "name": "stdout",
     "output_type": "stream",
     "text": [
      "0    (123) 456-7890\n",
      "1    (123) 456-7890\n",
      "2    (123) 456-7890\n",
      "3    (123) 456-7890\n",
      "4    (234) 567-8901\n",
      "5    (345) 678-9012\n",
      "6    (345) 678-9012\n",
      "7    (456) 789-0123\n",
      "8    (567) 678-9012\n",
      "9    (678) 901-2345\n",
      "Name: new_format, dtype: object\n"
     ]
    }
   ],
   "source": [
    "print(df['new_format'])"
   ]
  },
  {
   "cell_type": "code",
   "execution_count": 9,
   "id": "d2e25391-53a0-43c9-82e5-19470c9396f2",
   "metadata": {},
   "outputs": [
    {
     "data": {
      "text/html": [
       "<div>\n",
       "<style scoped>\n",
       "    .dataframe tbody tr th:only-of-type {\n",
       "        vertical-align: middle;\n",
       "    }\n",
       "\n",
       "    .dataframe tbody tr th {\n",
       "        vertical-align: top;\n",
       "    }\n",
       "\n",
       "    .dataframe thead th {\n",
       "        text-align: right;\n",
       "    }\n",
       "</style>\n",
       "<table border=\"1\" class=\"dataframe\">\n",
       "  <thead>\n",
       "    <tr style=\"text-align: right;\">\n",
       "      <th></th>\n",
       "      <th>phone_number</th>\n",
       "      <th>new_format</th>\n",
       "    </tr>\n",
       "  </thead>\n",
       "  <tbody>\n",
       "    <tr>\n",
       "      <th>0</th>\n",
       "      <td>(123) 456-7890</td>\n",
       "      <td>(123) 456-7890</td>\n",
       "    </tr>\n",
       "    <tr>\n",
       "      <th>1</th>\n",
       "      <td>123-456-7890</td>\n",
       "      <td>(123) 456-7890</td>\n",
       "    </tr>\n",
       "    <tr>\n",
       "      <th>2</th>\n",
       "      <td>123.456.7890</td>\n",
       "      <td>(123) 456-7890</td>\n",
       "    </tr>\n",
       "    <tr>\n",
       "      <th>3</th>\n",
       "      <td>1234567890</td>\n",
       "      <td>(123) 456-7890</td>\n",
       "    </tr>\n",
       "    <tr>\n",
       "      <th>4</th>\n",
       "      <td>(234) 567-8901</td>\n",
       "      <td>(234) 567-8901</td>\n",
       "    </tr>\n",
       "    <tr>\n",
       "      <th>5</th>\n",
       "      <td>345-678-9012</td>\n",
       "      <td>(345) 678-9012</td>\n",
       "    </tr>\n",
       "    <tr>\n",
       "      <th>6</th>\n",
       "      <td>345.678.9012</td>\n",
       "      <td>(345) 678-9012</td>\n",
       "    </tr>\n",
       "    <tr>\n",
       "      <th>7</th>\n",
       "      <td>4567890123</td>\n",
       "      <td>(456) 789-0123</td>\n",
       "    </tr>\n",
       "    <tr>\n",
       "      <th>8</th>\n",
       "      <td>(567) 678-9012</td>\n",
       "      <td>(567) 678-9012</td>\n",
       "    </tr>\n",
       "    <tr>\n",
       "      <th>9</th>\n",
       "      <td>678-901-2345</td>\n",
       "      <td>(678) 901-2345</td>\n",
       "    </tr>\n",
       "  </tbody>\n",
       "</table>\n",
       "</div>"
      ],
      "text/plain": [
       "     phone_number      new_format\n",
       "0  (123) 456-7890  (123) 456-7890\n",
       "1    123-456-7890  (123) 456-7890\n",
       "2    123.456.7890  (123) 456-7890\n",
       "3      1234567890  (123) 456-7890\n",
       "4  (234) 567-8901  (234) 567-8901\n",
       "5    345-678-9012  (345) 678-9012\n",
       "6    345.678.9012  (345) 678-9012\n",
       "7      4567890123  (456) 789-0123\n",
       "8  (567) 678-9012  (567) 678-9012\n",
       "9    678-901-2345  (678) 901-2345"
      ]
     },
     "execution_count": 9,
     "metadata": {},
     "output_type": "execute_result"
    }
   ],
   "source": [
    "df"
   ]
  },
  {
   "cell_type": "code",
   "execution_count": 60,
   "id": "5efa6d4c",
   "metadata": {
    "executionInfo": {
     "elapsed": 336,
     "status": "ok",
     "timestamp": 1701324933981,
     "user": {
      "displayName": "Nugroho D Y (NDY)",
      "userId": "14852043628843228021"
     },
     "user_tz": -420
    },
    "id": "5efa6d4c"
   },
   "outputs": [],
   "source": [
    "# data teks yang mengandung informasi seperti nama, alamat, nomor telepon, dan email\n",
    "data = \"\"\"\n",
    "Nama: John Doe\n",
    "Alamat: 123 Main Street, Apt 4B, New York, NY 10001\n",
    "Nomor Telepon: (555) 555-5555\n",
    "Email: john.doe@example.com\n",
    "\n",
    "Nama: Jane Smith\n",
    "Alamat: 456 Elm Avenue, Los Angeles, CA 90002\n",
    "Nomor Telepon: (444) 444-4444\n",
    "Email: jane.smith@example.com\n",
    "\n",
    "Nama: Ahmad Abdullah\n",
    "Alamat: Jalan Raya No. 789, Jakarta Selatan, Indonesia\n",
    "Nomor Telepon: +62 1234 5678\n",
    "Email: ahmad.abdullah@example.com\n",
    "\n",
    "Nama: Maria Garcia\n",
    "Alamat: 789 Oak Street, San Francisco, CA 94101\n",
    "Nomor Telepon: (333) 333-3333\n",
    "Email: maria.garcia@example.com\n",
    "\n",
    "Nama: Alex Kim\n",
    "Alamat: 567 Pine Road, Chicago, IL 60601\n",
    "Nomor Telepon: (222) 222-2222\n",
    "Email: alex.kim@example.com\n",
    "\n",
    "Nama: Emily Brown\n",
    "Alamat: 890 Cedar Lane, Houston, TX 77001\n",
    "Nomor Telepon: (111) 111-1111\n",
    "Email: emily.brown@example.com\n",
    "\n",
    "Nama: Michael Johnson\n",
    "Alamat: 1234 Maple Drive, Miami, FL 33101\n",
    "Nomor Telepon: (777) 777-7777\n",
    "Email: michael.johnson@example.com\n",
    "\n",
    "Nama: Sophie Williams\n",
    "Alamat: 2345 Birch Street, Boston, MA 02101\n",
    "Nomor Telepon: (888) 888-8888\n",
    "Email: sophie.williams@example.com\n",
    "\n",
    "Nama: David Lee\n",
    "Alamat: 4566 Willow Lane, Seattle, WA 98101\n",
    "Nomor Telepon: (999) 999-9999\n",
    "Email: david.lee@example.com\n",
    "\n",
    "Nama: Sarah Miller\n",
    "Alamat: 6789 Cherry Avenue, Dallas, TX 75201\n",
    "Nomor Telepon: (666) 666-6666\n",
    "Email: sarah.miller@example.com\n",
    "\"\"\""
   ]
  },
  {
   "cell_type": "code",
   "execution_count": 62,
   "id": "b7fd4a20",
   "metadata": {
    "colab": {
     "base_uri": "https://localhost:8080/",
     "height": 140
    },
    "executionInfo": {
     "elapsed": 328,
     "status": "ok",
     "timestamp": 1701324937707,
     "user": {
      "displayName": "Nugroho D Y (NDY)",
      "userId": "14852043628843228021"
     },
     "user_tz": -420
    },
    "id": "b7fd4a20",
    "outputId": "86fd9151-ac02-43eb-9131-ff73b7c01b0d"
   },
   "outputs": [
    {
     "data": {
      "text/plain": [
       "'\\nNama: John Doe\\nAlamat: 123 Main Street, Apt 4B, New York, NY 10001\\nNomor Telepon: (555) 555-5555\\nEmail: john.doe@example.com\\n\\nNama: Jane Smith\\nAlamat: 456 Elm Avenue, Los Angeles, CA 90002\\nNomor Telepon: (444) 444-4444\\nEmail: jane.smith@example.com\\n\\nNama: Ahmad Abdullah\\nAlamat: Jalan Raya No. 789, Jakarta Selatan, Indonesia\\nNomor Telepon: +62 1234 5678\\nEmail: ahmad.abdullah@example.com\\n\\nNama: Maria Garcia\\nAlamat: 789 Oak Street, San Francisco, CA 94101\\nNomor Telepon: (333) 333-3333\\nEmail: maria.garcia@example.com\\n\\nNama: Alex Kim\\nAlamat: 567 Pine Road, Chicago, IL 60601\\nNomor Telepon: (222) 222-2222\\nEmail: alex.kim@example.com\\n\\nNama: Emily Brown\\nAlamat: 890 Cedar Lane, Houston, TX 77001\\nNomor Telepon: (111) 111-1111\\nEmail: emily.brown@example.com\\n\\nNama: Michael Johnson\\nAlamat: 1234 Maple Drive, Miami, FL 33101\\nNomor Telepon: (777) 777-7777\\nEmail: michael.johnson@example.com\\n\\nNama: Sophie Williams\\nAlamat: 2345 Birch Street, Boston, MA 02101\\nNomor Telepon: (888) 888-8888\\nEmail: sophie.williams@example.com\\n\\nNama: David Lee\\nAlamat: 4566 Willow Lane, Seattle, WA 98101\\nNomor Telepon: (999) 999-9999\\nEmail: david.lee@example.com\\n\\nNama: Sarah Miller\\nAlamat: 6789 Cherry Avenue, Dallas, TX 75201\\nNomor Telepon: (666) 666-6666\\nEmail: sarah.miller@example.com\\n'"
      ]
     },
     "execution_count": 62,
     "metadata": {},
     "output_type": "execute_result"
    }
   ],
   "source": [
    "data"
   ]
  },
  {
   "cell_type": "markdown",
   "id": "e2ffd011",
   "metadata": {
    "id": "e2ffd011"
   },
   "source": [
    "### 2. Data diatas belum clean, coba bersihkan :\n",
    "1. Buat proses cleaning dan taruh di dataframe dengan kolom baru :\n",
    "- nama\n",
    "- alamat\n",
    "- nomor telepon\n",
    "- email"
   ]
  },
  {
   "cell_type": "code",
   "execution_count": 64,
   "id": "58W8eNGC3UXp",
   "metadata": {
    "colab": {
     "base_uri": "https://localhost:8080/"
    },
    "executionInfo": {
     "elapsed": 491,
     "status": "ok",
     "timestamp": 1701324940941,
     "user": {
      "displayName": "Nugroho D Y (NDY)",
      "userId": "14852043628843228021"
     },
     "user_tz": -420
    },
    "id": "58W8eNGC3UXp",
    "outputId": "ac829f9c-21b2-4111-9e29-553a0061607d"
   },
   "outputs": [],
   "source": [
    "from io import StringIO\n",
    "stringdata = StringIO (data)"
   ]
  },
  {
   "cell_type": "code",
   "execution_count": 66,
   "id": "bbab70f5-accb-4479-b1a0-45d1cef0f080",
   "metadata": {},
   "outputs": [],
   "source": [
    "pattern = r\"Nama: (.*?)\\nAlamat: (.*?)\\nNomor Telepon: (.*?)\\nEmail: (.*?)\\n\"\n",
    "matches = re.findall(pattern, data, re.DOTALL)"
   ]
  },
  {
   "cell_type": "code",
   "execution_count": 68,
   "id": "9b71e1ed-8e29-451f-a9bc-3c1db8dc3ee5",
   "metadata": {},
   "outputs": [],
   "source": [
    "data = pd.DataFrame(matches, columns=[\"Nama\", \"Alamat\", \"Nomor Telepon\", \"Email\"])"
   ]
  },
  {
   "cell_type": "code",
   "execution_count": 70,
   "id": "183b5d7b-58c7-44d4-babd-9e820df8749b",
   "metadata": {},
   "outputs": [
    {
     "data": {
      "text/html": [
       "<div>\n",
       "<style scoped>\n",
       "    .dataframe tbody tr th:only-of-type {\n",
       "        vertical-align: middle;\n",
       "    }\n",
       "\n",
       "    .dataframe tbody tr th {\n",
       "        vertical-align: top;\n",
       "    }\n",
       "\n",
       "    .dataframe thead th {\n",
       "        text-align: right;\n",
       "    }\n",
       "</style>\n",
       "<table border=\"1\" class=\"dataframe\">\n",
       "  <thead>\n",
       "    <tr style=\"text-align: right;\">\n",
       "      <th></th>\n",
       "      <th>Nama</th>\n",
       "      <th>Alamat</th>\n",
       "      <th>Nomor Telepon</th>\n",
       "      <th>Email</th>\n",
       "    </tr>\n",
       "  </thead>\n",
       "  <tbody>\n",
       "    <tr>\n",
       "      <th>0</th>\n",
       "      <td>John Doe</td>\n",
       "      <td>123 Main Street, Apt 4B, New York, NY 10001</td>\n",
       "      <td>(555) 555-5555</td>\n",
       "      <td>john.doe@example.com</td>\n",
       "    </tr>\n",
       "    <tr>\n",
       "      <th>1</th>\n",
       "      <td>Jane Smith</td>\n",
       "      <td>456 Elm Avenue, Los Angeles, CA 90002</td>\n",
       "      <td>(444) 444-4444</td>\n",
       "      <td>jane.smith@example.com</td>\n",
       "    </tr>\n",
       "    <tr>\n",
       "      <th>2</th>\n",
       "      <td>Ahmad Abdullah</td>\n",
       "      <td>Jalan Raya No. 789, Jakarta Selatan, Indonesia</td>\n",
       "      <td>+62 1234 5678</td>\n",
       "      <td>ahmad.abdullah@example.com</td>\n",
       "    </tr>\n",
       "    <tr>\n",
       "      <th>3</th>\n",
       "      <td>Maria Garcia</td>\n",
       "      <td>789 Oak Street, San Francisco, CA 94101</td>\n",
       "      <td>(333) 333-3333</td>\n",
       "      <td>maria.garcia@example.com</td>\n",
       "    </tr>\n",
       "    <tr>\n",
       "      <th>4</th>\n",
       "      <td>Alex Kim</td>\n",
       "      <td>567 Pine Road, Chicago, IL 60601</td>\n",
       "      <td>(222) 222-2222</td>\n",
       "      <td>alex.kim@example.com</td>\n",
       "    </tr>\n",
       "    <tr>\n",
       "      <th>5</th>\n",
       "      <td>Emily Brown</td>\n",
       "      <td>890 Cedar Lane, Houston, TX 77001</td>\n",
       "      <td>(111) 111-1111</td>\n",
       "      <td>emily.brown@example.com</td>\n",
       "    </tr>\n",
       "    <tr>\n",
       "      <th>6</th>\n",
       "      <td>Michael Johnson</td>\n",
       "      <td>1234 Maple Drive, Miami, FL 33101</td>\n",
       "      <td>(777) 777-7777</td>\n",
       "      <td>michael.johnson@example.com</td>\n",
       "    </tr>\n",
       "    <tr>\n",
       "      <th>7</th>\n",
       "      <td>Sophie Williams</td>\n",
       "      <td>2345 Birch Street, Boston, MA 02101</td>\n",
       "      <td>(888) 888-8888</td>\n",
       "      <td>sophie.williams@example.com</td>\n",
       "    </tr>\n",
       "    <tr>\n",
       "      <th>8</th>\n",
       "      <td>David Lee</td>\n",
       "      <td>4566 Willow Lane, Seattle, WA 98101</td>\n",
       "      <td>(999) 999-9999</td>\n",
       "      <td>david.lee@example.com</td>\n",
       "    </tr>\n",
       "    <tr>\n",
       "      <th>9</th>\n",
       "      <td>Sarah Miller</td>\n",
       "      <td>6789 Cherry Avenue, Dallas, TX 75201</td>\n",
       "      <td>(666) 666-6666</td>\n",
       "      <td>sarah.miller@example.com</td>\n",
       "    </tr>\n",
       "  </tbody>\n",
       "</table>\n",
       "</div>"
      ],
      "text/plain": [
       "              Nama                                          Alamat  \\\n",
       "0         John Doe     123 Main Street, Apt 4B, New York, NY 10001   \n",
       "1       Jane Smith           456 Elm Avenue, Los Angeles, CA 90002   \n",
       "2   Ahmad Abdullah  Jalan Raya No. 789, Jakarta Selatan, Indonesia   \n",
       "3     Maria Garcia         789 Oak Street, San Francisco, CA 94101   \n",
       "4         Alex Kim                567 Pine Road, Chicago, IL 60601   \n",
       "5      Emily Brown               890 Cedar Lane, Houston, TX 77001   \n",
       "6  Michael Johnson               1234 Maple Drive, Miami, FL 33101   \n",
       "7  Sophie Williams             2345 Birch Street, Boston, MA 02101   \n",
       "8        David Lee             4566 Willow Lane, Seattle, WA 98101   \n",
       "9     Sarah Miller            6789 Cherry Avenue, Dallas, TX 75201   \n",
       "\n",
       "    Nomor Telepon                        Email  \n",
       "0  (555) 555-5555         john.doe@example.com  \n",
       "1  (444) 444-4444       jane.smith@example.com  \n",
       "2   +62 1234 5678   ahmad.abdullah@example.com  \n",
       "3  (333) 333-3333     maria.garcia@example.com  \n",
       "4  (222) 222-2222         alex.kim@example.com  \n",
       "5  (111) 111-1111      emily.brown@example.com  \n",
       "6  (777) 777-7777  michael.johnson@example.com  \n",
       "7  (888) 888-8888  sophie.williams@example.com  \n",
       "8  (999) 999-9999        david.lee@example.com  \n",
       "9  (666) 666-6666     sarah.miller@example.com  "
      ]
     },
     "execution_count": 70,
     "metadata": {},
     "output_type": "execute_result"
    }
   ],
   "source": [
    "data"
   ]
  },
  {
   "cell_type": "code",
   "execution_count": 74,
   "id": "VE8LHSf64Z2y",
   "metadata": {
    "colab": {
     "base_uri": "https://localhost:8080/"
    },
    "executionInfo": {
     "elapsed": 316,
     "status": "ok",
     "timestamp": 1701325181065,
     "user": {
      "displayName": "Nugroho D Y (NDY)",
      "userId": "14852043628843228021"
     },
     "user_tz": -420
    },
    "id": "VE8LHSf64Z2y",
    "outputId": "bf0efdd5-0f46-4de1-bd39-6cf50b5b9c31",
    "scrolled": true
   },
   "outputs": [
    {
     "data": {
      "text/plain": [
       "pandas.core.frame.DataFrame"
      ]
     },
     "execution_count": 74,
     "metadata": {},
     "output_type": "execute_result"
    }
   ],
   "source": [
    "type(data)"
   ]
  },
  {
   "cell_type": "code",
   "execution_count": 92,
   "id": "8YmClNPv4mHR",
   "metadata": {
    "executionInfo": {
     "elapsed": 17,
     "status": "ok",
     "timestamp": 1701325476958,
     "user": {
      "displayName": "Nugroho D Y (NDY)",
      "userId": "14852043628843228021"
     },
     "user_tz": -420
    },
    "id": "8YmClNPv4mHR"
   },
   "outputs": [],
   "source": [
    "data['new_format'] = data['Nomor Telepon'].apply(lambda x: re.sub(r'\\D', '', x))"
   ]
  },
  {
   "cell_type": "code",
   "execution_count": 94,
   "id": "cSepFBu25qjI",
   "metadata": {
    "colab": {
     "base_uri": "https://localhost:8080/",
     "height": 363
    },
    "executionInfo": {
     "elapsed": 404,
     "status": "ok",
     "timestamp": 1701325575452,
     "user": {
      "displayName": "Nugroho D Y (NDY)",
      "userId": "14852043628843228021"
     },
     "user_tz": -420
    },
    "id": "cSepFBu25qjI",
    "outputId": "35c3f8e2-c6dd-458b-9877-fc55461e81e8"
   },
   "outputs": [],
   "source": [
    "data['new_format'] = data['new_format'].apply(lambda x: f\"({x[:3]}) {x[3:6]}-{x[6:]}\")"
   ]
  },
  {
   "cell_type": "code",
   "execution_count": 96,
   "id": "35260abd-3dd0-4bf9-a46d-a71c30b903db",
   "metadata": {},
   "outputs": [
    {
     "data": {
      "text/html": [
       "<div>\n",
       "<style scoped>\n",
       "    .dataframe tbody tr th:only-of-type {\n",
       "        vertical-align: middle;\n",
       "    }\n",
       "\n",
       "    .dataframe tbody tr th {\n",
       "        vertical-align: top;\n",
       "    }\n",
       "\n",
       "    .dataframe thead th {\n",
       "        text-align: right;\n",
       "    }\n",
       "</style>\n",
       "<table border=\"1\" class=\"dataframe\">\n",
       "  <thead>\n",
       "    <tr style=\"text-align: right;\">\n",
       "      <th></th>\n",
       "      <th>Nama</th>\n",
       "      <th>Alamat</th>\n",
       "      <th>Nomor Telepon</th>\n",
       "      <th>Email</th>\n",
       "      <th>new_format</th>\n",
       "    </tr>\n",
       "  </thead>\n",
       "  <tbody>\n",
       "    <tr>\n",
       "      <th>0</th>\n",
       "      <td>John Doe</td>\n",
       "      <td>123 Main Street, Apt 4B, New York, NY 10001</td>\n",
       "      <td>(555) 555-5555</td>\n",
       "      <td>john.doe@example.com</td>\n",
       "      <td>(555) 555-5555</td>\n",
       "    </tr>\n",
       "    <tr>\n",
       "      <th>1</th>\n",
       "      <td>Jane Smith</td>\n",
       "      <td>456 Elm Avenue, Los Angeles, CA 90002</td>\n",
       "      <td>(444) 444-4444</td>\n",
       "      <td>jane.smith@example.com</td>\n",
       "      <td>(444) 444-4444</td>\n",
       "    </tr>\n",
       "    <tr>\n",
       "      <th>2</th>\n",
       "      <td>Ahmad Abdullah</td>\n",
       "      <td>Jalan Raya No. 789, Jakarta Selatan, Indonesia</td>\n",
       "      <td>+62 1234 5678</td>\n",
       "      <td>ahmad.abdullah@example.com</td>\n",
       "      <td>(621) 234-5678</td>\n",
       "    </tr>\n",
       "    <tr>\n",
       "      <th>3</th>\n",
       "      <td>Maria Garcia</td>\n",
       "      <td>789 Oak Street, San Francisco, CA 94101</td>\n",
       "      <td>(333) 333-3333</td>\n",
       "      <td>maria.garcia@example.com</td>\n",
       "      <td>(333) 333-3333</td>\n",
       "    </tr>\n",
       "    <tr>\n",
       "      <th>4</th>\n",
       "      <td>Alex Kim</td>\n",
       "      <td>567 Pine Road, Chicago, IL 60601</td>\n",
       "      <td>(222) 222-2222</td>\n",
       "      <td>alex.kim@example.com</td>\n",
       "      <td>(222) 222-2222</td>\n",
       "    </tr>\n",
       "    <tr>\n",
       "      <th>5</th>\n",
       "      <td>Emily Brown</td>\n",
       "      <td>890 Cedar Lane, Houston, TX 77001</td>\n",
       "      <td>(111) 111-1111</td>\n",
       "      <td>emily.brown@example.com</td>\n",
       "      <td>(111) 111-1111</td>\n",
       "    </tr>\n",
       "    <tr>\n",
       "      <th>6</th>\n",
       "      <td>Michael Johnson</td>\n",
       "      <td>1234 Maple Drive, Miami, FL 33101</td>\n",
       "      <td>(777) 777-7777</td>\n",
       "      <td>michael.johnson@example.com</td>\n",
       "      <td>(777) 777-7777</td>\n",
       "    </tr>\n",
       "    <tr>\n",
       "      <th>7</th>\n",
       "      <td>Sophie Williams</td>\n",
       "      <td>2345 Birch Street, Boston, MA 02101</td>\n",
       "      <td>(888) 888-8888</td>\n",
       "      <td>sophie.williams@example.com</td>\n",
       "      <td>(888) 888-8888</td>\n",
       "    </tr>\n",
       "    <tr>\n",
       "      <th>8</th>\n",
       "      <td>David Lee</td>\n",
       "      <td>4566 Willow Lane, Seattle, WA 98101</td>\n",
       "      <td>(999) 999-9999</td>\n",
       "      <td>david.lee@example.com</td>\n",
       "      <td>(999) 999-9999</td>\n",
       "    </tr>\n",
       "    <tr>\n",
       "      <th>9</th>\n",
       "      <td>Sarah Miller</td>\n",
       "      <td>6789 Cherry Avenue, Dallas, TX 75201</td>\n",
       "      <td>(666) 666-6666</td>\n",
       "      <td>sarah.miller@example.com</td>\n",
       "      <td>(666) 666-6666</td>\n",
       "    </tr>\n",
       "  </tbody>\n",
       "</table>\n",
       "</div>"
      ],
      "text/plain": [
       "              Nama                                          Alamat  \\\n",
       "0         John Doe     123 Main Street, Apt 4B, New York, NY 10001   \n",
       "1       Jane Smith           456 Elm Avenue, Los Angeles, CA 90002   \n",
       "2   Ahmad Abdullah  Jalan Raya No. 789, Jakarta Selatan, Indonesia   \n",
       "3     Maria Garcia         789 Oak Street, San Francisco, CA 94101   \n",
       "4         Alex Kim                567 Pine Road, Chicago, IL 60601   \n",
       "5      Emily Brown               890 Cedar Lane, Houston, TX 77001   \n",
       "6  Michael Johnson               1234 Maple Drive, Miami, FL 33101   \n",
       "7  Sophie Williams             2345 Birch Street, Boston, MA 02101   \n",
       "8        David Lee             4566 Willow Lane, Seattle, WA 98101   \n",
       "9     Sarah Miller            6789 Cherry Avenue, Dallas, TX 75201   \n",
       "\n",
       "    Nomor Telepon                        Email      new_format  \n",
       "0  (555) 555-5555         john.doe@example.com  (555) 555-5555  \n",
       "1  (444) 444-4444       jane.smith@example.com  (444) 444-4444  \n",
       "2   +62 1234 5678   ahmad.abdullah@example.com  (621) 234-5678  \n",
       "3  (333) 333-3333     maria.garcia@example.com  (333) 333-3333  \n",
       "4  (222) 222-2222         alex.kim@example.com  (222) 222-2222  \n",
       "5  (111) 111-1111      emily.brown@example.com  (111) 111-1111  \n",
       "6  (777) 777-7777  michael.johnson@example.com  (777) 777-7777  \n",
       "7  (888) 888-8888  sophie.williams@example.com  (888) 888-8888  \n",
       "8  (999) 999-9999        david.lee@example.com  (999) 999-9999  \n",
       "9  (666) 666-6666     sarah.miller@example.com  (666) 666-6666  "
      ]
     },
     "execution_count": 96,
     "metadata": {},
     "output_type": "execute_result"
    }
   ],
   "source": [
    "data"
   ]
  },
  {
   "cell_type": "code",
   "execution_count": 98,
   "id": "7dfb693d",
   "metadata": {
    "executionInfo": {
     "elapsed": 326,
     "status": "ok",
     "timestamp": 1701327693717,
     "user": {
      "displayName": "Nugroho D Y (NDY)",
      "userId": "14852043628843228021"
     },
     "user_tz": -420
    },
    "id": "7dfb693d"
   },
   "outputs": [],
   "source": [
    "# Info teks yang tidak terstruktur\n",
    "data = \"\"\"\n",
    "Ini adalah contoh data teks yang berisi alamat email, tetapi terdapat teks tambahan di sekitarnya seperti:\n",
    "Email saya adalah: example1@example.com, tetapi saya juga punya alamat email lain: sample.email2@example.co.id.\n",
    "Selain itu, ada beberapa email lain di sini:\n",
    "- email3@example.com\n",
    "- email4@example.co.uk\n",
    "- email5@example\n",
    "- Ini bukan alamat email\n",
    "- email6@example.com\n",
    "- email7@example.co.id\n",
    "- email8@example.net\n",
    "- email9@example.com\n",
    "- email10@example.org\n",
    "\"\"\""
   ]
  },
  {
   "cell_type": "markdown",
   "id": "72d7e16a",
   "metadata": {
    "id": "72d7e16a"
   },
   "source": [
    "### 3. Lakukan cleaning data diatas dengan 2 cara :\n",
    "1. regex\n",
    "2. regex + lambda python\n",
    "3. Output misalnya : email3@example.com"
   ]
  },
  {
   "cell_type": "code",
   "execution_count": null,
   "id": "a70e79f5",
   "metadata": {
    "id": "a70e79f5"
   },
   "outputs": [],
   "source": [
    "#regex"
   ]
  },
  {
   "cell_type": "code",
   "execution_count": 100,
   "id": "f8b2c082",
   "metadata": {
    "colab": {
     "base_uri": "https://localhost:8080/"
    },
    "executionInfo": {
     "elapsed": 18,
     "status": "ok",
     "timestamp": 1701327889531,
     "user": {
      "displayName": "Nugroho D Y (NDY)",
      "userId": "14852043628843228021"
     },
     "user_tz": -420
    },
    "id": "f8b2c082",
    "outputId": "a33f0072-897a-4528-abe6-e72fea12cdf2"
   },
   "outputs": [],
   "source": [
    "emails = re.findall(r'[a-zA-Z0-9._%+-]+@[a-zA-Z0-9.-]+\\.[a-zA-Z]{2,}', data)"
   ]
  },
  {
   "cell_type": "code",
   "execution_count": 102,
   "id": "8dc477cb-1869-4699-bcb2-80a243c2b380",
   "metadata": {},
   "outputs": [
    {
     "data": {
      "text/plain": [
       "['example1@example.com',\n",
       " 'sample.email2@example.co.id',\n",
       " 'email3@example.com',\n",
       " 'email4@example.co.uk',\n",
       " 'email6@example.com',\n",
       " 'email7@example.co.id',\n",
       " 'email8@example.net',\n",
       " 'email9@example.com',\n",
       " 'email10@example.org']"
      ]
     },
     "execution_count": 102,
     "metadata": {},
     "output_type": "execute_result"
    }
   ],
   "source": [
    "emails"
   ]
  },
  {
   "cell_type": "code",
   "execution_count": null,
   "id": "76cf289b",
   "metadata": {
    "id": "76cf289b"
   },
   "outputs": [],
   "source": [
    "#regex + lambda"
   ]
  },
  {
   "cell_type": "code",
   "execution_count": 106,
   "id": "be840edd",
   "metadata": {
    "colab": {
     "base_uri": "https://localhost:8080/",
     "height": 426
    },
    "executionInfo": {
     "elapsed": 22,
     "status": "ok",
     "timestamp": 1701325975154,
     "user": {
      "displayName": "Nugroho D Y (NDY)",
      "userId": "14852043628843228021"
     },
     "user_tz": -420
    },
    "id": "be840edd",
    "outputId": "b1afeef3-49a0-440f-93ec-9c506f8809f7"
   },
   "outputs": [],
   "source": [
    "df_email = pd.DataFrame({'Email': emails})"
   ]
  },
  {
   "cell_type": "code",
   "execution_count": 108,
   "id": "EHgN5L_87lez",
   "metadata": {
    "executionInfo": {
     "elapsed": 331,
     "status": "ok",
     "timestamp": 1701326116751,
     "user": {
      "displayName": "Nugroho D Y (NDY)",
      "userId": "14852043628843228021"
     },
     "user_tz": -420
    },
    "id": "EHgN5L_87lez"
   },
   "outputs": [],
   "source": [
    "df_email['Email'] = df_email['Email'].apply(lambda x: x.strip().lower())"
   ]
  },
  {
   "cell_type": "code",
   "execution_count": 110,
   "id": "cQ1UGbEb8GT9",
   "metadata": {
    "colab": {
     "base_uri": "https://localhost:8080/",
     "height": 426
    },
    "executionInfo": {
     "elapsed": 631,
     "status": "ok",
     "timestamp": 1701326191815,
     "user": {
      "displayName": "Nugroho D Y (NDY)",
      "userId": "14852043628843228021"
     },
     "user_tz": -420
    },
    "id": "cQ1UGbEb8GT9",
    "outputId": "0c381756-166e-45c8-e750-e55d249883e0"
   },
   "outputs": [
    {
     "data": {
      "text/html": [
       "<div>\n",
       "<style scoped>\n",
       "    .dataframe tbody tr th:only-of-type {\n",
       "        vertical-align: middle;\n",
       "    }\n",
       "\n",
       "    .dataframe tbody tr th {\n",
       "        vertical-align: top;\n",
       "    }\n",
       "\n",
       "    .dataframe thead th {\n",
       "        text-align: right;\n",
       "    }\n",
       "</style>\n",
       "<table border=\"1\" class=\"dataframe\">\n",
       "  <thead>\n",
       "    <tr style=\"text-align: right;\">\n",
       "      <th></th>\n",
       "      <th>Email</th>\n",
       "    </tr>\n",
       "  </thead>\n",
       "  <tbody>\n",
       "    <tr>\n",
       "      <th>0</th>\n",
       "      <td>example1@example.com</td>\n",
       "    </tr>\n",
       "    <tr>\n",
       "      <th>1</th>\n",
       "      <td>sample.email2@example.co.id</td>\n",
       "    </tr>\n",
       "    <tr>\n",
       "      <th>2</th>\n",
       "      <td>email3@example.com</td>\n",
       "    </tr>\n",
       "    <tr>\n",
       "      <th>3</th>\n",
       "      <td>email4@example.co.uk</td>\n",
       "    </tr>\n",
       "    <tr>\n",
       "      <th>4</th>\n",
       "      <td>email6@example.com</td>\n",
       "    </tr>\n",
       "    <tr>\n",
       "      <th>5</th>\n",
       "      <td>email7@example.co.id</td>\n",
       "    </tr>\n",
       "    <tr>\n",
       "      <th>6</th>\n",
       "      <td>email8@example.net</td>\n",
       "    </tr>\n",
       "    <tr>\n",
       "      <th>7</th>\n",
       "      <td>email9@example.com</td>\n",
       "    </tr>\n",
       "    <tr>\n",
       "      <th>8</th>\n",
       "      <td>email10@example.org</td>\n",
       "    </tr>\n",
       "  </tbody>\n",
       "</table>\n",
       "</div>"
      ],
      "text/plain": [
       "                         Email\n",
       "0         example1@example.com\n",
       "1  sample.email2@example.co.id\n",
       "2           email3@example.com\n",
       "3         email4@example.co.uk\n",
       "4           email6@example.com\n",
       "5         email7@example.co.id\n",
       "6           email8@example.net\n",
       "7           email9@example.com\n",
       "8          email10@example.org"
      ]
     },
     "execution_count": 110,
     "metadata": {},
     "output_type": "execute_result"
    }
   ],
   "source": [
    "df_email"
   ]
  },
  {
   "cell_type": "code",
   "execution_count": 112,
   "id": "da71b343",
   "metadata": {
    "executionInfo": {
     "elapsed": 1013,
     "status": "ok",
     "timestamp": 1701327976737,
     "user": {
      "displayName": "Nugroho D Y (NDY)",
      "userId": "14852043628843228021"
     },
     "user_tz": -420
    },
    "id": "da71b343"
   },
   "outputs": [],
   "source": [
    "# Contoh data dengan daftar nama\n",
    "data = \"\"\"\n",
    "Nama: John\n",
    "Nama: Jane\n",
    "Ini bukan nama\n",
    "Nama: Alice\n",
    "- Nama: Bob\n",
    "Nama: Carol\n",
    "Nama: Dave\n",
    "Tidak ada nama di sini\n",
    "- Nama: Eve\n",
    "\"\"\""
   ]
  },
  {
   "cell_type": "markdown",
   "id": "481225ee",
   "metadata": {
    "id": "481225ee"
   },
   "source": [
    "### 4. Coba ambil nama orang pada data diatas, misal :\n",
    "1. Nama : John\n",
    "2. Output : John\n",
    "3. Ini bukan nama\n",
    "4. Output : None"
   ]
  },
  {
   "cell_type": "code",
   "execution_count": 114,
   "id": "b1025235",
   "metadata": {
    "colab": {
     "base_uri": "https://localhost:8080/"
    },
    "executionInfo": {
     "elapsed": 694,
     "status": "ok",
     "timestamp": 1701328415828,
     "user": {
      "displayName": "Nugroho D Y (NDY)",
      "userId": "14852043628843228021"
     },
     "user_tz": -420
    },
    "id": "b1025235",
    "outputId": "240fb847-5c4e-46d2-be9c-a4f8ca61a269"
   },
   "outputs": [
    {
     "data": {
      "text/plain": [
       "'\\nNama: John\\nNama: Jane\\nIni bukan nama\\nNama: Alice\\n- Nama: Bob\\nNama: Carol\\nNama: Dave\\nTidak ada nama di sini\\n- Nama: Eve\\n'"
      ]
     },
     "execution_count": 114,
     "metadata": {},
     "output_type": "execute_result"
    }
   ],
   "source": [
    "data"
   ]
  },
  {
   "cell_type": "code",
   "execution_count": 118,
   "id": "2fba9aec",
   "metadata": {
    "colab": {
     "base_uri": "https://localhost:8080/",
     "height": 332
    },
    "executionInfo": {
     "elapsed": 332,
     "status": "ok",
     "timestamp": 1701328180860,
     "user": {
      "displayName": "Nugroho D Y (NDY)",
      "userId": "14852043628843228021"
     },
     "user_tz": -420
    },
    "id": "2fba9aec",
    "outputId": "7ca76419-3d26-4153-fc15-7b9de2586e23"
   },
   "outputs": [],
   "source": [
    "pattern = r\"^Nama:\\s+([A-Za-z]+)\"\n",
    "matches = re.findall(pattern, data, re.MULTILINE)"
   ]
  },
  {
   "cell_type": "code",
   "execution_count": 120,
   "id": "CBpVqx8kD-qv",
   "metadata": {
    "executionInfo": {
     "elapsed": 353,
     "status": "ok",
     "timestamp": 1701328816579,
     "user": {
      "displayName": "Nugroho D Y (NDY)",
      "userId": "14852043628843228021"
     },
     "user_tz": -420
    },
    "id": "CBpVqx8kD-qv"
   },
   "outputs": [
    {
     "data": {
      "text/plain": [
       "['John', 'Jane', 'Alice', 'Carol', 'Dave']"
      ]
     },
     "execution_count": 120,
     "metadata": {},
     "output_type": "execute_result"
    }
   ],
   "source": [
    "matches"
   ]
  },
  {
   "cell_type": "code",
   "execution_count": 122,
   "id": "4j0vqITiFFwb",
   "metadata": {
    "executionInfo": {
     "elapsed": 328,
     "status": "ok",
     "timestamp": 1701328889813,
     "user": {
      "displayName": "Nugroho D Y (NDY)",
      "userId": "14852043628843228021"
     },
     "user_tz": -420
    },
    "id": "4j0vqITiFFwb"
   },
   "outputs": [
    {
     "data": {
      "text/html": [
       "<div>\n",
       "<style scoped>\n",
       "    .dataframe tbody tr th:only-of-type {\n",
       "        vertical-align: middle;\n",
       "    }\n",
       "\n",
       "    .dataframe tbody tr th {\n",
       "        vertical-align: top;\n",
       "    }\n",
       "\n",
       "    .dataframe thead th {\n",
       "        text-align: right;\n",
       "    }\n",
       "</style>\n",
       "<table border=\"1\" class=\"dataframe\">\n",
       "  <thead>\n",
       "    <tr style=\"text-align: right;\">\n",
       "      <th></th>\n",
       "      <th>Nama</th>\n",
       "    </tr>\n",
       "  </thead>\n",
       "  <tbody>\n",
       "    <tr>\n",
       "      <th>0</th>\n",
       "      <td>John</td>\n",
       "    </tr>\n",
       "    <tr>\n",
       "      <th>1</th>\n",
       "      <td>Jane</td>\n",
       "    </tr>\n",
       "    <tr>\n",
       "      <th>2</th>\n",
       "      <td>Alice</td>\n",
       "    </tr>\n",
       "    <tr>\n",
       "      <th>3</th>\n",
       "      <td>Carol</td>\n",
       "    </tr>\n",
       "    <tr>\n",
       "      <th>4</th>\n",
       "      <td>Dave</td>\n",
       "    </tr>\n",
       "  </tbody>\n",
       "</table>\n",
       "</div>"
      ],
      "text/plain": [
       "    Nama\n",
       "0   John\n",
       "1   Jane\n",
       "2  Alice\n",
       "3  Carol\n",
       "4   Dave"
      ]
     },
     "execution_count": 122,
     "metadata": {},
     "output_type": "execute_result"
    }
   ],
   "source": [
    "df = pd.DataFrame(matches, columns=[\"Nama\"])\n",
    "df"
   ]
  },
  {
   "cell_type": "code",
   "execution_count": null,
   "id": "91094792-60b3-4edc-b1be-93871164e17d",
   "metadata": {},
   "outputs": [],
   "source": []
  }
 ],
 "metadata": {
  "colab": {
   "provenance": []
  },
  "kernelspec": {
   "display_name": "Python [conda env:base] *",
   "language": "python",
   "name": "conda-base-py"
  },
  "language_info": {
   "codemirror_mode": {
    "name": "ipython",
    "version": 3
   },
   "file_extension": ".py",
   "mimetype": "text/x-python",
   "name": "python",
   "nbconvert_exporter": "python",
   "pygments_lexer": "ipython3",
   "version": "3.12.3"
  }
 },
 "nbformat": 4,
 "nbformat_minor": 5
}
