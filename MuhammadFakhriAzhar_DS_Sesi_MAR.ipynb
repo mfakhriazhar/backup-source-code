{
 "cells": [
  {
   "cell_type": "code",
   "execution_count": null,
   "id": "50084012-3c9d-499c-929c-375c6edfde95",
   "metadata": {},
   "outputs": [],
   "source": [
    "#Assignment 1"
   ]
  },
  {
   "cell_type": "code",
   "execution_count": 3,
   "id": "072bfec6-8d93-441f-a37e-63400e611da1",
   "metadata": {},
   "outputs": [
    {
     "name": "stdin",
     "output_type": "stream",
     "text": [
      "Masukkan Nilai Mahasiswa:  90\n"
     ]
    },
    {
     "name": "stdout",
     "output_type": "stream",
     "text": [
      "A\n"
     ]
    }
   ],
   "source": [
    "try:\n",
    "    nilai_mahasiswa = input(\"Masukkan Nilai Mahasiswa: \")\n",
    "\n",
    "    if nilai_mahasiswa == \"\":\n",
    "        print(\"Mahasiswa Tidak Mengikuti Ujian\")\n",
    "    else:\n",
    "        nilai_mahasiswa = float(nilai_mahasiswa)\n",
    "        #Range Mahasiswa\n",
    "        A =(80,100)\n",
    "        B =(70,79)\n",
    "        C =(50,69)\n",
    "        D =(0,49)\n",
    "        \n",
    "        if A[0] <= nilai_mahasiswa <= A[1]:\n",
    "            print(\"A\")\n",
    "        elif B[0] <= nilai_mahasiswa <= B[1]:\n",
    "            print(\"B\")\n",
    "        elif C[0] <= nilai_mahasiswa <= C[1]:\n",
    "            print(\"D\")\n",
    "        elif D[0] <= nilai_mahasiswa <= D[1]:\n",
    "            print(\"D\")\n",
    "        else:\n",
    "            print(\"Nilai harus diantara 0-100\")\n",
    "except ValueError:\n",
    "    print(\"Input Tidak Valid\")"
   ]
  },
  {
   "cell_type": "code",
   "execution_count": null,
   "id": "d648ff35-f7bc-4e93-8f51-991014807bc6",
   "metadata": {},
   "outputs": [],
   "source": [
    "#Assignment 2"
   ]
  },
  {
   "cell_type": "code",
   "execution_count": null,
   "id": "bcb191f2-53e3-4463-ad91-90e4893790f0",
   "metadata": {},
   "outputs": [],
   "source": [
    "#1"
   ]
  },
  {
   "cell_type": "code",
   "execution_count": 6,
   "id": "706762d6-623e-41c3-ab4b-626932e58273",
   "metadata": {},
   "outputs": [
    {
     "name": "stdout",
     "output_type": "stream",
     "text": [
      "89 45 67 91\n",
      "56 34 45\n"
     ]
    }
   ],
   "source": [
    "x = [23, 89, 12, 45, 67, 91, 34, 78, 56]\n",
    "print(x[1],x[3],x[4],x[5])\n",
    "print(x[-1],x[-3],x[3])"
   ]
  },
  {
   "cell_type": "code",
   "execution_count": null,
   "id": "575b58e0-a9a2-4ad4-9b04-cdc6bb423eb0",
   "metadata": {},
   "outputs": [],
   "source": [
    "#2"
   ]
  },
  {
   "cell_type": "code",
   "execution_count": 9,
   "id": "ead8c639-a8ad-4d92-95fd-c00130f444e0",
   "metadata": {},
   "outputs": [
    {
     "name": "stdin",
     "output_type": "stream",
     "text": [
      "Masukkan nama depan:  Ifa\n",
      "Masukkan nama belakang:  Irwanda\n",
      "Masukkan nama lengkap:  Ifa Ramadhani Irwanda\n",
      "Masukkan tanggal lahir:  23\n",
      "Masukkan bulan lahir:  Des\n",
      "Masukkan tahun lahir:  2000\n"
     ]
    },
    {
     "data": {
      "text/plain": [
       "{'nama_depan': 'Ifa',\n",
       " 'nama_belakang': 'Irwanda',\n",
       " 'nama_lengkap': 'Ifa Ramadhani Irwanda',\n",
       " 'tanggal_lahir': '23',\n",
       " 'bulan_lahir': 'Des',\n",
       " 'tahun_lahir': '2000'}"
      ]
     },
     "execution_count": 9,
     "metadata": {},
     "output_type": "execute_result"
    }
   ],
   "source": [
    "profil = {'nama_depan':input('Masukkan nama depan: '),\n",
    "          'nama_belakang':input('Masukkan nama belakang: '),\n",
    "          'nama_lengkap':input('Masukkan nama lengkap: '),\n",
    "          'tanggal_lahir':input('Masukkan tanggal lahir: '),\n",
    "          'bulan_lahir':input('Masukkan bulan lahir: '),\n",
    "          'tahun_lahir':input('Masukkan tahun lahir: ')}\n",
    "profil"
   ]
  },
  {
   "cell_type": "code",
   "execution_count": null,
   "id": "93bc5605-3d7c-4809-9ab5-149c238c85ca",
   "metadata": {},
   "outputs": [],
   "source": [
    "#Assignmnet 3"
   ]
  },
  {
   "cell_type": "code",
   "execution_count": 12,
   "id": "24403a03-27d6-4f2d-b352-dde66a0764a2",
   "metadata": {},
   "outputs": [
    {
     "name": "stdout",
     "output_type": "stream",
     "text": [
      "{'Pelanggan': ['Raka', 'Nadia', 'Farhan'], 'Nomor Antrian': [1, 2, 3], 'Order': [['Kopi', 'Snack'], ['Kopi', 'Air Mineral', 'Nasi Goreng'], ['Kopi', 'Mix Platter']], 'Total Cost': [35000, 50000, 40000]}\n",
      "Total Pemasukan:Rp.125000\n",
      "Total Pelanggan:3 orang\n"
     ]
    }
   ],
   "source": [
    "pelanggan = ['Raka','Nadia','Farhan']\n",
    "antrian = [1,2,3]\n",
    "pesanan_pelanggan = [['Kopi','Snack'],['Kopi','Air Mineral','Nasi Goreng'],['Kopi','Mix Platter']]\n",
    "harga = [35000,50000,40000]\n",
    "\n",
    "daftar_pembelian = {'Pelanggan':pelanggan,\n",
    "                    'Nomor Antrian':antrian,\n",
    "                    'Order':pesanan_pelanggan,\n",
    "                    'Total Cost':harga}\n",
    "\n",
    "total_pemasukan = sum(harga)\n",
    "total_pelanggan = len(pelanggan)\n",
    "\n",
    "print(daftar_pembelian)\n",
    "print(f'Total Pemasukan:Rp.{total_pemasukan}')\n",
    "print(f'Total Pelanggan:{total_pelanggan} orang')"
   ]
  },
  {
   "cell_type": "code",
   "execution_count": 46,
   "id": "4c1ade38-b9c3-47a4-8606-1433bce20a50",
   "metadata": {},
   "outputs": [
    {
     "name": "stdin",
     "output_type": "stream",
     "text": [
      "Nomor Antrian:  1\n",
      "Nama Pelanggan:  ifa\n",
      "Daftar Pesanan:  vanilla latte\n",
      "Total Bill:  25000\n",
      "Tambah Pelanggan lain:  tidak\n"
     ]
    },
    {
     "name": "stdout",
     "output_type": "stream",
     "text": [
      "\n",
      "Daftar Pembelian Cafe ABCD\n",
      "{'1': {'Pelanggan': 'ifa', 'Pesanan': 'vanilla latte', 'Bill': 25000.0}}\n",
      "\n",
      "Total Pelanggan: 1 orang\n",
      "Total Pemasukan: Rp. 25000.0\n"
     ]
    }
   ],
   "source": [
    "daftar_pembelian = {}\n",
    "while True:\n",
    "    antrian =input('Nomor Antrian: ')\n",
    "    data_pembelian = {\n",
    "        'Pelanggan':input('Nama Pelanggan: '),\n",
    "        'Pesanan' :input('Daftar Pesanan: '),\n",
    "        'Bill' :float(input('Total Bill: '))}\n",
    "    daftar_pembelian[antrian] = data_pembelian\n",
    "    lanjut = input('Tambah Pelanggan lain: ')\n",
    "    if lanjut == 'tidak':\n",
    "        break\n",
    "\n",
    "print('\\nDaftar Pembelian Cafe ABCD')\n",
    "print(daftar_pembelian)\n",
    "\n",
    "total_pelanggan = len(daftar_pembelian)\n",
    "total_pemasukan = sum(info['Bill']for info in daftar_pembelian.values())\n",
    "print(f\"\\nTotal Pelanggan: {total_pelanggan} orang\")\n",
    "print(f\"Total Pemasukan: Rp. {total_pemasukan}\")"
   ]
  },
  {
   "cell_type": "code",
   "execution_count": null,
   "id": "dae616e8-0a4d-4cc4-9b26-e601fe8ace75",
   "metadata": {},
   "outputs": [],
   "source": []
  }
 ],
 "metadata": {
  "kernelspec": {
   "display_name": "Python [conda env:base] *",
   "language": "python",
   "name": "conda-base-py"
  },
  "language_info": {
   "codemirror_mode": {
    "name": "ipython",
    "version": 3
   },
   "file_extension": ".py",
   "mimetype": "text/x-python",
   "name": "python",
   "nbconvert_exporter": "python",
   "pygments_lexer": "ipython3",
   "version": "3.12.3"
  }
 },
 "nbformat": 4,
 "nbformat_minor": 5
}
